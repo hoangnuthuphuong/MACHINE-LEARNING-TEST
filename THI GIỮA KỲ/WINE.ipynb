{
  "nbformat": 4,
  "nbformat_minor": 0,
  "metadata": {
    "colab": {
      "provenance": [],
      "authorship_tag": "ABX9TyOCePv7eeXhy/GV9ePBqLM7",
      "include_colab_link": true
    },
    "kernelspec": {
      "name": "python3",
      "display_name": "Python 3"
    },
    "language_info": {
      "name": "python"
    }
  },
  "cells": [
    {
      "cell_type": "markdown",
      "metadata": {
        "id": "view-in-github",
        "colab_type": "text"
      },
      "source": [
        "<a href=\"https://colab.research.google.com/github/hoangnuthuphuong/MACHINE-LEARNING-TEST/blob/main/THI%20GI%E1%BB%AEA%20K%E1%BB%B2/WINE.ipynb\" target=\"_parent\"><img src=\"https://colab.research.google.com/assets/colab-badge.svg\" alt=\"Open In Colab\"/></a>"
      ]
    },
    {
      "cell_type": "markdown",
      "source": [
        "#**WINE**\n",
        "\n",
        "Tập dữ liệu [Wine](https://archive.ics.uci.edu/ml/datasets/Wine) nói về dữ liệu về 3 loại rượu vang(Barbera, Barolo và Grignolino) được trồng ở vùng Piedmont, Ý: Phân tích đã xác định số lượng của 13 thành phần được tìm thấy trong mỗi loại trong số ba loại rượu vang.\n",
        "\n",
        "Có 14 biến (1 biến phân loại và 13 biến feature):\n",
        "> class (biến nhãn lớp)\n",
        "\n",
        "> 1) Alcohol\n",
        "\n",
        ">\t2) Malic acid\n",
        "\n",
        ">\t3) Ash\n",
        "\n",
        "> 4) Alcalinity of ash  \n",
        "\n",
        ">\t5) Magnesium\n",
        "\n",
        "> 6) Total phenols\n",
        "\n",
        ">\t7) Flavanoids\n",
        "\n",
        ">\t8) Nonflavanoid phenols\n",
        "\n",
        ">\t9) Proanthocyanins\n",
        "\n",
        "> 10)Color intensity\n",
        "\n",
        ">\t11)Hue\n",
        "\n",
        ">\t12)OD280/OD315 of diluted wines\n",
        "\n",
        ">\t13)Proline\n",
        "\n",
        "**NOTE**\n",
        "\n",
        "* Biến class có 3 nhãn lớp là 1,2 và 3. Trong đó:\n",
        "\n",
        "> Nhãn lớp 1 có 59 quan sát \n",
        "\n",
        "> Nhãn lớp 2 có 71 quan sát \n",
        "\n",
        "> Nhãn lớp 3 có 48 quan sát. \n",
        "\n",
        "(Mỗi quan sát chính là một dòng)\n",
        "\n",
        "* Ngoài biến class (cột đầu tiên), các biến còn lại đều là biến liên tục và có thể nằm ở các miền giá trị khác nhau.\n",
        "\n",
        "* Không có giá trị missing (giá trị bị thiếu)"
      ],
      "metadata": {
        "id": "8TIMXpwoOoFA"
      }
    },
    {
      "cell_type": "markdown",
      "source": [
        "**Tập dữ liệu Wine phục vụ cho bài toán phân lớp đa nhãn**"
      ],
      "metadata": {
        "id": "BA4KEBfmzTvC"
      }
    },
    {
      "cell_type": "markdown",
      "source": [
        "Tập thuộc tính Class đóng vai trò nhãn lớp, chẩn đoán xem thuộc loại rượu nào.\n",
        "\n",
        "> Barbera\n",
        "\n",
        "> Barolo \n",
        "\n",
        "> Grignolino"
      ],
      "metadata": {
        "id": "Xnjhu61t0G-C"
      }
    },
    {
      "cell_type": "markdown",
      "source": [
        "Thuộc tính **Class** không cần thiết trong huấn luyện vì đóng vai trò là nhãn lớp"
      ],
      "metadata": {
        "id": "79PQXENUuAhG"
      }
    },
    {
      "cell_type": "code",
      "execution_count": 258,
      "metadata": {
        "id": "kQc1G-C8Ohs7"
      },
      "outputs": [],
      "source": [
        "import numpy as np\n",
        "import pandas as pd\n",
        "import matplotlib.pyplot as plt\n",
        "import seaborn as sns\n",
        "\n",
        "# Sklearn processing\n",
        "from sklearn.preprocessing import MinMaxScaler, StandardScaler\n",
        "from sklearn.model_selection import train_test_split\n",
        "from sklearn.model_selection import cross_val_score\n",
        "\n",
        "# Sklearn classification model evaluation functions\n",
        "from sklearn.metrics import classification_report\n",
        "from sklearn.metrics import accuracy_score\n",
        "from sklearn.metrics import confusion_matrix\n",
        "from sklearn.metrics import precision_score, recall_score, f1_score"
      ]
    },
    {
      "cell_type": "markdown",
      "source": [
        "# **ĐỌC VÀ XỬ LÍ DỮ LIỆU**"
      ],
      "metadata": {
        "id": "n7zYX0-t253Y"
      }
    },
    {
      "cell_type": "code",
      "source": [
        "data = pd.read_csv('/content/wine.data', header=None, sep=',')\n",
        "data.columns = ['Class','Alcohol','Malic_acid','Ash','Alcalinity_of_ash','Magnesium','Total_phenols','Flavanoids','Nonflavanoid_phenols','Proanthocyanins','Color_intensity','Hue','OD280/OD315','Proline']\n",
        "data.head(10)"
      ],
      "metadata": {
        "colab": {
          "base_uri": "https://localhost:8080/",
          "height": 363
        },
        "id": "ffSop8YX234a",
        "outputId": "2269f617-d75e-4290-8ef2-6c8c7de240a4"
      },
      "execution_count": 172,
      "outputs": [
        {
          "output_type": "execute_result",
          "data": {
            "text/plain": [
              "   Class  Alcohol  Malic_acid   Ash  Alcalinity_of_ash  Magnesium  \\\n",
              "0      1    14.23        1.71  2.43               15.6        127   \n",
              "1      1    13.20        1.78  2.14               11.2        100   \n",
              "2      1    13.16        2.36  2.67               18.6        101   \n",
              "3      1    14.37        1.95  2.50               16.8        113   \n",
              "4      1    13.24        2.59  2.87               21.0        118   \n",
              "5      1    14.20        1.76  2.45               15.2        112   \n",
              "6      1    14.39        1.87  2.45               14.6         96   \n",
              "7      1    14.06        2.15  2.61               17.6        121   \n",
              "8      1    14.83        1.64  2.17               14.0         97   \n",
              "9      1    13.86        1.35  2.27               16.0         98   \n",
              "\n",
              "   Total_phenols  Flavanoids  Nonflavanoid_phenols  Proanthocyanins  \\\n",
              "0           2.80        3.06                  0.28             2.29   \n",
              "1           2.65        2.76                  0.26             1.28   \n",
              "2           2.80        3.24                  0.30             2.81   \n",
              "3           3.85        3.49                  0.24             2.18   \n",
              "4           2.80        2.69                  0.39             1.82   \n",
              "5           3.27        3.39                  0.34             1.97   \n",
              "6           2.50        2.52                  0.30             1.98   \n",
              "7           2.60        2.51                  0.31             1.25   \n",
              "8           2.80        2.98                  0.29             1.98   \n",
              "9           2.98        3.15                  0.22             1.85   \n",
              "\n",
              "   Color_intensity   Hue  OD280/OD315  Proline  \n",
              "0             5.64  1.04         3.92     1065  \n",
              "1             4.38  1.05         3.40     1050  \n",
              "2             5.68  1.03         3.17     1185  \n",
              "3             7.80  0.86         3.45     1480  \n",
              "4             4.32  1.04         2.93      735  \n",
              "5             6.75  1.05         2.85     1450  \n",
              "6             5.25  1.02         3.58     1290  \n",
              "7             5.05  1.06         3.58     1295  \n",
              "8             5.20  1.08         2.85     1045  \n",
              "9             7.22  1.01         3.55     1045  "
            ],
            "text/html": [
              "\n",
              "  <div id=\"df-370f1b93-d443-4478-ab2c-8e9008856371\">\n",
              "    <div class=\"colab-df-container\">\n",
              "      <div>\n",
              "<style scoped>\n",
              "    .dataframe tbody tr th:only-of-type {\n",
              "        vertical-align: middle;\n",
              "    }\n",
              "\n",
              "    .dataframe tbody tr th {\n",
              "        vertical-align: top;\n",
              "    }\n",
              "\n",
              "    .dataframe thead th {\n",
              "        text-align: right;\n",
              "    }\n",
              "</style>\n",
              "<table border=\"1\" class=\"dataframe\">\n",
              "  <thead>\n",
              "    <tr style=\"text-align: right;\">\n",
              "      <th></th>\n",
              "      <th>Class</th>\n",
              "      <th>Alcohol</th>\n",
              "      <th>Malic_acid</th>\n",
              "      <th>Ash</th>\n",
              "      <th>Alcalinity_of_ash</th>\n",
              "      <th>Magnesium</th>\n",
              "      <th>Total_phenols</th>\n",
              "      <th>Flavanoids</th>\n",
              "      <th>Nonflavanoid_phenols</th>\n",
              "      <th>Proanthocyanins</th>\n",
              "      <th>Color_intensity</th>\n",
              "      <th>Hue</th>\n",
              "      <th>OD280/OD315</th>\n",
              "      <th>Proline</th>\n",
              "    </tr>\n",
              "  </thead>\n",
              "  <tbody>\n",
              "    <tr>\n",
              "      <th>0</th>\n",
              "      <td>1</td>\n",
              "      <td>14.23</td>\n",
              "      <td>1.71</td>\n",
              "      <td>2.43</td>\n",
              "      <td>15.6</td>\n",
              "      <td>127</td>\n",
              "      <td>2.80</td>\n",
              "      <td>3.06</td>\n",
              "      <td>0.28</td>\n",
              "      <td>2.29</td>\n",
              "      <td>5.64</td>\n",
              "      <td>1.04</td>\n",
              "      <td>3.92</td>\n",
              "      <td>1065</td>\n",
              "    </tr>\n",
              "    <tr>\n",
              "      <th>1</th>\n",
              "      <td>1</td>\n",
              "      <td>13.20</td>\n",
              "      <td>1.78</td>\n",
              "      <td>2.14</td>\n",
              "      <td>11.2</td>\n",
              "      <td>100</td>\n",
              "      <td>2.65</td>\n",
              "      <td>2.76</td>\n",
              "      <td>0.26</td>\n",
              "      <td>1.28</td>\n",
              "      <td>4.38</td>\n",
              "      <td>1.05</td>\n",
              "      <td>3.40</td>\n",
              "      <td>1050</td>\n",
              "    </tr>\n",
              "    <tr>\n",
              "      <th>2</th>\n",
              "      <td>1</td>\n",
              "      <td>13.16</td>\n",
              "      <td>2.36</td>\n",
              "      <td>2.67</td>\n",
              "      <td>18.6</td>\n",
              "      <td>101</td>\n",
              "      <td>2.80</td>\n",
              "      <td>3.24</td>\n",
              "      <td>0.30</td>\n",
              "      <td>2.81</td>\n",
              "      <td>5.68</td>\n",
              "      <td>1.03</td>\n",
              "      <td>3.17</td>\n",
              "      <td>1185</td>\n",
              "    </tr>\n",
              "    <tr>\n",
              "      <th>3</th>\n",
              "      <td>1</td>\n",
              "      <td>14.37</td>\n",
              "      <td>1.95</td>\n",
              "      <td>2.50</td>\n",
              "      <td>16.8</td>\n",
              "      <td>113</td>\n",
              "      <td>3.85</td>\n",
              "      <td>3.49</td>\n",
              "      <td>0.24</td>\n",
              "      <td>2.18</td>\n",
              "      <td>7.80</td>\n",
              "      <td>0.86</td>\n",
              "      <td>3.45</td>\n",
              "      <td>1480</td>\n",
              "    </tr>\n",
              "    <tr>\n",
              "      <th>4</th>\n",
              "      <td>1</td>\n",
              "      <td>13.24</td>\n",
              "      <td>2.59</td>\n",
              "      <td>2.87</td>\n",
              "      <td>21.0</td>\n",
              "      <td>118</td>\n",
              "      <td>2.80</td>\n",
              "      <td>2.69</td>\n",
              "      <td>0.39</td>\n",
              "      <td>1.82</td>\n",
              "      <td>4.32</td>\n",
              "      <td>1.04</td>\n",
              "      <td>2.93</td>\n",
              "      <td>735</td>\n",
              "    </tr>\n",
              "    <tr>\n",
              "      <th>5</th>\n",
              "      <td>1</td>\n",
              "      <td>14.20</td>\n",
              "      <td>1.76</td>\n",
              "      <td>2.45</td>\n",
              "      <td>15.2</td>\n",
              "      <td>112</td>\n",
              "      <td>3.27</td>\n",
              "      <td>3.39</td>\n",
              "      <td>0.34</td>\n",
              "      <td>1.97</td>\n",
              "      <td>6.75</td>\n",
              "      <td>1.05</td>\n",
              "      <td>2.85</td>\n",
              "      <td>1450</td>\n",
              "    </tr>\n",
              "    <tr>\n",
              "      <th>6</th>\n",
              "      <td>1</td>\n",
              "      <td>14.39</td>\n",
              "      <td>1.87</td>\n",
              "      <td>2.45</td>\n",
              "      <td>14.6</td>\n",
              "      <td>96</td>\n",
              "      <td>2.50</td>\n",
              "      <td>2.52</td>\n",
              "      <td>0.30</td>\n",
              "      <td>1.98</td>\n",
              "      <td>5.25</td>\n",
              "      <td>1.02</td>\n",
              "      <td>3.58</td>\n",
              "      <td>1290</td>\n",
              "    </tr>\n",
              "    <tr>\n",
              "      <th>7</th>\n",
              "      <td>1</td>\n",
              "      <td>14.06</td>\n",
              "      <td>2.15</td>\n",
              "      <td>2.61</td>\n",
              "      <td>17.6</td>\n",
              "      <td>121</td>\n",
              "      <td>2.60</td>\n",
              "      <td>2.51</td>\n",
              "      <td>0.31</td>\n",
              "      <td>1.25</td>\n",
              "      <td>5.05</td>\n",
              "      <td>1.06</td>\n",
              "      <td>3.58</td>\n",
              "      <td>1295</td>\n",
              "    </tr>\n",
              "    <tr>\n",
              "      <th>8</th>\n",
              "      <td>1</td>\n",
              "      <td>14.83</td>\n",
              "      <td>1.64</td>\n",
              "      <td>2.17</td>\n",
              "      <td>14.0</td>\n",
              "      <td>97</td>\n",
              "      <td>2.80</td>\n",
              "      <td>2.98</td>\n",
              "      <td>0.29</td>\n",
              "      <td>1.98</td>\n",
              "      <td>5.20</td>\n",
              "      <td>1.08</td>\n",
              "      <td>2.85</td>\n",
              "      <td>1045</td>\n",
              "    </tr>\n",
              "    <tr>\n",
              "      <th>9</th>\n",
              "      <td>1</td>\n",
              "      <td>13.86</td>\n",
              "      <td>1.35</td>\n",
              "      <td>2.27</td>\n",
              "      <td>16.0</td>\n",
              "      <td>98</td>\n",
              "      <td>2.98</td>\n",
              "      <td>3.15</td>\n",
              "      <td>0.22</td>\n",
              "      <td>1.85</td>\n",
              "      <td>7.22</td>\n",
              "      <td>1.01</td>\n",
              "      <td>3.55</td>\n",
              "      <td>1045</td>\n",
              "    </tr>\n",
              "  </tbody>\n",
              "</table>\n",
              "</div>\n",
              "      <button class=\"colab-df-convert\" onclick=\"convertToInteractive('df-370f1b93-d443-4478-ab2c-8e9008856371')\"\n",
              "              title=\"Convert this dataframe to an interactive table.\"\n",
              "              style=\"display:none;\">\n",
              "        \n",
              "  <svg xmlns=\"http://www.w3.org/2000/svg\" height=\"24px\"viewBox=\"0 0 24 24\"\n",
              "       width=\"24px\">\n",
              "    <path d=\"M0 0h24v24H0V0z\" fill=\"none\"/>\n",
              "    <path d=\"M18.56 5.44l.94 2.06.94-2.06 2.06-.94-2.06-.94-.94-2.06-.94 2.06-2.06.94zm-11 1L8.5 8.5l.94-2.06 2.06-.94-2.06-.94L8.5 2.5l-.94 2.06-2.06.94zm10 10l.94 2.06.94-2.06 2.06-.94-2.06-.94-.94-2.06-.94 2.06-2.06.94z\"/><path d=\"M17.41 7.96l-1.37-1.37c-.4-.4-.92-.59-1.43-.59-.52 0-1.04.2-1.43.59L10.3 9.45l-7.72 7.72c-.78.78-.78 2.05 0 2.83L4 21.41c.39.39.9.59 1.41.59.51 0 1.02-.2 1.41-.59l7.78-7.78 2.81-2.81c.8-.78.8-2.07 0-2.86zM5.41 20L4 18.59l7.72-7.72 1.47 1.35L5.41 20z\"/>\n",
              "  </svg>\n",
              "      </button>\n",
              "      \n",
              "  <style>\n",
              "    .colab-df-container {\n",
              "      display:flex;\n",
              "      flex-wrap:wrap;\n",
              "      gap: 12px;\n",
              "    }\n",
              "\n",
              "    .colab-df-convert {\n",
              "      background-color: #E8F0FE;\n",
              "      border: none;\n",
              "      border-radius: 50%;\n",
              "      cursor: pointer;\n",
              "      display: none;\n",
              "      fill: #1967D2;\n",
              "      height: 32px;\n",
              "      padding: 0 0 0 0;\n",
              "      width: 32px;\n",
              "    }\n",
              "\n",
              "    .colab-df-convert:hover {\n",
              "      background-color: #E2EBFA;\n",
              "      box-shadow: 0px 1px 2px rgba(60, 64, 67, 0.3), 0px 1px 3px 1px rgba(60, 64, 67, 0.15);\n",
              "      fill: #174EA6;\n",
              "    }\n",
              "\n",
              "    [theme=dark] .colab-df-convert {\n",
              "      background-color: #3B4455;\n",
              "      fill: #D2E3FC;\n",
              "    }\n",
              "\n",
              "    [theme=dark] .colab-df-convert:hover {\n",
              "      background-color: #434B5C;\n",
              "      box-shadow: 0px 1px 3px 1px rgba(0, 0, 0, 0.15);\n",
              "      filter: drop-shadow(0px 1px 2px rgba(0, 0, 0, 0.3));\n",
              "      fill: #FFFFFF;\n",
              "    }\n",
              "  </style>\n",
              "\n",
              "      <script>\n",
              "        const buttonEl =\n",
              "          document.querySelector('#df-370f1b93-d443-4478-ab2c-8e9008856371 button.colab-df-convert');\n",
              "        buttonEl.style.display =\n",
              "          google.colab.kernel.accessAllowed ? 'block' : 'none';\n",
              "\n",
              "        async function convertToInteractive(key) {\n",
              "          const element = document.querySelector('#df-370f1b93-d443-4478-ab2c-8e9008856371');\n",
              "          const dataTable =\n",
              "            await google.colab.kernel.invokeFunction('convertToInteractive',\n",
              "                                                     [key], {});\n",
              "          if (!dataTable) return;\n",
              "\n",
              "          const docLinkHtml = 'Like what you see? Visit the ' +\n",
              "            '<a target=\"_blank\" href=https://colab.research.google.com/notebooks/data_table.ipynb>data table notebook</a>'\n",
              "            + ' to learn more about interactive tables.';\n",
              "          element.innerHTML = '';\n",
              "          dataTable['output_type'] = 'display_data';\n",
              "          await google.colab.output.renderOutput(dataTable, element);\n",
              "          const docLink = document.createElement('div');\n",
              "          docLink.innerHTML = docLinkHtml;\n",
              "          element.appendChild(docLink);\n",
              "        }\n",
              "      </script>\n",
              "    </div>\n",
              "  </div>\n",
              "  "
            ]
          },
          "metadata": {},
          "execution_count": 172
        }
      ]
    },
    {
      "cell_type": "markdown",
      "source": [
        "Kiểm tra thông tin và kích thước của tập dữ liệu"
      ],
      "metadata": {
        "id": "Q377sGST57af"
      }
    },
    {
      "cell_type": "code",
      "source": [
        "data.info()\n",
        "data.shape"
      ],
      "metadata": {
        "colab": {
          "base_uri": "https://localhost:8080/"
        },
        "id": "PXEu0uIN3FZq",
        "outputId": "11e9c5d3-8889-414b-ad4c-cd2e75121d39"
      },
      "execution_count": 173,
      "outputs": [
        {
          "output_type": "stream",
          "name": "stdout",
          "text": [
            "<class 'pandas.core.frame.DataFrame'>\n",
            "RangeIndex: 178 entries, 0 to 177\n",
            "Data columns (total 14 columns):\n",
            " #   Column                Non-Null Count  Dtype  \n",
            "---  ------                --------------  -----  \n",
            " 0   Class                 178 non-null    int64  \n",
            " 1   Alcohol               178 non-null    float64\n",
            " 2   Malic_acid            178 non-null    float64\n",
            " 3   Ash                   178 non-null    float64\n",
            " 4   Alcalinity_of_ash     178 non-null    float64\n",
            " 5   Magnesium             178 non-null    int64  \n",
            " 6   Total_phenols         178 non-null    float64\n",
            " 7   Flavanoids            178 non-null    float64\n",
            " 8   Nonflavanoid_phenols  178 non-null    float64\n",
            " 9   Proanthocyanins       178 non-null    float64\n",
            " 10  Color_intensity       178 non-null    float64\n",
            " 11  Hue                   178 non-null    float64\n",
            " 12  OD280/OD315           178 non-null    float64\n",
            " 13  Proline               178 non-null    int64  \n",
            "dtypes: float64(11), int64(3)\n",
            "memory usage: 19.6 KB\n"
          ]
        },
        {
          "output_type": "execute_result",
          "data": {
            "text/plain": [
              "(178, 14)"
            ]
          },
          "metadata": {},
          "execution_count": 173
        }
      ]
    },
    {
      "cell_type": "markdown",
      "source": [
        "Qua  hàm **data.info()** => ta có thể thấy được tập dữ liệu không có giá trị missing hay null/NaN."
      ],
      "metadata": {
        "id": "mIxLmHQf6EAG"
      }
    },
    {
      "cell_type": "code",
      "source": [
        "from sklearn.preprocessing import LabelEncoder\n",
        "# Biến nhãn lớp Class\n",
        "y = data[\"Class\"]         \n",
        "# Biến dữ liệu sau khi xóa bỏ thuộc tính không cần thiết và thuộc tính nhãn lớp\n",
        "X = data.drop([\"Class\"], axis=1) \n",
        "# Chuẩn hóa y\n",
        "y = LabelEncoder().fit_transform(y)"
      ],
      "metadata": {
        "id": "yaKXobGJ59Ig"
      },
      "execution_count": 177,
      "outputs": []
    },
    {
      "cell_type": "code",
      "source": [
        "y"
      ],
      "metadata": {
        "colab": {
          "base_uri": "https://localhost:8080/"
        },
        "id": "mknPCX2T6pK9",
        "outputId": "a3ec552c-e1c0-47a0-8c0a-ff9231df30c1"
      },
      "execution_count": 178,
      "outputs": [
        {
          "output_type": "execute_result",
          "data": {
            "text/plain": [
              "array([0, 0, 0, 0, 0, 0, 0, 0, 0, 0, 0, 0, 0, 0, 0, 0, 0, 0, 0, 0, 0, 0,\n",
              "       0, 0, 0, 0, 0, 0, 0, 0, 0, 0, 0, 0, 0, 0, 0, 0, 0, 0, 0, 0, 0, 0,\n",
              "       0, 0, 0, 0, 0, 0, 0, 0, 0, 0, 0, 0, 0, 0, 0, 1, 1, 1, 1, 1, 1, 1,\n",
              "       1, 1, 1, 1, 1, 1, 1, 1, 1, 1, 1, 1, 1, 1, 1, 1, 1, 1, 1, 1, 1, 1,\n",
              "       1, 1, 1, 1, 1, 1, 1, 1, 1, 1, 1, 1, 1, 1, 1, 1, 1, 1, 1, 1, 1, 1,\n",
              "       1, 1, 1, 1, 1, 1, 1, 1, 1, 1, 1, 1, 1, 1, 1, 1, 1, 1, 1, 1, 2, 2,\n",
              "       2, 2, 2, 2, 2, 2, 2, 2, 2, 2, 2, 2, 2, 2, 2, 2, 2, 2, 2, 2, 2, 2,\n",
              "       2, 2, 2, 2, 2, 2, 2, 2, 2, 2, 2, 2, 2, 2, 2, 2, 2, 2, 2, 2, 2, 2,\n",
              "       2, 2])"
            ]
          },
          "metadata": {},
          "execution_count": 178
        }
      ]
    },
    {
      "cell_type": "code",
      "source": [
        "X"
      ],
      "metadata": {
        "colab": {
          "base_uri": "https://localhost:8080/",
          "height": 423
        },
        "id": "hztxdvG96qWw",
        "outputId": "49a3df65-4cd1-4059-efbd-7f561a9c8831"
      },
      "execution_count": 175,
      "outputs": [
        {
          "output_type": "execute_result",
          "data": {
            "text/plain": [
              "     Alcohol  Malic_acid   Ash  Alcalinity_of_ash  Magnesium  Total_phenols  \\\n",
              "0      14.23        1.71  2.43               15.6        127           2.80   \n",
              "1      13.20        1.78  2.14               11.2        100           2.65   \n",
              "2      13.16        2.36  2.67               18.6        101           2.80   \n",
              "3      14.37        1.95  2.50               16.8        113           3.85   \n",
              "4      13.24        2.59  2.87               21.0        118           2.80   \n",
              "..       ...         ...   ...                ...        ...            ...   \n",
              "173    13.71        5.65  2.45               20.5         95           1.68   \n",
              "174    13.40        3.91  2.48               23.0        102           1.80   \n",
              "175    13.27        4.28  2.26               20.0        120           1.59   \n",
              "176    13.17        2.59  2.37               20.0        120           1.65   \n",
              "177    14.13        4.10  2.74               24.5         96           2.05   \n",
              "\n",
              "     Flavanoids  Nonflavanoid_phenols  Proanthocyanins  Color_intensity   Hue  \\\n",
              "0          3.06                  0.28             2.29             5.64  1.04   \n",
              "1          2.76                  0.26             1.28             4.38  1.05   \n",
              "2          3.24                  0.30             2.81             5.68  1.03   \n",
              "3          3.49                  0.24             2.18             7.80  0.86   \n",
              "4          2.69                  0.39             1.82             4.32  1.04   \n",
              "..          ...                   ...              ...              ...   ...   \n",
              "173        0.61                  0.52             1.06             7.70  0.64   \n",
              "174        0.75                  0.43             1.41             7.30  0.70   \n",
              "175        0.69                  0.43             1.35            10.20  0.59   \n",
              "176        0.68                  0.53             1.46             9.30  0.60   \n",
              "177        0.76                  0.56             1.35             9.20  0.61   \n",
              "\n",
              "     OD280/OD315  Proline  \n",
              "0           3.92     1065  \n",
              "1           3.40     1050  \n",
              "2           3.17     1185  \n",
              "3           3.45     1480  \n",
              "4           2.93      735  \n",
              "..           ...      ...  \n",
              "173         1.74      740  \n",
              "174         1.56      750  \n",
              "175         1.56      835  \n",
              "176         1.62      840  \n",
              "177         1.60      560  \n",
              "\n",
              "[178 rows x 13 columns]"
            ],
            "text/html": [
              "\n",
              "  <div id=\"df-0e60cb8e-9f44-4a88-a10a-d0466c52b3c2\">\n",
              "    <div class=\"colab-df-container\">\n",
              "      <div>\n",
              "<style scoped>\n",
              "    .dataframe tbody tr th:only-of-type {\n",
              "        vertical-align: middle;\n",
              "    }\n",
              "\n",
              "    .dataframe tbody tr th {\n",
              "        vertical-align: top;\n",
              "    }\n",
              "\n",
              "    .dataframe thead th {\n",
              "        text-align: right;\n",
              "    }\n",
              "</style>\n",
              "<table border=\"1\" class=\"dataframe\">\n",
              "  <thead>\n",
              "    <tr style=\"text-align: right;\">\n",
              "      <th></th>\n",
              "      <th>Alcohol</th>\n",
              "      <th>Malic_acid</th>\n",
              "      <th>Ash</th>\n",
              "      <th>Alcalinity_of_ash</th>\n",
              "      <th>Magnesium</th>\n",
              "      <th>Total_phenols</th>\n",
              "      <th>Flavanoids</th>\n",
              "      <th>Nonflavanoid_phenols</th>\n",
              "      <th>Proanthocyanins</th>\n",
              "      <th>Color_intensity</th>\n",
              "      <th>Hue</th>\n",
              "      <th>OD280/OD315</th>\n",
              "      <th>Proline</th>\n",
              "    </tr>\n",
              "  </thead>\n",
              "  <tbody>\n",
              "    <tr>\n",
              "      <th>0</th>\n",
              "      <td>14.23</td>\n",
              "      <td>1.71</td>\n",
              "      <td>2.43</td>\n",
              "      <td>15.6</td>\n",
              "      <td>127</td>\n",
              "      <td>2.80</td>\n",
              "      <td>3.06</td>\n",
              "      <td>0.28</td>\n",
              "      <td>2.29</td>\n",
              "      <td>5.64</td>\n",
              "      <td>1.04</td>\n",
              "      <td>3.92</td>\n",
              "      <td>1065</td>\n",
              "    </tr>\n",
              "    <tr>\n",
              "      <th>1</th>\n",
              "      <td>13.20</td>\n",
              "      <td>1.78</td>\n",
              "      <td>2.14</td>\n",
              "      <td>11.2</td>\n",
              "      <td>100</td>\n",
              "      <td>2.65</td>\n",
              "      <td>2.76</td>\n",
              "      <td>0.26</td>\n",
              "      <td>1.28</td>\n",
              "      <td>4.38</td>\n",
              "      <td>1.05</td>\n",
              "      <td>3.40</td>\n",
              "      <td>1050</td>\n",
              "    </tr>\n",
              "    <tr>\n",
              "      <th>2</th>\n",
              "      <td>13.16</td>\n",
              "      <td>2.36</td>\n",
              "      <td>2.67</td>\n",
              "      <td>18.6</td>\n",
              "      <td>101</td>\n",
              "      <td>2.80</td>\n",
              "      <td>3.24</td>\n",
              "      <td>0.30</td>\n",
              "      <td>2.81</td>\n",
              "      <td>5.68</td>\n",
              "      <td>1.03</td>\n",
              "      <td>3.17</td>\n",
              "      <td>1185</td>\n",
              "    </tr>\n",
              "    <tr>\n",
              "      <th>3</th>\n",
              "      <td>14.37</td>\n",
              "      <td>1.95</td>\n",
              "      <td>2.50</td>\n",
              "      <td>16.8</td>\n",
              "      <td>113</td>\n",
              "      <td>3.85</td>\n",
              "      <td>3.49</td>\n",
              "      <td>0.24</td>\n",
              "      <td>2.18</td>\n",
              "      <td>7.80</td>\n",
              "      <td>0.86</td>\n",
              "      <td>3.45</td>\n",
              "      <td>1480</td>\n",
              "    </tr>\n",
              "    <tr>\n",
              "      <th>4</th>\n",
              "      <td>13.24</td>\n",
              "      <td>2.59</td>\n",
              "      <td>2.87</td>\n",
              "      <td>21.0</td>\n",
              "      <td>118</td>\n",
              "      <td>2.80</td>\n",
              "      <td>2.69</td>\n",
              "      <td>0.39</td>\n",
              "      <td>1.82</td>\n",
              "      <td>4.32</td>\n",
              "      <td>1.04</td>\n",
              "      <td>2.93</td>\n",
              "      <td>735</td>\n",
              "    </tr>\n",
              "    <tr>\n",
              "      <th>...</th>\n",
              "      <td>...</td>\n",
              "      <td>...</td>\n",
              "      <td>...</td>\n",
              "      <td>...</td>\n",
              "      <td>...</td>\n",
              "      <td>...</td>\n",
              "      <td>...</td>\n",
              "      <td>...</td>\n",
              "      <td>...</td>\n",
              "      <td>...</td>\n",
              "      <td>...</td>\n",
              "      <td>...</td>\n",
              "      <td>...</td>\n",
              "    </tr>\n",
              "    <tr>\n",
              "      <th>173</th>\n",
              "      <td>13.71</td>\n",
              "      <td>5.65</td>\n",
              "      <td>2.45</td>\n",
              "      <td>20.5</td>\n",
              "      <td>95</td>\n",
              "      <td>1.68</td>\n",
              "      <td>0.61</td>\n",
              "      <td>0.52</td>\n",
              "      <td>1.06</td>\n",
              "      <td>7.70</td>\n",
              "      <td>0.64</td>\n",
              "      <td>1.74</td>\n",
              "      <td>740</td>\n",
              "    </tr>\n",
              "    <tr>\n",
              "      <th>174</th>\n",
              "      <td>13.40</td>\n",
              "      <td>3.91</td>\n",
              "      <td>2.48</td>\n",
              "      <td>23.0</td>\n",
              "      <td>102</td>\n",
              "      <td>1.80</td>\n",
              "      <td>0.75</td>\n",
              "      <td>0.43</td>\n",
              "      <td>1.41</td>\n",
              "      <td>7.30</td>\n",
              "      <td>0.70</td>\n",
              "      <td>1.56</td>\n",
              "      <td>750</td>\n",
              "    </tr>\n",
              "    <tr>\n",
              "      <th>175</th>\n",
              "      <td>13.27</td>\n",
              "      <td>4.28</td>\n",
              "      <td>2.26</td>\n",
              "      <td>20.0</td>\n",
              "      <td>120</td>\n",
              "      <td>1.59</td>\n",
              "      <td>0.69</td>\n",
              "      <td>0.43</td>\n",
              "      <td>1.35</td>\n",
              "      <td>10.20</td>\n",
              "      <td>0.59</td>\n",
              "      <td>1.56</td>\n",
              "      <td>835</td>\n",
              "    </tr>\n",
              "    <tr>\n",
              "      <th>176</th>\n",
              "      <td>13.17</td>\n",
              "      <td>2.59</td>\n",
              "      <td>2.37</td>\n",
              "      <td>20.0</td>\n",
              "      <td>120</td>\n",
              "      <td>1.65</td>\n",
              "      <td>0.68</td>\n",
              "      <td>0.53</td>\n",
              "      <td>1.46</td>\n",
              "      <td>9.30</td>\n",
              "      <td>0.60</td>\n",
              "      <td>1.62</td>\n",
              "      <td>840</td>\n",
              "    </tr>\n",
              "    <tr>\n",
              "      <th>177</th>\n",
              "      <td>14.13</td>\n",
              "      <td>4.10</td>\n",
              "      <td>2.74</td>\n",
              "      <td>24.5</td>\n",
              "      <td>96</td>\n",
              "      <td>2.05</td>\n",
              "      <td>0.76</td>\n",
              "      <td>0.56</td>\n",
              "      <td>1.35</td>\n",
              "      <td>9.20</td>\n",
              "      <td>0.61</td>\n",
              "      <td>1.60</td>\n",
              "      <td>560</td>\n",
              "    </tr>\n",
              "  </tbody>\n",
              "</table>\n",
              "<p>178 rows × 13 columns</p>\n",
              "</div>\n",
              "      <button class=\"colab-df-convert\" onclick=\"convertToInteractive('df-0e60cb8e-9f44-4a88-a10a-d0466c52b3c2')\"\n",
              "              title=\"Convert this dataframe to an interactive table.\"\n",
              "              style=\"display:none;\">\n",
              "        \n",
              "  <svg xmlns=\"http://www.w3.org/2000/svg\" height=\"24px\"viewBox=\"0 0 24 24\"\n",
              "       width=\"24px\">\n",
              "    <path d=\"M0 0h24v24H0V0z\" fill=\"none\"/>\n",
              "    <path d=\"M18.56 5.44l.94 2.06.94-2.06 2.06-.94-2.06-.94-.94-2.06-.94 2.06-2.06.94zm-11 1L8.5 8.5l.94-2.06 2.06-.94-2.06-.94L8.5 2.5l-.94 2.06-2.06.94zm10 10l.94 2.06.94-2.06 2.06-.94-2.06-.94-.94-2.06-.94 2.06-2.06.94z\"/><path d=\"M17.41 7.96l-1.37-1.37c-.4-.4-.92-.59-1.43-.59-.52 0-1.04.2-1.43.59L10.3 9.45l-7.72 7.72c-.78.78-.78 2.05 0 2.83L4 21.41c.39.39.9.59 1.41.59.51 0 1.02-.2 1.41-.59l7.78-7.78 2.81-2.81c.8-.78.8-2.07 0-2.86zM5.41 20L4 18.59l7.72-7.72 1.47 1.35L5.41 20z\"/>\n",
              "  </svg>\n",
              "      </button>\n",
              "      \n",
              "  <style>\n",
              "    .colab-df-container {\n",
              "      display:flex;\n",
              "      flex-wrap:wrap;\n",
              "      gap: 12px;\n",
              "    }\n",
              "\n",
              "    .colab-df-convert {\n",
              "      background-color: #E8F0FE;\n",
              "      border: none;\n",
              "      border-radius: 50%;\n",
              "      cursor: pointer;\n",
              "      display: none;\n",
              "      fill: #1967D2;\n",
              "      height: 32px;\n",
              "      padding: 0 0 0 0;\n",
              "      width: 32px;\n",
              "    }\n",
              "\n",
              "    .colab-df-convert:hover {\n",
              "      background-color: #E2EBFA;\n",
              "      box-shadow: 0px 1px 2px rgba(60, 64, 67, 0.3), 0px 1px 3px 1px rgba(60, 64, 67, 0.15);\n",
              "      fill: #174EA6;\n",
              "    }\n",
              "\n",
              "    [theme=dark] .colab-df-convert {\n",
              "      background-color: #3B4455;\n",
              "      fill: #D2E3FC;\n",
              "    }\n",
              "\n",
              "    [theme=dark] .colab-df-convert:hover {\n",
              "      background-color: #434B5C;\n",
              "      box-shadow: 0px 1px 3px 1px rgba(0, 0, 0, 0.15);\n",
              "      filter: drop-shadow(0px 1px 2px rgba(0, 0, 0, 0.3));\n",
              "      fill: #FFFFFF;\n",
              "    }\n",
              "  </style>\n",
              "\n",
              "      <script>\n",
              "        const buttonEl =\n",
              "          document.querySelector('#df-0e60cb8e-9f44-4a88-a10a-d0466c52b3c2 button.colab-df-convert');\n",
              "        buttonEl.style.display =\n",
              "          google.colab.kernel.accessAllowed ? 'block' : 'none';\n",
              "\n",
              "        async function convertToInteractive(key) {\n",
              "          const element = document.querySelector('#df-0e60cb8e-9f44-4a88-a10a-d0466c52b3c2');\n",
              "          const dataTable =\n",
              "            await google.colab.kernel.invokeFunction('convertToInteractive',\n",
              "                                                     [key], {});\n",
              "          if (!dataTable) return;\n",
              "\n",
              "          const docLinkHtml = 'Like what you see? Visit the ' +\n",
              "            '<a target=\"_blank\" href=https://colab.research.google.com/notebooks/data_table.ipynb>data table notebook</a>'\n",
              "            + ' to learn more about interactive tables.';\n",
              "          element.innerHTML = '';\n",
              "          dataTable['output_type'] = 'display_data';\n",
              "          await google.colab.output.renderOutput(dataTable, element);\n",
              "          const docLink = document.createElement('div');\n",
              "          docLink.innerHTML = docLinkHtml;\n",
              "          element.appendChild(docLink);\n",
              "        }\n",
              "      </script>\n",
              "    </div>\n",
              "  </div>\n",
              "  "
            ]
          },
          "metadata": {},
          "execution_count": 175
        }
      ]
    },
    {
      "cell_type": "markdown",
      "source": [
        "**KIỂM TRA CÂN BẰNG NHÃN LỚP**"
      ],
      "metadata": {
        "id": "kwFRiqSC6xw8"
      }
    },
    {
      "cell_type": "code",
      "source": [
        "# Biểu đồ đếm số trường hợp Ác tính (M - malignant) và Lành tính (B - benign)\n",
        "plt.title(\"CLASS LABEL BALANCE TEST\", size=20, color=\"darkblue\")\n",
        "ax = sns.countplot(y, label=\"Count\", palette=\"muted\", x=\"diagnosis\")\n",
        "a, b, c = y.value_counts()\n",
        "print('Số trường hợp là rượu Barbera: ', a)\n",
        "print('Số trường hợp là rượu Barolo: ', b)\n",
        "print('Số trường hợp là rượu Grignolino: ', c)\n",
        "ax.set_xticklabels([\"rượu Barbera\", \"rượu Barolo\", \"rượu Grignolino\",])"
      ],
      "metadata": {
        "colab": {
          "base_uri": "https://localhost:8080/",
          "height": 465
        },
        "id": "9nOP6xiW6r8f",
        "outputId": "6ba52e30-0d36-45cc-996d-39f549f1b368"
      },
      "execution_count": 53,
      "outputs": [
        {
          "output_type": "stream",
          "name": "stdout",
          "text": [
            "Số trường hợp là rượu Barbera:  71\n",
            "Số trường hợp là rượu Barolo:  59\n",
            "Số trường hợp là rượu Grignolino:  48\n"
          ]
        },
        {
          "output_type": "stream",
          "name": "stderr",
          "text": [
            "/usr/local/lib/python3.8/dist-packages/seaborn/_decorators.py:36: FutureWarning: Pass the following variable as a keyword arg: x. From version 0.12, the only valid positional argument will be `data`, and passing other arguments without an explicit keyword will result in an error or misinterpretation.\n",
            "  warnings.warn(\n"
          ]
        },
        {
          "output_type": "execute_result",
          "data": {
            "text/plain": [
              "[Text(0, 0, 'rượu Barbera'),\n",
              " Text(0, 0, 'rượu Barolo'),\n",
              " Text(0, 0, 'rượu Grignolino')]"
            ]
          },
          "metadata": {},
          "execution_count": 53
        },
        {
          "output_type": "display_data",
          "data": {
            "text/plain": [
              "<Figure size 432x288 with 1 Axes>"
            ],
            "image/png": "[encoded data removed]"
          },
          "metadata": {
            "needs_background": "light"
          }
        }
      ]
    },
    {
      "cell_type": "markdown",
      "source": [
        "=> **KẾT LUẬN:** NHÃN LỚP KHÔNG CÂN BẰNG"
      ],
      "metadata": {
        "id": "DkRsvP4O74rt"
      }
    },
    {
      "cell_type": "markdown",
      "source": [],
      "metadata": {
        "id": "B1VEIv1d77Bs"
      }
    },
    {
      "cell_type": "markdown",
      "source": [
        "# **CHIA TRAIN-TEST**\n"
      ],
      "metadata": {
        "id": "PwoK6T56Sibp"
      }
    },
    {
      "cell_type": "markdown",
      "source": [
        "Khi phân chia dữ liệu, trừ dữ liệu kiểu thời gian (có gắn với trục thời gian), ta nên dùng hàm **shuffle** và **random_state** để xáo trộn dữ liệu, nhằm đảm bảo tính ngẫu nhiên khi phân chia tập dữ liệu. Đặt trạng thái ngẫu nhiên cho phép thử nghiệm dễ dàng sao chép và đảm bảo kết quả trong cùng một tham số."
      ],
      "metadata": {
        "id": "HDP3EJYzhEAp"
      }
    },
    {
      "cell_type": "code",
      "source": [
        "# Phân chia train - test theo tỉ lệ 80% - 20%\n",
        "X_train, X_test, y_train, y_test = train_test_split(X, y, shuffle=True, test_size=0.2, random_state=9)\n",
        "\n",
        "# Chuẩn hóa dữ liệu\n",
        "sc_X = StandardScaler()\n",
        "X_train = sc_X.fit_transform(X_train)\n",
        "X_test = sc_X.transform(X_test)\n",
        "y_train \n",
        "y_test\n",
        "\n",
        "print(\"X_train\\n\",X_train[:5])\n",
        "print(\"\\nX_test\\n\",X_test[:5])\n",
        "print(\"\\ny_train\\n\",y_train)\n",
        "print(\"\\ny_test\\n\",y_test)"
      ],
      "metadata": {
        "colab": {
          "base_uri": "https://localhost:8080/"
        },
        "id": "_3uTL0nH6yUk",
        "outputId": "c74474fb-5bee-47b2-e538-8b87a2ac1a48"
      },
      "execution_count": 200,
      "outputs": [
        {
          "output_type": "stream",
          "name": "stdout",
          "text": [
            "X_train\n",
            " [[ 0.67718514  0.75888192  1.3197308   1.17073922 -0.16786703 -1.10501138\n",
            "  -1.45721116  1.05598524 -1.78083123 -0.28139172 -0.28227541 -0.71464501\n",
            "  -0.66137931]\n",
            " [ 0.72655508 -0.56075559  0.36863845  0.25780693  1.19220879  1.05960439\n",
            "   0.77085213 -1.30543057  1.53091585  0.55509447  0.10916119  0.62079392\n",
            "   1.30936588]\n",
            " [-0.84094035  0.44730084 -0.50929295 -0.50296997 -0.81211347  0.27665826\n",
            "   0.24834172 -0.91186127  0.72912445 -1.24995467  0.84854145  0.99251404\n",
            "  -1.41683163]\n",
            " [-1.66788675 -0.32248771 -0.2898101  -0.50296997 -0.09628409  1.1517157\n",
            "   0.2582004  -1.54157215 -0.38641141 -0.7656732   0.89203441  0.52442204\n",
            "  -1.23617999]\n",
            " [ 0.23285573  1.1254479  -0.76535628  0.40996231  0.19004766 -1.1817708\n",
            "  -1.42763509  0.50498822 -0.47356265 -0.43548128 -1.54357115 -1.23780665\n",
            "   0.35683904]]\n",
            "\n",
            "X_test\n",
            " [[ 0.98574723 -0.40496505  1.1734089  -0.77684965  1.12062585  1.12101193\n",
            "   0.78071082  0.19013277  0.18878677  0.57710726  0.76155554  0.48311981\n",
            "   2.14693259]\n",
            " [ 0.09708841 -0.524099   -0.94825865 -0.80728073  0.54796235  1.12101193\n",
            "   0.98774325 -0.67571969  0.79884544  0.02238484 -0.32576837  1.0613511\n",
            "   0.53749068]\n",
            " [ 1.05980214 -0.70738199  0.95392605  0.10565155  1.12062585  1.04425251\n",
            "   1.38209074  0.26884663  0.25850776  0.70918403  0.76155554 -0.01250701\n",
            "   1.34221163]\n",
            " [ 0.36862305  1.77610251 -0.36297105  0.10565155  1.47854054 -1.04360384\n",
            "  -1.28961347  0.50498822 -0.38641141  2.29410522 -1.58706411 -1.40301559\n",
            "   0.37326191]\n",
            " [ 1.541159    1.51034218  0.55154082 -1.96366162  2.05120405  1.12101193\n",
            "   1.027178   -1.30543057  0.88599668  0.04880019 -0.28227541  1.30916451\n",
            "   0.12691877]]\n",
            "\n",
            "y_train\n",
            " [2 0 1 1 2 0 0 2 2 0 0 0 2 0 2 1 1 0 1 1 0 1 2 1 0 1 1 2 1 1 0 2 2 0 0 1 0\n",
            " 2 2 1 1 2 1 1 0 2 2 2 1 1 2 2 0 1 1 2 1 2 0 2 1 1 1 0 1 2 1 1 0 1 0 2 1 0\n",
            " 1 0 2 1 1 0 2 1 1 0 2 1 0 0 0 2 1 1 1 0 1 1 1 0 0 1 2 2 0 0 2 1 2 0 1 0 2\n",
            " 2 1 0 2 1 0 2 2 1 0 2 1 0 0 1 1 1 1 2 1 1 0 1 0 1 1 2 0 2 1 1]\n",
            "\n",
            "y_test\n",
            " [0 0 0 2 0 0 2 2 2 1 2 0 2 1 1 0 1 1 0 0 0 0 0 0 0 2 1 1 0 1 0 1 1 0 1 2]\n"
          ]
        }
      ]
    },
    {
      "cell_type": "markdown",
      "source": [
        "**Xác định số lượng k-fold được xác định tùy thuộc vào số lượng y_train**"
      ],
      "metadata": {
        "id": "MOHKGugifIoY"
      }
    },
    {
      "cell_type": "code",
      "source": [
        "unique, counts = np.unique(y_train, return_counts=True)\n",
        "result = dict(zip(unique, counts))\n",
        "print(\"Số lượng k-fold được xác định\")\n",
        "print(result)"
      ],
      "metadata": {
        "colab": {
          "base_uri": "https://localhost:8080/"
        },
        "id": "lQZP6HI4Xdmn",
        "outputId": "98e6ca15-e3dc-4444-a1f0-88bab82d9f3c"
      },
      "execution_count": 91,
      "outputs": [
        {
          "output_type": "stream",
          "name": "stdout",
          "text": [
            "Số lượng k-fold được xác định\n",
            "{0: 42, 1: 60, 2: 40}\n"
          ]
        }
      ]
    },
    {
      "cell_type": "markdown",
      "source": [
        "Sử dụng **MinMaxScaler()** để xử lý trước dữ liệu trước khi gửi dữ liệu đến mô hình. Điều này chuẩn hóa nó thành phạm vi 0 đến 1 do đó loại bỏ các số âm."
      ],
      "metadata": {
        "id": "DxUc2d4IcHOC"
      }
    },
    {
      "cell_type": "code",
      "source": [
        "scaler = MinMaxScaler()\n",
        "X_train = scaler.fit_transform(X_train)\n",
        "X_test = scaler.transform(X_test)"
      ],
      "metadata": {
        "id": "yrhEqyj97KI_"
      },
      "execution_count": 180,
      "outputs": []
    },
    {
      "cell_type": "markdown",
      "source": [
        "#**MÔ HÌNH NAIVE BAYES**\n"
      ],
      "metadata": {
        "id": "ryAlv3RlMggO"
      }
    },
    {
      "cell_type": "code",
      "source": [
        "from sklearn.naive_bayes import MultinomialNB\n",
        "gnb = MultinomialNB()\n",
        "gnb_score = cross_val_score(gnb, X_train, y_train, cv=10, scoring=None)\n",
        "gnb.fit(X_train, y_train)\n",
        "y_pred = gnb.predict(X_test)\n",
        "print('Kết quả huấn luyện 10-fold cv của mô hình Naive Bayes:')\n",
        "print(gnb_score)"
      ],
      "metadata": {
        "colab": {
          "base_uri": "https://localhost:8080/"
        },
        "id": "W0KbUYENYm5V",
        "outputId": "a7b675fe-aef4-4e93-9cb5-82b427000363"
      },
      "execution_count": 259,
      "outputs": [
        {
          "output_type": "stream",
          "name": "stdout",
          "text": [
            "Kết quả huấn luyện 10-fold cv của mô hình Naive Bayes:\n",
            "[0.86666667 0.86666667 0.92857143 0.92857143 0.78571429 1.\n",
            " 0.85714286 0.85714286 1.         0.92857143]\n"
          ]
        }
      ]
    },
    {
      "cell_type": "markdown",
      "source": [
        "**KẾT QUẢ CÁC CHỈ SỐ ĐÁNH GIÁ HIỆU NĂNG MÔ HÌNH NAIVE BAYES**\n"
      ],
      "metadata": {
        "id": "v4cQkKDjMAZP"
      }
    },
    {
      "cell_type": "code",
      "source": [
        "acc_score_n=round(accuracy_score(y_test, y_pred),3)\n",
        "print(\"Accuracy: {}%\".format(round(100*accuracy_score(y_test, y_pred),3)))\n",
        "\n",
        "precision_sc_n=round(precision_score(y_test, y_pred, average='weighted'),5)\n",
        "print(\"\\nPrecision score: {}%\".format(100*precision_sc_n))\n",
        "print('Kết quả dự đoán precision_score:\\n',precision_score(y_test, y_pred,average=None))\n",
        "\n",
        "recall_cs_n=round(recall_score(y_test, y_pred, average='weighted'),3)\n",
        "print(\"\\nRecall score: {}%\".format(100*recall_cs_n))\n",
        "print('Kết quả dự đoán recall_score:\\n',recall_score(y_test, y_pred,average=None))\n",
        "\n",
        "f1_sc_n=round(f1_score(y_test, y_pred, average='weighted'),5)\n",
        "print(\"\\nF1 score: {}%\".format(100*f1_sc_n))\n",
        "print('Kết quả dự đoán f1_score:\\n',f1_score(y_test, y_pred,average=None))\n"
      ],
      "metadata": {
        "colab": {
          "base_uri": "https://localhost:8080/"
        },
        "id": "_rXm5VJTozPA",
        "outputId": "c09e1591-818c-46ed-8c12-2b3eba206963"
      },
      "execution_count": 260,
      "outputs": [
        {
          "output_type": "stream",
          "name": "stdout",
          "text": [
            "Accuracy: 88.889%\n",
            "\n",
            "Precision score: 91.852%\n",
            "Kết quả dự đoán precision_score:\n",
            " [1.         0.73333333 1.        ]\n",
            "\n",
            "Recall score: 88.9%\n",
            "Kết quả dự đoán recall_score:\n",
            " [0.76470588 1.         1.        ]\n",
            "\n",
            "F1 score: 89.003%\n",
            "Kết quả dự đoán f1_score:\n",
            " [0.86666667 0.84615385 1.        ]\n"
          ]
        }
      ]
    },
    {
      "cell_type": "code",
      "source": [
        "# Model Evaluation Metrics\n",
        "print(\"Confusion matrix:\")\n",
        "import itertools\n",
        "def plot_confusion_matrix(cm, classes, normalize=False, title='Confusion matrix', cmap=plt.cm.Blues):\n",
        "    if normalize:\n",
        "        cm = cm.astype('float') / cm.sum(axis=1)[:, np.newaxis]\n",
        "        print(\"Normalized confusion matrix\")\n",
        "    else:\n",
        "        print('Confusion matrix, without normalization')\n",
        "    print(cm)\n",
        "\n",
        "    plt.imshow(cm, interpolation='nearest', cmap=cmap)\n",
        "    plt.title(title)\n",
        "    plt.colorbar()\n",
        "    tick_marks = np.arange(len(classes))\n",
        "    plt.xticks(tick_marks, classes, rotation=45)\n",
        "    plt.yticks(tick_marks, classes)\n",
        "\n",
        "    fmt = '.2f' if normalize else 'd'\n",
        "    thresh = cm.max() / 2.\n",
        "    for i, j in itertools.product(range(cm.shape[0]), range(cm.shape[1])):\n",
        "        plt.text(j, i, format(cm[i, j], fmt),\n",
        "                 horizontalalignment=\"center\",\n",
        "                 color=\"white\" if cm[i, j] > thresh else \"black\")\n",
        "\n",
        "    plt.tight_layout()\n",
        "    plt.ylabel('True label')\n",
        "    plt.xlabel('Predicted label')\n",
        "    plt.show()\n",
        "\n",
        "confusion = confusion_matrix(y_test, y_pred)\n",
        "plot_confusion_matrix(confusion, classes=['Barbera', ' Barolo',' Grignolino'], title='Confusion matrix')"
      ],
      "metadata": {
        "colab": {
          "base_uri": "https://localhost:8080/",
          "height": 401
        },
        "id": "rKi7rzfIbzoN",
        "outputId": "a8dd977e-dd01-4862-c5e8-9f137784e516"
      },
      "execution_count": 261,
      "outputs": [
        {
          "output_type": "stream",
          "name": "stdout",
          "text": [
            "Confusion matrix:\n",
            "Confusion matrix, without normalization\n",
            "[[13  4  0]\n",
            " [ 0 11  0]\n",
            " [ 0  0  8]]\n"
          ]
        },
        {
          "output_type": "display_data",
          "data": {
            "text/plain": [
              "<Figure size 432x288 with 2 Axes>"
            ],
            "image/png": "[encoded data removed]"
          },
          "metadata": {
            "needs_background": "light"
          }
        }
      ]
    },
    {
      "cell_type": "code",
      "source": [
        "# Evaluate the model\n",
        "print(\"Naive Bayes\")    \n",
        "print(\"----------------------------------\")\n",
        "print(\"\\nAccuracy:\", accuracy_score(y_test, y_pred))\n",
        "print(\"\\nClassification report:\")\n",
        "print(classification_report(y_test, y_pred))"
      ],
      "metadata": {
        "colab": {
          "base_uri": "https://localhost:8080/"
        },
        "id": "cNZJ0xdpIRHA",
        "outputId": "8821f6e3-f0bd-4533-a97a-efc6d72c8d19"
      },
      "execution_count": 262,
      "outputs": [
        {
          "output_type": "stream",
          "name": "stdout",
          "text": [
            "Naive Bayes\n",
            "----------------------------------\n",
            "\n",
            "Accuracy: 0.8888888888888888\n",
            "\n",
            "Classification report:\n",
            "              precision    recall  f1-score   support\n",
            "\n",
            "           0       1.00      0.76      0.87        17\n",
            "           1       0.73      1.00      0.85        11\n",
            "           2       1.00      1.00      1.00         8\n",
            "\n",
            "    accuracy                           0.89        36\n",
            "   macro avg       0.91      0.92      0.90        36\n",
            "weighted avg       0.92      0.89      0.89        36\n",
            "\n"
          ]
        }
      ]
    },
    {
      "cell_type": "code",
      "source": [],
      "metadata": {
        "id": "zfeidpS_P5i3"
      },
      "execution_count": null,
      "outputs": []
    },
    {
      "cell_type": "markdown",
      "source": [
        "#**MÔ HÌNH k-NN**"
      ],
      "metadata": {
        "id": "pfuZYib-KxlU"
      }
    },
    {
      "cell_type": "code",
      "source": [
        "from sklearn.neighbors import KNeighborsClassifier\n",
        "knn = KNeighborsClassifier(n_neighbors = 1, p = 3)\n",
        "knn_score = cross_val_score(knn, X_train, y_train, cv=10, scoring=None)\n",
        "knn.fit(X_train, y_train)\n",
        "y_pred = knn.predict(X_test)\n",
        "print('Kết quả huấn luyên 10-fold cv của mô hình k-NN:')\n",
        "print(knn_score)"
      ],
      "metadata": {
        "colab": {
          "base_uri": "https://localhost:8080/"
        },
        "id": "yLQZ97KgaLjh",
        "outputId": "2b9fbf69-3009-4943-8dcc-dff5b88ec20e"
      },
      "execution_count": 263,
      "outputs": [
        {
          "output_type": "stream",
          "name": "stdout",
          "text": [
            "Kết quả huấn luyên 10-fold cv của mô hình k-NN:\n",
            "[1.         0.8        0.92857143 0.92857143 0.92857143 0.85714286\n",
            " 0.92857143 1.         1.         1.        ]\n"
          ]
        }
      ]
    },
    {
      "cell_type": "markdown",
      "source": [
        "**KẾT QUẢ CÁC CHỈ SỐ ĐÁNH GIÁ HIỆU NĂNG MÔ HÌNH K-NN**\n"
      ],
      "metadata": {
        "id": "qJSgI0uxMJlR"
      }
    },
    {
      "cell_type": "code",
      "source": [
        "acc_score_k=round(accuracy_score(y_test, y_pred),3)\n",
        "print(\"Accuracy: {}%\".format(round(100*accuracy_score(y_test, y_pred),3)))\n",
        "\n",
        "precision_sc_k=round(precision_score(y_test, y_pred, average='weighted'),5)\n",
        "print(\"\\nPrecision score: {}%\".format(100*precision_sc_k))\n",
        "print('Kết quả dự đoán precision_score:\\n',precision_score(y_test, y_pred,average=None))\n",
        "\n",
        "recall_cs_k=round(recall_score(y_test, y_pred, average='weighted'),3)\n",
        "print(\"\\nRecall score: {}%\".format(100*recall_cs_k))\n",
        "print('Kết quả dự đoán recall_score:\\n',recall_score(y_test, y_pred,average=None))\n",
        "\n",
        "f1_sc_k=round(f1_score(y_test, y_pred, average='weighted'),5)\n",
        "print(\"\\nF1 score: {}%\".format(100*f1_sc_k))\n",
        "print('Kết quả dự đoán f1_score:\\n',f1_score(y_test, y_pred,average=None))\n"
      ],
      "metadata": {
        "colab": {
          "base_uri": "https://localhost:8080/"
        },
        "id": "eiIV-fLaSKyp",
        "outputId": "7ab02e81-527c-43cf-962f-d844f97834c5"
      },
      "execution_count": 264,
      "outputs": [
        {
          "output_type": "stream",
          "name": "stdout",
          "text": [
            "Accuracy: 97.222%\n",
            "\n",
            "Precision score: 97.454%\n",
            "Kết quả dự đoán precision_score:\n",
            " [1.         0.91666667 1.        ]\n",
            "\n",
            "Recall score: 97.2%\n",
            "Kết quả dự đoán recall_score:\n",
            " [0.94117647 1.         1.        ]\n",
            "\n",
            "F1 score: 97.241%\n",
            "Kết quả dự đoán f1_score:\n",
            " [0.96969697 0.95652174 1.        ]\n"
          ]
        }
      ]
    },
    {
      "cell_type": "code",
      "source": [
        "print(\"Confusion matrix:\")\n",
        "confusion = confusion_matrix(y_test, y_pred)\n",
        "plot_confusion_matrix(confusion, classes=['Barbera', ' Barolo',' Grignolino'], title='Confusion matrix')"
      ],
      "metadata": {
        "colab": {
          "base_uri": "https://localhost:8080/",
          "height": 401
        },
        "id": "GKV-sJilLnhU",
        "outputId": "ad17c82a-09cb-4f97-aa1c-178291972f65"
      },
      "execution_count": 265,
      "outputs": [
        {
          "output_type": "stream",
          "name": "stdout",
          "text": [
            "Confusion matrix:\n",
            "Confusion matrix, without normalization\n",
            "[[16  1  0]\n",
            " [ 0 11  0]\n",
            " [ 0  0  8]]\n"
          ]
        },
        {
          "output_type": "display_data",
          "data": {
            "text/plain": [
              "<Figure size 432x288 with 2 Axes>"
            ],
            "image/png": "[encoded data removed]"
          },
          "metadata": {
            "needs_background": "light"
          }
        }
      ]
    },
    {
      "cell_type": "code",
      "source": [
        "# Evaluate the model\n",
        "print(\"MÔ HÌNH K LÂN CẬN\")    \n",
        "print(\"----------------------------------\")\n",
        "print(\"\\nAccuracy:\", accuracy_score(y_test, y_pred))\n",
        "print(\"\\nClassification report:\")\n",
        "print(classification_report(y_test, y_pred))"
      ],
      "metadata": {
        "colab": {
          "base_uri": "https://localhost:8080/"
        },
        "id": "cAQlggEnKBKC",
        "outputId": "8f1381e0-e031-41a8-eb52-61182c3d314b"
      },
      "execution_count": 266,
      "outputs": [
        {
          "output_type": "stream",
          "name": "stdout",
          "text": [
            "MÔ HÌNH K LÂN CẬN\n",
            "----------------------------------\n",
            "\n",
            "Accuracy: 0.9722222222222222\n",
            "\n",
            "Classification report:\n",
            "              precision    recall  f1-score   support\n",
            "\n",
            "           0       1.00      0.94      0.97        17\n",
            "           1       0.92      1.00      0.96        11\n",
            "           2       1.00      1.00      1.00         8\n",
            "\n",
            "    accuracy                           0.97        36\n",
            "   macro avg       0.97      0.98      0.98        36\n",
            "weighted avg       0.97      0.97      0.97        36\n",
            "\n"
          ]
        }
      ]
    },
    {
      "cell_type": "code",
      "source": [],
      "metadata": {
        "id": "N0cWMiUVm114"
      },
      "execution_count": null,
      "outputs": []
    },
    {
      "cell_type": "markdown",
      "source": [
        "# **KẾT QUẢ SO SÁNH CÁC MÔ HÌNH**"
      ],
      "metadata": {
        "id": "vBMGpnSAukNB"
      }
    },
    {
      "cell_type": "code",
      "source": [
        "knn_model = [acc_score_k, precision_sc_k, recall_cs_k, f1_sc_k]\n",
        "naiveb_model = [acc_score_n, precision_sc_n, recall_cs_n, f1_sc_n]\n",
        "data = {'k-NN model': knn_model, 'Naive Bayes model': naiveb_model}\n",
        "id = ['Accuracy', 'Precision', 'Recall', 'f1-measure ']\n",
        "df = pd.DataFrame(data=data, index = id)\n",
        "df"
      ],
      "metadata": {
        "colab": {
          "base_uri": "https://localhost:8080/",
          "height": 175
        },
        "id": "aWF6hcFzunRF",
        "outputId": "59673f84-cd0f-4664-dc76-5b0f07eb6c67"
      },
      "execution_count": 268,
      "outputs": [
        {
          "output_type": "execute_result",
          "data": {
            "text/plain": [
              "             k-NN model  Naive Bayes model\n",
              "Accuracy        0.97200            0.88900\n",
              "Precision       0.97454            0.91852\n",
              "Recall          0.97200            0.88900\n",
              "f1-measure      0.97241            0.89003"
            ],
            "text/html": [
              "\n",
              "  <div id=\"df-7e871f24-9bb5-4c38-87fe-d1669af0f8cb\">\n",
              "    <div class=\"colab-df-container\">\n",
              "      <div>\n",
              "<style scoped>\n",
              "    .dataframe tbody tr th:only-of-type {\n",
              "        vertical-align: middle;\n",
              "    }\n",
              "\n",
              "    .dataframe tbody tr th {\n",
              "        vertical-align: top;\n",
              "    }\n",
              "\n",
              "    .dataframe thead th {\n",
              "        text-align: right;\n",
              "    }\n",
              "</style>\n",
              "<table border=\"1\" class=\"dataframe\">\n",
              "  <thead>\n",
              "    <tr style=\"text-align: right;\">\n",
              "      <th></th>\n",
              "      <th>k-NN model</th>\n",
              "      <th>Naive Bayes model</th>\n",
              "    </tr>\n",
              "  </thead>\n",
              "  <tbody>\n",
              "    <tr>\n",
              "      <th>Accuracy</th>\n",
              "      <td>0.97200</td>\n",
              "      <td>0.88900</td>\n",
              "    </tr>\n",
              "    <tr>\n",
              "      <th>Precision</th>\n",
              "      <td>0.97454</td>\n",
              "      <td>0.91852</td>\n",
              "    </tr>\n",
              "    <tr>\n",
              "      <th>Recall</th>\n",
              "      <td>0.97200</td>\n",
              "      <td>0.88900</td>\n",
              "    </tr>\n",
              "    <tr>\n",
              "      <th>f1-measure</th>\n",
              "      <td>0.97241</td>\n",
              "      <td>0.89003</td>\n",
              "    </tr>\n",
              "  </tbody>\n",
              "</table>\n",
              "</div>\n",
              "      <button class=\"colab-df-convert\" onclick=\"convertToInteractive('df-7e871f24-9bb5-4c38-87fe-d1669af0f8cb')\"\n",
              "              title=\"Convert this dataframe to an interactive table.\"\n",
              "              style=\"display:none;\">\n",
              "        \n",
              "  <svg xmlns=\"http://www.w3.org/2000/svg\" height=\"24px\"viewBox=\"0 0 24 24\"\n",
              "       width=\"24px\">\n",
              "    <path d=\"M0 0h24v24H0V0z\" fill=\"none\"/>\n",
              "    <path d=\"M18.56 5.44l.94 2.06.94-2.06 2.06-.94-2.06-.94-.94-2.06-.94 2.06-2.06.94zm-11 1L8.5 8.5l.94-2.06 2.06-.94-2.06-.94L8.5 2.5l-.94 2.06-2.06.94zm10 10l.94 2.06.94-2.06 2.06-.94-2.06-.94-.94-2.06-.94 2.06-2.06.94z\"/><path d=\"M17.41 7.96l-1.37-1.37c-.4-.4-.92-.59-1.43-.59-.52 0-1.04.2-1.43.59L10.3 9.45l-7.72 7.72c-.78.78-.78 2.05 0 2.83L4 21.41c.39.39.9.59 1.41.59.51 0 1.02-.2 1.41-.59l7.78-7.78 2.81-2.81c.8-.78.8-2.07 0-2.86zM5.41 20L4 18.59l7.72-7.72 1.47 1.35L5.41 20z\"/>\n",
              "  </svg>\n",
              "      </button>\n",
              "      \n",
              "  <style>\n",
              "    .colab-df-container {\n",
              "      display:flex;\n",
              "      flex-wrap:wrap;\n",
              "      gap: 12px;\n",
              "    }\n",
              "\n",
              "    .colab-df-convert {\n",
              "      background-color: #E8F0FE;\n",
              "      border: none;\n",
              "      border-radius: 50%;\n",
              "      cursor: pointer;\n",
              "      display: none;\n",
              "      fill: #1967D2;\n",
              "      height: 32px;\n",
              "      padding: 0 0 0 0;\n",
              "      width: 32px;\n",
              "    }\n",
              "\n",
              "    .colab-df-convert:hover {\n",
              "      background-color: #E2EBFA;\n",
              "      box-shadow: 0px 1px 2px rgba(60, 64, 67, 0.3), 0px 1px 3px 1px rgba(60, 64, 67, 0.15);\n",
              "      fill: #174EA6;\n",
              "    }\n",
              "\n",
              "    [theme=dark] .colab-df-convert {\n",
              "      background-color: #3B4455;\n",
              "      fill: #D2E3FC;\n",
              "    }\n",
              "\n",
              "    [theme=dark] .colab-df-convert:hover {\n",
              "      background-color: #434B5C;\n",
              "      box-shadow: 0px 1px 3px 1px rgba(0, 0, 0, 0.15);\n",
              "      filter: drop-shadow(0px 1px 2px rgba(0, 0, 0, 0.3));\n",
              "      fill: #FFFFFF;\n",
              "    }\n",
              "  </style>\n",
              "\n",
              "      <script>\n",
              "        const buttonEl =\n",
              "          document.querySelector('#df-7e871f24-9bb5-4c38-87fe-d1669af0f8cb button.colab-df-convert');\n",
              "        buttonEl.style.display =\n",
              "          google.colab.kernel.accessAllowed ? 'block' : 'none';\n",
              "\n",
              "        async function convertToInteractive(key) {\n",
              "          const element = document.querySelector('#df-7e871f24-9bb5-4c38-87fe-d1669af0f8cb');\n",
              "          const dataTable =\n",
              "            await google.colab.kernel.invokeFunction('convertToInteractive',\n",
              "                                                     [key], {});\n",
              "          if (!dataTable) return;\n",
              "\n",
              "          const docLinkHtml = 'Like what you see? Visit the ' +\n",
              "            '<a target=\"_blank\" href=https://colab.research.google.com/notebooks/data_table.ipynb>data table notebook</a>'\n",
              "            + ' to learn more about interactive tables.';\n",
              "          element.innerHTML = '';\n",
              "          dataTable['output_type'] = 'display_data';\n",
              "          await google.colab.output.renderOutput(dataTable, element);\n",
              "          const docLink = document.createElement('div');\n",
              "          docLink.innerHTML = docLinkHtml;\n",
              "          element.appendChild(docLink);\n",
              "        }\n",
              "      </script>\n",
              "    </div>\n",
              "  </div>\n",
              "  "
            ]
          },
          "metadata": {},
          "execution_count": 268
        }
      ]
    },
    {
      "cell_type": "markdown",
      "source": [
        "Nhìn vào kết quả của bảng trên, ta có thể dễ dàng kết luận mô hình k lân cận vượt trội hơn so với mô hình Naive Bayes."
      ],
      "metadata": {
        "id": "A8ItXiyeyHbm"
      }
    },
    {
      "cell_type": "code",
      "source": [],
      "metadata": {
        "id": "0fJQPqTVyDDO"
      },
      "execution_count": null,
      "outputs": []
    }
  ]
}