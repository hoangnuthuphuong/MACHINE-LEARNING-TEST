{
  "nbformat": 4,
  "nbformat_minor": 0,
  "metadata": {
    "colab": {
      "provenance": [],
      "collapsed_sections": [
        "3CiBNZWpMGAG",
        "PwoK6T56Sibp"
      ],
      "authorship_tag": "ABX9TyN26aThGoDIkE2IEzyC997K",
      "include_colab_link": true
    },
    "kernelspec": {
      "name": "python3",
      "display_name": "Python 3"
    },
    "language_info": {
      "name": "python"
    }
  },
  "cells": [
    {
      "cell_type": "markdown",
      "metadata": {
        "id": "view-in-github",
        "colab_type": "text"
      },
      "source": [
        "<a href=\"https://colab.research.google.com/github/hoangnuthuphuong/MACHINE-LEARNING-TEST/blob/main/MACHINE-LEARNING-TEST/THI%20GI%E1%BB%AEA%20K%E1%BB%B2/BREAST_CANCER.ipynb\" target=\"_parent\"><img src=\"https://colab.research.google.com/assets/colab-badge.svg\" alt=\"Open In Colab\"/></a>"
      ]
    },
    {
      "cell_type": "markdown",
      "source": [
        "# **Giới thiệu kho dữ liệu UCI**\n",
        "Để xây dựng các mô hình phân lớp hữu hiệu, điều cần thiết là phải có bộ dữ liệu huấn luyện (dữ liệu đã được gán nhãn – do vậy các mô hình phân lớp còn được gọi là mô hình học có giám sát – supervised learning model). Những bộ dữ liệu huấn luyện tin cậy và hợp pháp (dữ liệu thu thập tuân thủ quy định của pháp luật.\n",
        "\n",
        "**Ví dụ:** dữ liệu về lĩnh vực y học phải tuân thủ các quy định về y đức) thường có giá thành rất cao. Trường đại học [University of California](https://uci.edu/), Irvine cung cấp kho dữ liệu miễn phí cho các nghiên cứu học máy được biết đến dưới tên gọi [UCI Machine Learning Repository](https://archive.ics.uci.edu/ml/index.php). Hầu hết các nghiên cứu về Học Máy đều sử dụng các tập dữ liệu này để huấn luyện và đánh giá mô hình.\n",
        "\n",
        "$$ ---$$\n",
        "\n"
      ],
      "metadata": {
        "id": "Q9UbdJ2jJ_et"
      }
    },
    {
      "cell_type": "markdown",
      "source": [
        "## **BREAST CANCER**"
      ],
      "metadata": {
        "id": "de-fEbVvLAaq"
      }
    },
    {
      "cell_type": "markdown",
      "source": [
        "Tập dữ liệu [**Breast Cancer Wisconsin**](https://archive.ics.uci.edu/ml/datasets/Breast+Cancer+Wisconsin+%28Diagnostic%29) có tiêu đề là **Cơ sở dữ liệu về ung thư vú của Wisconsin** (ngày 8 tháng 1 năm 1991). Bộ dữ liệu chứa 699 mẫu bệnh phẩm được lấy từ các tế bào ung thư vú của bệnh nhân Có 11 thuộc tính cho mỗi quan sát tương ứng với miền giá trị của nó\n",
        "\n",
        "\n",
        "\n",
        "> 1 Sample code number              (ID - Các con số dùng để định danh)\n",
        "\n",
        "> 2 Clump Thickness                 (1-10) (Tức là giá trị của nó là số nguyên nằm từ 1 đến 10)\n",
        "\n",
        "> 3 Uniformity of Cell Size         (1-10)\n",
        "\n",
        "> 4 Uniformity of Cell Shape        (1-10)\n",
        "\n",
        "> 5 Marginal Adhesion               (1-10)\n",
        "\n",
        "> 6 Single Epithelial Cell Size     (1-10)\n",
        "\n",
        "> 7 Bare Nuclei                     (1-10)\n",
        "\n",
        "> 8 Bland Chromatin                 (1-10)\n",
        "\n",
        "> 9 Normal Nucleoli                 (1-10)\n",
        "\n",
        "> 10 Mitoses                        (1-10)\n",
        "\n",
        "> 11 Class (2- cho bệnh lành tính và 4 - cho bệnh ác tính)\n",
        "\n",
        "**Lưu ý:**\n",
        "- Có 16 giá trị missing (giá trị bị thiếu) \n",
        "\n",
        "- Biến Class thể hiện chẩn đoán xem khối u lành tính (65,52% trường hợp), ác tính (34,48% trường hợp)\n",
        "\n",
        "\n",
        "**Tập dữ liệu BREAST CANCER phục vụ cho bài toán phân lớp nhị phân**"
      ],
      "metadata": {
        "id": "V7yjfvvbMOxo"
      }
    },
    {
      "cell_type": "markdown",
      "source": [
        "##Tập thuộc tính Class đóng vai trò **nhãn lớp**, chẩn đoán xem khối u lành tính hay ác tính.\n",
        "\n",
        "Nhưng vì tập thuộc tính này thể hiện qua các giá trị 2 (lành tính) và 4 (ác tính) nên ta cần biến đổi từng giá trị thành các đặc trưng nhị phân chỉ chứa giá trị 0 và 1.\n",
        "> **0 : lành tính**\n",
        "\n",
        "> **1 : ác tính**\n"
      ],
      "metadata": {
        "id": "0LqD5ok3GrHA"
      }
    },
    {
      "cell_type": "markdown",
      "source": [
        "Thuộc tính ID không cần thiết trong huấn luyện mô hình. Vì nó không được sử dụng để phân loại."
      ],
      "metadata": {
        "id": "wLzMHVEWMwGB"
      }
    },
    {
      "cell_type": "code",
      "source": [
        "import numpy as np\n",
        "import pandas as pd\n",
        "import matplotlib.pyplot as plt\n",
        "\n",
        "# Sklearn processing\n",
        "from sklearn.preprocessing import MinMaxScaler, StandardScaler\n",
        "from sklearn.model_selection import train_test_split\n",
        "from sklearn.model_selection import cross_val_score\n",
        "\n",
        "# Sklearn classification model evaluation functions\n",
        "from sklearn.metrics import classification_report\n",
        "from sklearn.metrics import accuracy_score\n",
        "from sklearn.metrics import confusion_matrix\n",
        "from sklearn.metrics import precision_score, recall_score, f1_score"
      ],
      "metadata": {
        "id": "5DMlLuAtSU25"
      },
      "execution_count": 30,
      "outputs": []
    },
    {
      "cell_type": "markdown",
      "source": [
        "# **ĐỌC VÀ XỬ LÍ DỮ LIỆU**"
      ],
      "metadata": {
        "id": "3CiBNZWpMGAG"
      }
    },
    {
      "cell_type": "code",
      "source": [
        "data = pd.read_csv('/content/breast-cancer-wisconsin.data', header=0, sep=',')\n",
        "data.columns = ['ID','Clump_Thickness','Cell_Size','Cell_Shape','Marginal_Adhesion','Single_Epithelial_Cell_Size','Bare_Nuclei','Bland_Chromatin','Normal_Nucleoli','Mitoses','Class']\n",
        "data.head(10)"
      ],
      "metadata": {
        "colab": {
          "base_uri": "https://localhost:8080/",
          "height": 363
        },
        "id": "QN63kb_bcPS8",
        "outputId": "02b3fc08-d8b3-4651-e9f5-c72ab4d346c8"
      },
      "execution_count": 3,
      "outputs": [
        {
          "output_type": "execute_result",
          "data": {
            "text/plain": [
              "        ID  Clump_Thickness  Cell_Size  Cell_Shape  Marginal_Adhesion  \\\n",
              "0  1000025                5          1           1                  1   \n",
              "1  1002945                5          4           4                  5   \n",
              "2  1015425                3          1           1                  1   \n",
              "3  1016277                6          8           8                  1   \n",
              "4  1017023                4          1           1                  3   \n",
              "5  1017122                8         10          10                  8   \n",
              "6  1018099                1          1           1                  1   \n",
              "7  1018561                2          1           2                  1   \n",
              "8  1033078                2          1           1                  1   \n",
              "9  1033078                4          2           1                  1   \n",
              "\n",
              "   Single_Epithelial_Cell_Size Bare_Nuclei  Bland_Chromatin  Normal_Nucleoli  \\\n",
              "0                            2           1                3                1   \n",
              "1                            7          10                3                2   \n",
              "2                            2           2                3                1   \n",
              "3                            3           4                3                7   \n",
              "4                            2           1                3                1   \n",
              "5                            7          10                9                7   \n",
              "6                            2          10                3                1   \n",
              "7                            2           1                3                1   \n",
              "8                            2           1                1                1   \n",
              "9                            2           1                2                1   \n",
              "\n",
              "   Mitoses  Class  \n",
              "0        1      2  \n",
              "1        1      2  \n",
              "2        1      2  \n",
              "3        1      2  \n",
              "4        1      2  \n",
              "5        1      4  \n",
              "6        1      2  \n",
              "7        1      2  \n",
              "8        5      2  \n",
              "9        1      2  "
            ],
            "text/html": [
              "\n",
              "  <div id=\"df-f119a38a-bf21-433a-bbb1-00857634806d\">\n",
              "    <div class=\"colab-df-container\">\n",
              "      <div>\n",
              "<style scoped>\n",
              "    .dataframe tbody tr th:only-of-type {\n",
              "        vertical-align: middle;\n",
              "    }\n",
              "\n",
              "    .dataframe tbody tr th {\n",
              "        vertical-align: top;\n",
              "    }\n",
              "\n",
              "    .dataframe thead th {\n",
              "        text-align: right;\n",
              "    }\n",
              "</style>\n",
              "<table border=\"1\" class=\"dataframe\">\n",
              "  <thead>\n",
              "    <tr style=\"text-align: right;\">\n",
              "      <th></th>\n",
              "      <th>ID</th>\n",
              "      <th>Clump_Thickness</th>\n",
              "      <th>Cell_Size</th>\n",
              "      <th>Cell_Shape</th>\n",
              "      <th>Marginal_Adhesion</th>\n",
              "      <th>Single_Epithelial_Cell_Size</th>\n",
              "      <th>Bare_Nuclei</th>\n",
              "      <th>Bland_Chromatin</th>\n",
              "      <th>Normal_Nucleoli</th>\n",
              "      <th>Mitoses</th>\n",
              "      <th>Class</th>\n",
              "    </tr>\n",
              "  </thead>\n",
              "  <tbody>\n",
              "    <tr>\n",
              "      <th>0</th>\n",
              "      <td>1000025</td>\n",
              "      <td>5</td>\n",
              "      <td>1</td>\n",
              "      <td>1</td>\n",
              "      <td>1</td>\n",
              "      <td>2</td>\n",
              "      <td>1</td>\n",
              "      <td>3</td>\n",
              "      <td>1</td>\n",
              "      <td>1</td>\n",
              "      <td>2</td>\n",
              "    </tr>\n",
              "    <tr>\n",
              "      <th>1</th>\n",
              "      <td>1002945</td>\n",
              "      <td>5</td>\n",
              "      <td>4</td>\n",
              "      <td>4</td>\n",
              "      <td>5</td>\n",
              "      <td>7</td>\n",
              "      <td>10</td>\n",
              "      <td>3</td>\n",
              "      <td>2</td>\n",
              "      <td>1</td>\n",
              "      <td>2</td>\n",
              "    </tr>\n",
              "    <tr>\n",
              "      <th>2</th>\n",
              "      <td>1015425</td>\n",
              "      <td>3</td>\n",
              "      <td>1</td>\n",
              "      <td>1</td>\n",
              "      <td>1</td>\n",
              "      <td>2</td>\n",
              "      <td>2</td>\n",
              "      <td>3</td>\n",
              "      <td>1</td>\n",
              "      <td>1</td>\n",
              "      <td>2</td>\n",
              "    </tr>\n",
              "    <tr>\n",
              "      <th>3</th>\n",
              "      <td>1016277</td>\n",
              "      <td>6</td>\n",
              "      <td>8</td>\n",
              "      <td>8</td>\n",
              "      <td>1</td>\n",
              "      <td>3</td>\n",
              "      <td>4</td>\n",
              "      <td>3</td>\n",
              "      <td>7</td>\n",
              "      <td>1</td>\n",
              "      <td>2</td>\n",
              "    </tr>\n",
              "    <tr>\n",
              "      <th>4</th>\n",
              "      <td>1017023</td>\n",
              "      <td>4</td>\n",
              "      <td>1</td>\n",
              "      <td>1</td>\n",
              "      <td>3</td>\n",
              "      <td>2</td>\n",
              "      <td>1</td>\n",
              "      <td>3</td>\n",
              "      <td>1</td>\n",
              "      <td>1</td>\n",
              "      <td>2</td>\n",
              "    </tr>\n",
              "    <tr>\n",
              "      <th>5</th>\n",
              "      <td>1017122</td>\n",
              "      <td>8</td>\n",
              "      <td>10</td>\n",
              "      <td>10</td>\n",
              "      <td>8</td>\n",
              "      <td>7</td>\n",
              "      <td>10</td>\n",
              "      <td>9</td>\n",
              "      <td>7</td>\n",
              "      <td>1</td>\n",
              "      <td>4</td>\n",
              "    </tr>\n",
              "    <tr>\n",
              "      <th>6</th>\n",
              "      <td>1018099</td>\n",
              "      <td>1</td>\n",
              "      <td>1</td>\n",
              "      <td>1</td>\n",
              "      <td>1</td>\n",
              "      <td>2</td>\n",
              "      <td>10</td>\n",
              "      <td>3</td>\n",
              "      <td>1</td>\n",
              "      <td>1</td>\n",
              "      <td>2</td>\n",
              "    </tr>\n",
              "    <tr>\n",
              "      <th>7</th>\n",
              "      <td>1018561</td>\n",
              "      <td>2</td>\n",
              "      <td>1</td>\n",
              "      <td>2</td>\n",
              "      <td>1</td>\n",
              "      <td>2</td>\n",
              "      <td>1</td>\n",
              "      <td>3</td>\n",
              "      <td>1</td>\n",
              "      <td>1</td>\n",
              "      <td>2</td>\n",
              "    </tr>\n",
              "    <tr>\n",
              "      <th>8</th>\n",
              "      <td>1033078</td>\n",
              "      <td>2</td>\n",
              "      <td>1</td>\n",
              "      <td>1</td>\n",
              "      <td>1</td>\n",
              "      <td>2</td>\n",
              "      <td>1</td>\n",
              "      <td>1</td>\n",
              "      <td>1</td>\n",
              "      <td>5</td>\n",
              "      <td>2</td>\n",
              "    </tr>\n",
              "    <tr>\n",
              "      <th>9</th>\n",
              "      <td>1033078</td>\n",
              "      <td>4</td>\n",
              "      <td>2</td>\n",
              "      <td>1</td>\n",
              "      <td>1</td>\n",
              "      <td>2</td>\n",
              "      <td>1</td>\n",
              "      <td>2</td>\n",
              "      <td>1</td>\n",
              "      <td>1</td>\n",
              "      <td>2</td>\n",
              "    </tr>\n",
              "  </tbody>\n",
              "</table>\n",
              "</div>\n",
              "      <button class=\"colab-df-convert\" onclick=\"convertToInteractive('df-f119a38a-bf21-433a-bbb1-00857634806d')\"\n",
              "              title=\"Convert this dataframe to an interactive table.\"\n",
              "              style=\"display:none;\">\n",
              "        \n",
              "  <svg xmlns=\"http://www.w3.org/2000/svg\" height=\"24px\"viewBox=\"0 0 24 24\"\n",
              "       width=\"24px\">\n",
              "    <path d=\"M0 0h24v24H0V0z\" fill=\"none\"/>\n",
              "    <path d=\"M18.56 5.44l.94 2.06.94-2.06 2.06-.94-2.06-.94-.94-2.06-.94 2.06-2.06.94zm-11 1L8.5 8.5l.94-2.06 2.06-.94-2.06-.94L8.5 2.5l-.94 2.06-2.06.94zm10 10l.94 2.06.94-2.06 2.06-.94-2.06-.94-.94-2.06-.94 2.06-2.06.94z\"/><path d=\"M17.41 7.96l-1.37-1.37c-.4-.4-.92-.59-1.43-.59-.52 0-1.04.2-1.43.59L10.3 9.45l-7.72 7.72c-.78.78-.78 2.05 0 2.83L4 21.41c.39.39.9.59 1.41.59.51 0 1.02-.2 1.41-.59l7.78-7.78 2.81-2.81c.8-.78.8-2.07 0-2.86zM5.41 20L4 18.59l7.72-7.72 1.47 1.35L5.41 20z\"/>\n",
              "  </svg>\n",
              "      </button>\n",
              "      \n",
              "  <style>\n",
              "    .colab-df-container {\n",
              "      display:flex;\n",
              "      flex-wrap:wrap;\n",
              "      gap: 12px;\n",
              "    }\n",
              "\n",
              "    .colab-df-convert {\n",
              "      background-color: #E8F0FE;\n",
              "      border: none;\n",
              "      border-radius: 50%;\n",
              "      cursor: pointer;\n",
              "      display: none;\n",
              "      fill: #1967D2;\n",
              "      height: 32px;\n",
              "      padding: 0 0 0 0;\n",
              "      width: 32px;\n",
              "    }\n",
              "\n",
              "    .colab-df-convert:hover {\n",
              "      background-color: #E2EBFA;\n",
              "      box-shadow: 0px 1px 2px rgba(60, 64, 67, 0.3), 0px 1px 3px 1px rgba(60, 64, 67, 0.15);\n",
              "      fill: #174EA6;\n",
              "    }\n",
              "\n",
              "    [theme=dark] .colab-df-convert {\n",
              "      background-color: #3B4455;\n",
              "      fill: #D2E3FC;\n",
              "    }\n",
              "\n",
              "    [theme=dark] .colab-df-convert:hover {\n",
              "      background-color: #434B5C;\n",
              "      box-shadow: 0px 1px 3px 1px rgba(0, 0, 0, 0.15);\n",
              "      filter: drop-shadow(0px 1px 2px rgba(0, 0, 0, 0.3));\n",
              "      fill: #FFFFFF;\n",
              "    }\n",
              "  </style>\n",
              "\n",
              "      <script>\n",
              "        const buttonEl =\n",
              "          document.querySelector('#df-f119a38a-bf21-433a-bbb1-00857634806d button.colab-df-convert');\n",
              "        buttonEl.style.display =\n",
              "          google.colab.kernel.accessAllowed ? 'block' : 'none';\n",
              "\n",
              "        async function convertToInteractive(key) {\n",
              "          const element = document.querySelector('#df-f119a38a-bf21-433a-bbb1-00857634806d');\n",
              "          const dataTable =\n",
              "            await google.colab.kernel.invokeFunction('convertToInteractive',\n",
              "                                                     [key], {});\n",
              "          if (!dataTable) return;\n",
              "\n",
              "          const docLinkHtml = 'Like what you see? Visit the ' +\n",
              "            '<a target=\"_blank\" href=https://colab.research.google.com/notebooks/data_table.ipynb>data table notebook</a>'\n",
              "            + ' to learn more about interactive tables.';\n",
              "          element.innerHTML = '';\n",
              "          dataTable['output_type'] = 'display_data';\n",
              "          await google.colab.output.renderOutput(dataTable, element);\n",
              "          const docLink = document.createElement('div');\n",
              "          docLink.innerHTML = docLinkHtml;\n",
              "          element.appendChild(docLink);\n",
              "        }\n",
              "      </script>\n",
              "    </div>\n",
              "  </div>\n",
              "  "
            ]
          },
          "metadata": {},
          "execution_count": 3
        }
      ]
    },
    {
      "cell_type": "markdown",
      "source": [
        "Kiểm tra thông tin và kích thước của tập dữ liệu "
      ],
      "metadata": {
        "id": "XFqhHdZHMLDD"
      }
    },
    {
      "cell_type": "code",
      "source": [
        "data.info()\n",
        "data.shape"
      ],
      "metadata": {
        "colab": {
          "base_uri": "https://localhost:8080/"
        },
        "id": "GMSFiXVweG_W",
        "outputId": "97a1b024-afcd-4d11-fb20-69f5eabdc7df"
      },
      "execution_count": 4,
      "outputs": [
        {
          "output_type": "stream",
          "name": "stdout",
          "text": [
            "<class 'pandas.core.frame.DataFrame'>\n",
            "RangeIndex: 699 entries, 0 to 698\n",
            "Data columns (total 11 columns):\n",
            " #   Column                       Non-Null Count  Dtype \n",
            "---  ------                       --------------  ----- \n",
            " 0   ID                           699 non-null    int64 \n",
            " 1   Clump_Thickness              699 non-null    int64 \n",
            " 2   Cell_Size                    699 non-null    int64 \n",
            " 3   Cell_Shape                   699 non-null    int64 \n",
            " 4   Marginal_Adhesion            699 non-null    int64 \n",
            " 5   Single_Epithelial_Cell_Size  699 non-null    int64 \n",
            " 6   Bare_Nuclei                  699 non-null    object\n",
            " 7   Bland_Chromatin              699 non-null    int64 \n",
            " 8   Normal_Nucleoli              699 non-null    int64 \n",
            " 9   Mitoses                      699 non-null    int64 \n",
            " 10  Class                        699 non-null    int64 \n",
            "dtypes: int64(10), object(1)\n",
            "memory usage: 60.2+ KB\n"
          ]
        },
        {
          "output_type": "execute_result",
          "data": {
            "text/plain": [
              "(699, 11)"
            ]
          },
          "metadata": {},
          "execution_count": 4
        }
      ]
    },
    {
      "cell_type": "markdown",
      "source": [
        "Qua **data.info()**=> tập dữ liệu không có giá trị missing hay null/NaN. Nhưng vì dữ liệu thu thập đều là dạng số nguyên nhưng theo bảng trên ta có thể nhận thấy cột **Bare_Nuclei** nhận Dtype là object nên chắc chắn trong tệp dữ liệu có những **giá trị nhập lỗi ở cột Bare_Nuclei**. \n",
        "\n",
        "> Kiểm tra lại tập dữ liệu ta thấy những giá trị lỗi là **\"?\"**"
      ],
      "metadata": {
        "id": "_k_PChH6C0GH"
      }
    },
    {
      "cell_type": "code",
      "source": [
        "# Sử dụng hàm value_counts() để đếm số lượng các giá trị trong tập thuộc tính Bare_Nuclei\n",
        "er = pd.DataFrame(data.Bare_Nuclei.value_counts())\n",
        "er"
      ],
      "metadata": {
        "colab": {
          "base_uri": "https://localhost:8080/",
          "height": 394
        },
        "id": "SjRwAb6LEAsk",
        "outputId": "32cb296c-ddb1-44ac-9384-e4e2b69f9a3f"
      },
      "execution_count": 5,
      "outputs": [
        {
          "output_type": "execute_result",
          "data": {
            "text/plain": [
              "    Bare_Nuclei\n",
              "1           402\n",
              "10          132\n",
              "2            30\n",
              "5            30\n",
              "3            28\n",
              "8            21\n",
              "4            19\n",
              "?            16\n",
              "9             9\n",
              "7             8\n",
              "6             4"
            ],
            "text/html": [
              "\n",
              "  <div id=\"df-ee4ee103-4911-4a1a-ac97-7ce0572ad31b\">\n",
              "    <div class=\"colab-df-container\">\n",
              "      <div>\n",
              "<style scoped>\n",
              "    .dataframe tbody tr th:only-of-type {\n",
              "        vertical-align: middle;\n",
              "    }\n",
              "\n",
              "    .dataframe tbody tr th {\n",
              "        vertical-align: top;\n",
              "    }\n",
              "\n",
              "    .dataframe thead th {\n",
              "        text-align: right;\n",
              "    }\n",
              "</style>\n",
              "<table border=\"1\" class=\"dataframe\">\n",
              "  <thead>\n",
              "    <tr style=\"text-align: right;\">\n",
              "      <th></th>\n",
              "      <th>Bare_Nuclei</th>\n",
              "    </tr>\n",
              "  </thead>\n",
              "  <tbody>\n",
              "    <tr>\n",
              "      <th>1</th>\n",
              "      <td>402</td>\n",
              "    </tr>\n",
              "    <tr>\n",
              "      <th>10</th>\n",
              "      <td>132</td>\n",
              "    </tr>\n",
              "    <tr>\n",
              "      <th>2</th>\n",
              "      <td>30</td>\n",
              "    </tr>\n",
              "    <tr>\n",
              "      <th>5</th>\n",
              "      <td>30</td>\n",
              "    </tr>\n",
              "    <tr>\n",
              "      <th>3</th>\n",
              "      <td>28</td>\n",
              "    </tr>\n",
              "    <tr>\n",
              "      <th>8</th>\n",
              "      <td>21</td>\n",
              "    </tr>\n",
              "    <tr>\n",
              "      <th>4</th>\n",
              "      <td>19</td>\n",
              "    </tr>\n",
              "    <tr>\n",
              "      <th>?</th>\n",
              "      <td>16</td>\n",
              "    </tr>\n",
              "    <tr>\n",
              "      <th>9</th>\n",
              "      <td>9</td>\n",
              "    </tr>\n",
              "    <tr>\n",
              "      <th>7</th>\n",
              "      <td>8</td>\n",
              "    </tr>\n",
              "    <tr>\n",
              "      <th>6</th>\n",
              "      <td>4</td>\n",
              "    </tr>\n",
              "  </tbody>\n",
              "</table>\n",
              "</div>\n",
              "      <button class=\"colab-df-convert\" onclick=\"convertToInteractive('df-ee4ee103-4911-4a1a-ac97-7ce0572ad31b')\"\n",
              "              title=\"Convert this dataframe to an interactive table.\"\n",
              "              style=\"display:none;\">\n",
              "        \n",
              "  <svg xmlns=\"http://www.w3.org/2000/svg\" height=\"24px\"viewBox=\"0 0 24 24\"\n",
              "       width=\"24px\">\n",
              "    <path d=\"M0 0h24v24H0V0z\" fill=\"none\"/>\n",
              "    <path d=\"M18.56 5.44l.94 2.06.94-2.06 2.06-.94-2.06-.94-.94-2.06-.94 2.06-2.06.94zm-11 1L8.5 8.5l.94-2.06 2.06-.94-2.06-.94L8.5 2.5l-.94 2.06-2.06.94zm10 10l.94 2.06.94-2.06 2.06-.94-2.06-.94-.94-2.06-.94 2.06-2.06.94z\"/><path d=\"M17.41 7.96l-1.37-1.37c-.4-.4-.92-.59-1.43-.59-.52 0-1.04.2-1.43.59L10.3 9.45l-7.72 7.72c-.78.78-.78 2.05 0 2.83L4 21.41c.39.39.9.59 1.41.59.51 0 1.02-.2 1.41-.59l7.78-7.78 2.81-2.81c.8-.78.8-2.07 0-2.86zM5.41 20L4 18.59l7.72-7.72 1.47 1.35L5.41 20z\"/>\n",
              "  </svg>\n",
              "      </button>\n",
              "      \n",
              "  <style>\n",
              "    .colab-df-container {\n",
              "      display:flex;\n",
              "      flex-wrap:wrap;\n",
              "      gap: 12px;\n",
              "    }\n",
              "\n",
              "    .colab-df-convert {\n",
              "      background-color: #E8F0FE;\n",
              "      border: none;\n",
              "      border-radius: 50%;\n",
              "      cursor: pointer;\n",
              "      display: none;\n",
              "      fill: #1967D2;\n",
              "      height: 32px;\n",
              "      padding: 0 0 0 0;\n",
              "      width: 32px;\n",
              "    }\n",
              "\n",
              "    .colab-df-convert:hover {\n",
              "      background-color: #E2EBFA;\n",
              "      box-shadow: 0px 1px 2px rgba(60, 64, 67, 0.3), 0px 1px 3px 1px rgba(60, 64, 67, 0.15);\n",
              "      fill: #174EA6;\n",
              "    }\n",
              "\n",
              "    [theme=dark] .colab-df-convert {\n",
              "      background-color: #3B4455;\n",
              "      fill: #D2E3FC;\n",
              "    }\n",
              "\n",
              "    [theme=dark] .colab-df-convert:hover {\n",
              "      background-color: #434B5C;\n",
              "      box-shadow: 0px 1px 3px 1px rgba(0, 0, 0, 0.15);\n",
              "      filter: drop-shadow(0px 1px 2px rgba(0, 0, 0, 0.3));\n",
              "      fill: #FFFFFF;\n",
              "    }\n",
              "  </style>\n",
              "\n",
              "      <script>\n",
              "        const buttonEl =\n",
              "          document.querySelector('#df-ee4ee103-4911-4a1a-ac97-7ce0572ad31b button.colab-df-convert');\n",
              "        buttonEl.style.display =\n",
              "          google.colab.kernel.accessAllowed ? 'block' : 'none';\n",
              "\n",
              "        async function convertToInteractive(key) {\n",
              "          const element = document.querySelector('#df-ee4ee103-4911-4a1a-ac97-7ce0572ad31b');\n",
              "          const dataTable =\n",
              "            await google.colab.kernel.invokeFunction('convertToInteractive',\n",
              "                                                     [key], {});\n",
              "          if (!dataTable) return;\n",
              "\n",
              "          const docLinkHtml = 'Like what you see? Visit the ' +\n",
              "            '<a target=\"_blank\" href=https://colab.research.google.com/notebooks/data_table.ipynb>data table notebook</a>'\n",
              "            + ' to learn more about interactive tables.';\n",
              "          element.innerHTML = '';\n",
              "          dataTable['output_type'] = 'display_data';\n",
              "          await google.colab.output.renderOutput(dataTable, element);\n",
              "          const docLink = document.createElement('div');\n",
              "          docLink.innerHTML = docLinkHtml;\n",
              "          element.appendChild(docLink);\n",
              "        }\n",
              "      </script>\n",
              "    </div>\n",
              "  </div>\n",
              "  "
            ]
          },
          "metadata": {},
          "execution_count": 5
        }
      ]
    },
    {
      "cell_type": "markdown",
      "source": [
        "**=> CÓ 16 GIÁ TRỊ LỖI**"
      ],
      "metadata": {
        "id": "gvieO_Z6GMAI"
      }
    },
    {
      "cell_type": "markdown",
      "source": [
        "Chỉnh sửa lại tập dữ liệu để loại bỏ các giá trị lỗi"
      ],
      "metadata": {
        "id": "nazR9Y8nNNrL"
      }
    },
    {
      "cell_type": "code",
      "source": [
        "# Xóa các dòng có dữ liệu lỗi dạng \"?\"\n",
        "ndata = data.drop(data[data.Bare_Nuclei == \"?\"].index)\n",
        "# Ép kiểu thành integer\n",
        "ndata.Bare_Nuclei = ndata.Bare_Nuclei.astype('int')\n",
        "# Thông tin\n",
        "ndata.info()\n",
        "# Kích thước của sữ liệu sau khi xóa bỏ các trường hợp missing\n",
        "ndata.shape"
      ],
      "metadata": {
        "colab": {
          "base_uri": "https://localhost:8080/"
        },
        "id": "8QkV-N82AYuX",
        "outputId": "fcb8feba-e082-4750-e143-609d9a7a014c"
      },
      "execution_count": 6,
      "outputs": [
        {
          "output_type": "stream",
          "name": "stdout",
          "text": [
            "<class 'pandas.core.frame.DataFrame'>\n",
            "Int64Index: 683 entries, 0 to 698\n",
            "Data columns (total 11 columns):\n",
            " #   Column                       Non-Null Count  Dtype\n",
            "---  ------                       --------------  -----\n",
            " 0   ID                           683 non-null    int64\n",
            " 1   Clump_Thickness              683 non-null    int64\n",
            " 2   Cell_Size                    683 non-null    int64\n",
            " 3   Cell_Shape                   683 non-null    int64\n",
            " 4   Marginal_Adhesion            683 non-null    int64\n",
            " 5   Single_Epithelial_Cell_Size  683 non-null    int64\n",
            " 6   Bare_Nuclei                  683 non-null    int64\n",
            " 7   Bland_Chromatin              683 non-null    int64\n",
            " 8   Normal_Nucleoli              683 non-null    int64\n",
            " 9   Mitoses                      683 non-null    int64\n",
            " 10  Class                        683 non-null    int64\n",
            "dtypes: int64(11)\n",
            "memory usage: 64.0 KB\n"
          ]
        },
        {
          "output_type": "execute_result",
          "data": {
            "text/plain": [
              "(683, 11)"
            ]
          },
          "metadata": {},
          "execution_count": 6
        }
      ]
    },
    {
      "cell_type": "code",
      "source": [
        "from sklearn.preprocessing import LabelEncoder\n",
        "\n",
        "# Biến nhãn lớp Class\n",
        "y = ndata[\"Class\"]         \n",
        "# Biến dữ liệu sau khi xóa bỏ thuộc tính không cần thiết và thuộc tính nhãn lớp\n",
        "X = ndata.drop([\"ID\",\"Class\"], axis=1) \n",
        "# Mã hóa biễn nhãn lớp thành dạng 0,1 và chuẩn hóa y\n",
        "y = LabelEncoder().fit_transform(y)"
      ],
      "metadata": {
        "id": "q0IGXmGBUuVK"
      },
      "execution_count": 7,
      "outputs": []
    },
    {
      "cell_type": "code",
      "source": [
        "y"
      ],
      "metadata": {
        "colab": {
          "base_uri": "https://localhost:8080/"
        },
        "id": "jvnwFwQ53aSu",
        "outputId": "7c5abdba-9c91-49a5-d2f5-c44d7cbf4613"
      },
      "execution_count": 8,
      "outputs": [
        {
          "output_type": "execute_result",
          "data": {
            "text/plain": [
              "array([0, 0, 0, 0, 0, 1, 0, 0, 0, 0, 0, 0, 1, 0, 1, 1, 0, 0, 1, 0, 1, 1,\n",
              "       0, 0, 1, 0, 0, 0, 0, 0, 0, 1, 0, 0, 0, 1, 0, 1, 1, 1, 1, 1, 1, 0,\n",
              "       1, 0, 0, 1, 1, 1, 1, 1, 1, 1, 1, 1, 1, 1, 1, 0, 1, 1, 0, 1, 0, 1,\n",
              "       1, 0, 0, 1, 0, 1, 1, 0, 0, 0, 0, 0, 0, 0, 0, 0, 1, 1, 1, 1, 0, 0,\n",
              "       0, 0, 0, 0, 0, 0, 0, 0, 1, 1, 1, 1, 0, 1, 1, 1, 1, 1, 0, 1, 0, 1,\n",
              "       1, 1, 0, 0, 0, 1, 0, 0, 0, 0, 1, 1, 1, 0, 1, 0, 1, 0, 0, 0, 1, 0,\n",
              "       0, 0, 0, 0, 0, 0, 0, 1, 0, 0, 1, 0, 0, 1, 0, 1, 1, 0, 0, 1, 0, 0,\n",
              "       1, 1, 0, 0, 0, 0, 1, 1, 0, 0, 0, 0, 0, 1, 1, 1, 0, 1, 0, 1, 0, 0,\n",
              "       0, 1, 1, 0, 1, 1, 1, 0, 1, 1, 0, 0, 0, 0, 0, 0, 0, 0, 1, 1, 0, 0,\n",
              "       0, 1, 1, 0, 0, 0, 1, 1, 0, 1, 1, 1, 0, 0, 1, 0, 0, 1, 1, 1, 1, 0,\n",
              "       1, 1, 0, 1, 1, 1, 0, 1, 0, 1, 1, 1, 1, 0, 0, 0, 0, 0, 0, 1, 1, 0,\n",
              "       0, 1, 0, 1, 1, 1, 0, 0, 0, 0, 1, 1, 1, 1, 1, 0, 1, 1, 1, 0, 1, 0,\n",
              "       1, 1, 0, 0, 0, 0, 1, 0, 0, 1, 1, 1, 1, 1, 0, 1, 1, 0, 0, 1, 1, 0,\n",
              "       0, 1, 1, 0, 1, 0, 1, 1, 0, 0, 1, 0, 0, 0, 1, 0, 0, 1, 1, 0, 0, 1,\n",
              "       0, 1, 0, 0, 1, 0, 1, 1, 1, 0, 0, 1, 1, 0, 1, 0, 0, 1, 1, 0, 0, 0,\n",
              "       1, 0, 0, 0, 1, 1, 0, 0, 0, 1, 0, 0, 1, 1, 1, 1, 1, 1, 0, 0, 0, 0,\n",
              "       1, 1, 0, 0, 0, 0, 0, 0, 0, 0, 0, 0, 0, 0, 0, 1, 0, 0, 0, 0, 1, 0,\n",
              "       0, 0, 0, 1, 0, 0, 0, 0, 0, 0, 0, 0, 1, 0, 0, 0, 0, 0, 0, 0, 0, 0,\n",
              "       0, 1, 0, 1, 0, 1, 0, 0, 0, 0, 1, 0, 0, 0, 1, 0, 1, 0, 0, 0, 0, 0,\n",
              "       0, 0, 1, 1, 0, 0, 0, 1, 0, 0, 0, 0, 0, 0, 0, 0, 1, 0, 0, 0, 1, 0,\n",
              "       1, 1, 1, 0, 0, 0, 0, 0, 0, 0, 1, 1, 1, 0, 0, 0, 0, 0, 0, 0, 0, 0,\n",
              "       0, 0, 1, 0, 0, 1, 1, 0, 0, 0, 1, 1, 1, 0, 1, 0, 1, 0, 0, 0, 0, 0,\n",
              "       0, 0, 0, 0, 0, 0, 0, 1, 0, 0, 0, 0, 0, 0, 0, 1, 1, 0, 0, 0, 1, 0,\n",
              "       0, 1, 1, 0, 0, 0, 0, 0, 0, 1, 0, 0, 0, 0, 0, 0, 0, 0, 0, 0, 0, 0,\n",
              "       0, 0, 0, 1, 0, 0, 1, 0, 0, 0, 0, 0, 0, 0, 0, 0, 0, 0, 0, 0, 0, 0,\n",
              "       1, 0, 0, 1, 1, 1, 1, 0, 0, 1, 0, 0, 0, 0, 0, 0, 1, 1, 0, 0, 0, 1,\n",
              "       0, 1, 0, 1, 1, 1, 0, 1, 0, 0, 0, 0, 0, 0, 0, 0, 1, 1, 1, 0, 0, 1,\n",
              "       0, 1, 1, 1, 0, 0, 0, 0, 0, 0, 0, 0, 0, 0, 0, 0, 1, 0, 0, 0, 0, 0,\n",
              "       0, 1, 0, 0, 1, 0, 0, 0, 0, 0, 0, 0, 0, 0, 0, 0, 1, 0, 0, 0, 0, 0,\n",
              "       0, 0, 0, 0, 1, 0, 0, 0, 0, 0, 0, 0, 0, 0, 1, 1, 1, 0, 0, 0, 0, 0,\n",
              "       0, 0, 0, 0, 1, 1, 0, 0, 0, 0, 0, 0, 0, 0, 0, 1, 0, 0, 0, 0, 1, 1,\n",
              "       1])"
            ]
          },
          "metadata": {},
          "execution_count": 8
        }
      ]
    },
    {
      "cell_type": "code",
      "source": [
        "X"
      ],
      "metadata": {
        "colab": {
          "base_uri": "https://localhost:8080/",
          "height": 423
        },
        "id": "lEnTDDwUxBgt",
        "outputId": "565273d9-87ff-42ea-ea67-552fd600e598"
      },
      "execution_count": 8,
      "outputs": [
        {
          "output_type": "execute_result",
          "data": {
            "text/plain": [
              "     Clump_Thickness  Cell_Size  Cell_Shape  Marginal_Adhesion  \\\n",
              "0                  5          1           1                  1   \n",
              "1                  5          4           4                  5   \n",
              "2                  3          1           1                  1   \n",
              "3                  6          8           8                  1   \n",
              "4                  4          1           1                  3   \n",
              "..               ...        ...         ...                ...   \n",
              "694                3          1           1                  1   \n",
              "695                2          1           1                  1   \n",
              "696                5         10          10                  3   \n",
              "697                4          8           6                  4   \n",
              "698                4          8           8                  5   \n",
              "\n",
              "     Single_Epithelial_Cell_Size  Bare_Nuclei  Bland_Chromatin  \\\n",
              "0                              2            1                3   \n",
              "1                              7           10                3   \n",
              "2                              2            2                3   \n",
              "3                              3            4                3   \n",
              "4                              2            1                3   \n",
              "..                           ...          ...              ...   \n",
              "694                            3            2                1   \n",
              "695                            2            1                1   \n",
              "696                            7            3                8   \n",
              "697                            3            4               10   \n",
              "698                            4            5               10   \n",
              "\n",
              "     Normal_Nucleoli  Mitoses  \n",
              "0                  1        1  \n",
              "1                  2        1  \n",
              "2                  1        1  \n",
              "3                  7        1  \n",
              "4                  1        1  \n",
              "..               ...      ...  \n",
              "694                1        1  \n",
              "695                1        1  \n",
              "696               10        2  \n",
              "697                6        1  \n",
              "698                4        1  \n",
              "\n",
              "[683 rows x 9 columns]"
            ],
            "text/html": [
              "\n",
              "  <div id=\"df-b69522f9-9fb7-49fe-9f63-7fe624505918\">\n",
              "    <div class=\"colab-df-container\">\n",
              "      <div>\n",
              "<style scoped>\n",
              "    .dataframe tbody tr th:only-of-type {\n",
              "        vertical-align: middle;\n",
              "    }\n",
              "\n",
              "    .dataframe tbody tr th {\n",
              "        vertical-align: top;\n",
              "    }\n",
              "\n",
              "    .dataframe thead th {\n",
              "        text-align: right;\n",
              "    }\n",
              "</style>\n",
              "<table border=\"1\" class=\"dataframe\">\n",
              "  <thead>\n",
              "    <tr style=\"text-align: right;\">\n",
              "      <th></th>\n",
              "      <th>Clump_Thickness</th>\n",
              "      <th>Cell_Size</th>\n",
              "      <th>Cell_Shape</th>\n",
              "      <th>Marginal_Adhesion</th>\n",
              "      <th>Single_Epithelial_Cell_Size</th>\n",
              "      <th>Bare_Nuclei</th>\n",
              "      <th>Bland_Chromatin</th>\n",
              "      <th>Normal_Nucleoli</th>\n",
              "      <th>Mitoses</th>\n",
              "    </tr>\n",
              "  </thead>\n",
              "  <tbody>\n",
              "    <tr>\n",
              "      <th>0</th>\n",
              "      <td>5</td>\n",
              "      <td>1</td>\n",
              "      <td>1</td>\n",
              "      <td>1</td>\n",
              "      <td>2</td>\n",
              "      <td>1</td>\n",
              "      <td>3</td>\n",
              "      <td>1</td>\n",
              "      <td>1</td>\n",
              "    </tr>\n",
              "    <tr>\n",
              "      <th>1</th>\n",
              "      <td>5</td>\n",
              "      <td>4</td>\n",
              "      <td>4</td>\n",
              "      <td>5</td>\n",
              "      <td>7</td>\n",
              "      <td>10</td>\n",
              "      <td>3</td>\n",
              "      <td>2</td>\n",
              "      <td>1</td>\n",
              "    </tr>\n",
              "    <tr>\n",
              "      <th>2</th>\n",
              "      <td>3</td>\n",
              "      <td>1</td>\n",
              "      <td>1</td>\n",
              "      <td>1</td>\n",
              "      <td>2</td>\n",
              "      <td>2</td>\n",
              "      <td>3</td>\n",
              "      <td>1</td>\n",
              "      <td>1</td>\n",
              "    </tr>\n",
              "    <tr>\n",
              "      <th>3</th>\n",
              "      <td>6</td>\n",
              "      <td>8</td>\n",
              "      <td>8</td>\n",
              "      <td>1</td>\n",
              "      <td>3</td>\n",
              "      <td>4</td>\n",
              "      <td>3</td>\n",
              "      <td>7</td>\n",
              "      <td>1</td>\n",
              "    </tr>\n",
              "    <tr>\n",
              "      <th>4</th>\n",
              "      <td>4</td>\n",
              "      <td>1</td>\n",
              "      <td>1</td>\n",
              "      <td>3</td>\n",
              "      <td>2</td>\n",
              "      <td>1</td>\n",
              "      <td>3</td>\n",
              "      <td>1</td>\n",
              "      <td>1</td>\n",
              "    </tr>\n",
              "    <tr>\n",
              "      <th>...</th>\n",
              "      <td>...</td>\n",
              "      <td>...</td>\n",
              "      <td>...</td>\n",
              "      <td>...</td>\n",
              "      <td>...</td>\n",
              "      <td>...</td>\n",
              "      <td>...</td>\n",
              "      <td>...</td>\n",
              "      <td>...</td>\n",
              "    </tr>\n",
              "    <tr>\n",
              "      <th>694</th>\n",
              "      <td>3</td>\n",
              "      <td>1</td>\n",
              "      <td>1</td>\n",
              "      <td>1</td>\n",
              "      <td>3</td>\n",
              "      <td>2</td>\n",
              "      <td>1</td>\n",
              "      <td>1</td>\n",
              "      <td>1</td>\n",
              "    </tr>\n",
              "    <tr>\n",
              "      <th>695</th>\n",
              "      <td>2</td>\n",
              "      <td>1</td>\n",
              "      <td>1</td>\n",
              "      <td>1</td>\n",
              "      <td>2</td>\n",
              "      <td>1</td>\n",
              "      <td>1</td>\n",
              "      <td>1</td>\n",
              "      <td>1</td>\n",
              "    </tr>\n",
              "    <tr>\n",
              "      <th>696</th>\n",
              "      <td>5</td>\n",
              "      <td>10</td>\n",
              "      <td>10</td>\n",
              "      <td>3</td>\n",
              "      <td>7</td>\n",
              "      <td>3</td>\n",
              "      <td>8</td>\n",
              "      <td>10</td>\n",
              "      <td>2</td>\n",
              "    </tr>\n",
              "    <tr>\n",
              "      <th>697</th>\n",
              "      <td>4</td>\n",
              "      <td>8</td>\n",
              "      <td>6</td>\n",
              "      <td>4</td>\n",
              "      <td>3</td>\n",
              "      <td>4</td>\n",
              "      <td>10</td>\n",
              "      <td>6</td>\n",
              "      <td>1</td>\n",
              "    </tr>\n",
              "    <tr>\n",
              "      <th>698</th>\n",
              "      <td>4</td>\n",
              "      <td>8</td>\n",
              "      <td>8</td>\n",
              "      <td>5</td>\n",
              "      <td>4</td>\n",
              "      <td>5</td>\n",
              "      <td>10</td>\n",
              "      <td>4</td>\n",
              "      <td>1</td>\n",
              "    </tr>\n",
              "  </tbody>\n",
              "</table>\n",
              "<p>683 rows × 9 columns</p>\n",
              "</div>\n",
              "      <button class=\"colab-df-convert\" onclick=\"convertToInteractive('df-b69522f9-9fb7-49fe-9f63-7fe624505918')\"\n",
              "              title=\"Convert this dataframe to an interactive table.\"\n",
              "              style=\"display:none;\">\n",
              "        \n",
              "  <svg xmlns=\"http://www.w3.org/2000/svg\" height=\"24px\"viewBox=\"0 0 24 24\"\n",
              "       width=\"24px\">\n",
              "    <path d=\"M0 0h24v24H0V0z\" fill=\"none\"/>\n",
              "    <path d=\"M18.56 5.44l.94 2.06.94-2.06 2.06-.94-2.06-.94-.94-2.06-.94 2.06-2.06.94zm-11 1L8.5 8.5l.94-2.06 2.06-.94-2.06-.94L8.5 2.5l-.94 2.06-2.06.94zm10 10l.94 2.06.94-2.06 2.06-.94-2.06-.94-.94-2.06-.94 2.06-2.06.94z\"/><path d=\"M17.41 7.96l-1.37-1.37c-.4-.4-.92-.59-1.43-.59-.52 0-1.04.2-1.43.59L10.3 9.45l-7.72 7.72c-.78.78-.78 2.05 0 2.83L4 21.41c.39.39.9.59 1.41.59.51 0 1.02-.2 1.41-.59l7.78-7.78 2.81-2.81c.8-.78.8-2.07 0-2.86zM5.41 20L4 18.59l7.72-7.72 1.47 1.35L5.41 20z\"/>\n",
              "  </svg>\n",
              "      </button>\n",
              "      \n",
              "  <style>\n",
              "    .colab-df-container {\n",
              "      display:flex;\n",
              "      flex-wrap:wrap;\n",
              "      gap: 12px;\n",
              "    }\n",
              "\n",
              "    .colab-df-convert {\n",
              "      background-color: #E8F0FE;\n",
              "      border: none;\n",
              "      border-radius: 50%;\n",
              "      cursor: pointer;\n",
              "      display: none;\n",
              "      fill: #1967D2;\n",
              "      height: 32px;\n",
              "      padding: 0 0 0 0;\n",
              "      width: 32px;\n",
              "    }\n",
              "\n",
              "    .colab-df-convert:hover {\n",
              "      background-color: #E2EBFA;\n",
              "      box-shadow: 0px 1px 2px rgba(60, 64, 67, 0.3), 0px 1px 3px 1px rgba(60, 64, 67, 0.15);\n",
              "      fill: #174EA6;\n",
              "    }\n",
              "\n",
              "    [theme=dark] .colab-df-convert {\n",
              "      background-color: #3B4455;\n",
              "      fill: #D2E3FC;\n",
              "    }\n",
              "\n",
              "    [theme=dark] .colab-df-convert:hover {\n",
              "      background-color: #434B5C;\n",
              "      box-shadow: 0px 1px 3px 1px rgba(0, 0, 0, 0.15);\n",
              "      filter: drop-shadow(0px 1px 2px rgba(0, 0, 0, 0.3));\n",
              "      fill: #FFFFFF;\n",
              "    }\n",
              "  </style>\n",
              "\n",
              "      <script>\n",
              "        const buttonEl =\n",
              "          document.querySelector('#df-b69522f9-9fb7-49fe-9f63-7fe624505918 button.colab-df-convert');\n",
              "        buttonEl.style.display =\n",
              "          google.colab.kernel.accessAllowed ? 'block' : 'none';\n",
              "\n",
              "        async function convertToInteractive(key) {\n",
              "          const element = document.querySelector('#df-b69522f9-9fb7-49fe-9f63-7fe624505918');\n",
              "          const dataTable =\n",
              "            await google.colab.kernel.invokeFunction('convertToInteractive',\n",
              "                                                     [key], {});\n",
              "          if (!dataTable) return;\n",
              "\n",
              "          const docLinkHtml = 'Like what you see? Visit the ' +\n",
              "            '<a target=\"_blank\" href=https://colab.research.google.com/notebooks/data_table.ipynb>data table notebook</a>'\n",
              "            + ' to learn more about interactive tables.';\n",
              "          element.innerHTML = '';\n",
              "          dataTable['output_type'] = 'display_data';\n",
              "          await google.colab.output.renderOutput(dataTable, element);\n",
              "          const docLink = document.createElement('div');\n",
              "          docLink.innerHTML = docLinkHtml;\n",
              "          element.appendChild(docLink);\n",
              "        }\n",
              "      </script>\n",
              "    </div>\n",
              "  </div>\n",
              "  "
            ]
          },
          "metadata": {},
          "execution_count": 8
        }
      ]
    },
    {
      "cell_type": "code",
      "source": [
        "# Biểu đồ đếm số trường hợp Ác tính (M - malignant) và Lành tính (B - benign)\n",
        "plt.title(\"CLASS LABEL BALANCE TEST\", size=20, color=\"darkblue\")\n",
        "ax = sns.countplot(y, label=\"Count\", palette=\"muted\", x=\"diagnosis\")\n",
        "B, M = y.value_counts()\n",
        "print('Số trường hợp ung thư lành tính: ', B)\n",
        "print('Số trường hợp ung thư ác tính: ', M)\n",
        "ax.set_xticklabels([\"Ung thư lành tính\", \"Ung thư ác tính\",])"
      ],
      "metadata": {
        "colab": {
          "base_uri": "https://localhost:8080/",
          "height": 411
        },
        "id": "ZDekk-yIsCQc",
        "outputId": "f17156b9-f4a5-4a8f-e23f-e270ce4e675d"
      },
      "execution_count": 11,
      "outputs": [
        {
          "output_type": "stream",
          "name": "stdout",
          "text": [
            "Số trường hợp ung thư lành tính:  444\n",
            "Số trường hợp ung thư ác tính:  239\n"
          ]
        },
        {
          "output_type": "stream",
          "name": "stderr",
          "text": [
            "/usr/local/lib/python3.8/dist-packages/seaborn/_decorators.py:36: FutureWarning: Pass the following variable as a keyword arg: x. From version 0.12, the only valid positional argument will be `data`, and passing other arguments without an explicit keyword will result in an error or misinterpretation.\n",
            "  warnings.warn(\n"
          ]
        },
        {
          "output_type": "execute_result",
          "data": {
            "text/plain": [
              "[Text(0, 0, 'Ung thư lành tính'), Text(0, 0, 'Ung thư ác tính')]"
            ]
          },
          "metadata": {},
          "execution_count": 11
        },
        {
          "output_type": "display_data",
          "data": {
            "text/plain": [
              "<Figure size 432x288 with 1 Axes>"
            ],
            "image/png": "[encoded data removed]"
          },
          "metadata": {
            "needs_background": "light"
          }
        }
      ]
    },
    {
      "cell_type": "markdown",
      "source": [
        "**=> KẾT LUẬN:** NHÃN LỚP KHÔNG CÂN BẰNG"
      ],
      "metadata": {
        "id": "iTfCG3x22cf4"
      }
    },
    {
      "cell_type": "markdown",
      "source": [
        "# **CHIA TRAIN-TEST**\n"
      ],
      "metadata": {
        "id": "PwoK6T56Sibp"
      }
    },
    {
      "cell_type": "markdown",
      "source": [
        "Khi phân chia dữ liệu, trừ dữ liệu kiểu thời gian (có gắn với trục thời gian), ta nên dùng hàm **shuffle** và **random_state** để xáo trộn dữ liệu, nhằm đảm bảo tính ngẫu nhiên khi phân chia tập dữ liệu. Đặt trạng thái ngẫu nhiên cho phép thử nghiệm dễ dàng sao chép và đảm bảo kết quả trong cùng một tham số."
      ],
      "metadata": {
        "id": "HDP3EJYzhEAp"
      }
    },
    {
      "cell_type": "code",
      "source": [
        "# Phân chia train - test theo tỉ lệ 80% - 20%\n",
        "X_train, X_test, y_train, y_test = train_test_split(X, y, shuffle=True, test_size=0.2, random_state=9)\n",
        "\n",
        "# Chuẩn hóa dữ liệu\n",
        "sc_X = StandardScaler()\n",
        "X_train = sc_X.fit_transform(X_train)\n",
        "X_test = sc_X.transform(X_test)\n",
        "y_train \n",
        "y_test\n",
        "\n",
        "print(\"X_train\\n\",X_train[:5])\n",
        "print(\"\\nX_test\\n\",X_test[:5])\n",
        "print(\"\\ny_train\\n\",y_train)\n",
        "print(\"\\ny_test\\n\",y_test)"
      ],
      "metadata": {
        "colab": {
          "base_uri": "https://localhost:8080/"
        },
        "id": "_3uTL0nH6yUk",
        "outputId": "86fe76c5-9faf-4806-c8b6-cc4e210408cd"
      },
      "execution_count": 9,
      "outputs": [
        {
          "output_type": "stream",
          "name": "stdout",
          "text": [
            "X_train\n",
            " [[-0.51272372 -0.69344263 -0.73585692 -0.63314162 -0.99983995 -0.69298081\n",
            "  -0.58343838 -0.60358898 -0.3431589 ]\n",
            " [ 0.55850262  0.60765591  0.27194712  0.42295408 -0.0967587   1.5229344\n",
            "   1.45598132  1.71959035  0.8352358 ]\n",
            " [ 0.20142717  2.23402909  2.2875552   0.77498598  0.35478192  0.41497679\n",
            "   0.2323295   0.39205931 -0.3431589 ]\n",
            " [-0.86979916 -0.69344263 -0.73585692 -0.63314162 -0.54829933 -0.69298081\n",
            "  -0.17555444 -0.60358898 -0.3431589 ]\n",
            " [ 1.9868044  -0.04289336  0.94381648 -0.28110972 -0.0967587   0.41497679\n",
            "   0.2323295   2.38335588  0.24603845]]\n",
            "\n",
            "X_test\n",
            " [[-1.22687461 -0.69344263 -0.73585692 -0.63314162 -0.54829933 -0.69298081\n",
            "  -0.99132232 -0.60358898  3.78122255]\n",
            " [ 1.9868044   0.28238128  0.27194712  1.12701787 -0.54829933  1.7999238\n",
            "  -0.58343838  0.06017654 -0.3431589 ]\n",
            " [ 0.91557807  0.60765591  0.94381648  2.53514547  0.80632254  1.7999238\n",
            "   1.45598132  2.05147312  1.42443315]\n",
            " [-0.86979916 -0.69344263 -0.73585692 -0.63314162 -0.54829933 -0.69298081\n",
            "  -0.17555444 -0.60358898 -0.3431589 ]\n",
            " [-0.51272372 -0.69344263 -0.73585692 -0.28110972 -0.54829933 -0.69298081\n",
            "  -0.99132232 -0.60358898 -0.3431589 ]]\n",
            "\n",
            "y_train\n",
            " [0 1 1 0 1 1 0 0 0 0 1 0 0 0 1 1 1 1 0 0 0 1 0 1 1 0 0 0 0 0 0 0 0 1 0 1 0\n",
            " 0 1 0 0 0 0 0 1 0 1 1 0 0 0 0 0 0 0 1 0 0 1 1 0 1 1 0 1 1 0 0 0 0 0 0 0 1\n",
            " 0 0 0 0 1 1 0 0 0 1 1 1 0 1 1 0 0 0 1 0 0 0 0 0 0 0 0 0 1 1 1 1 1 1 0 1 0\n",
            " 1 0 0 0 0 0 0 0 0 0 0 0 1 0 0 0 0 0 0 0 1 1 1 0 0 1 0 0 0 1 0 1 0 0 0 1 1\n",
            " 0 0 0 0 0 0 1 0 0 1 0 1 1 0 0 0 0 0 0 1 1 1 0 0 1 0 1 1 0 0 0 0 1 0 0 0 0\n",
            " 0 1 0 0 0 0 1 0 0 1 0 1 0 0 0 1 1 1 0 1 0 1 0 1 1 0 0 1 1 0 0 0 1 0 1 0 0\n",
            " 0 0 1 0 1 0 0 0 0 0 1 1 0 0 0 0 0 0 1 0 0 0 1 0 1 0 1 0 0 1 0 1 0 0 1 0 0\n",
            " 0 0 1 0 0 0 0 0 0 1 0 1 1 0 0 1 0 1 1 0 0 0 0 0 0 1 0 0 1 0 1 0 1 0 0 1 1\n",
            " 1 1 0 1 0 0 0 1 0 0 0 0 0 1 0 0 0 1 0 0 0 0 1 1 0 0 1 0 0 0 1 1 0 0 0 0 0\n",
            " 0 0 0 0 0 0 0 1 0 0 0 1 0 1 0 0 1 1 0 0 1 0 1 0 0 0 0 0 1 1 0 0 0 0 0 1 1\n",
            " 0 0 0 0 0 1 0 0 0 0 0 1 1 0 1 0 1 1 0 1 0 1 0 0 0 0 0 1 0 1 1 1 0 0 0 1 0\n",
            " 0 0 0 0 0 0 0 1 0 1 0 0 0 1 0 0 0 0 1 1 0 0 0 0 0 0 0 0 0 0 1 1 1 0 0 0 1\n",
            " 0 1 1 1 1 1 0 0 0 0 0 0 1 1 0 1 0 0 1 0 0 0 0 1 1 0 0 0 1 0 1 0 0 0 1 0 1\n",
            " 1 1 1 0 1 0 0 0 1 0 0 1 0 0 0 0 0 0 0 1 0 1 0 1 0 1 1 1 0 0 1 0 0 1 1 0 0\n",
            " 0 1 0 0 0 1 1 1 0 0 1 0 0 0 1 0 0 1 1 0 1 1 0 1 0 0 0 0]\n",
            "\n",
            "y_test\n",
            " [0 1 1 0 0 0 0 0 1 0 1 0 0 1 1 1 1 1 0 0 0 0 1 1 1 0 1 0 0 0 1 0 1 0 0 0 1\n",
            " 0 0 1 1 1 0 1 0 0 0 1 1 1 0 0 0 0 0 0 1 1 1 0 0 0 1 1 1 1 0 1 1 1 0 0 1 1\n",
            " 0 0 1 0 0 0 0 0 1 1 1 0 0 1 0 0 0 1 0 0 0 0 1 0 0 0 1 0 0 0 0 0 0 0 0 1 1\n",
            " 0 0 0 1 0 0 1 0 0 1 0 0 0 0 0 0 1 1 1 0 0 0 0 1 0 1]\n"
          ]
        }
      ]
    },
    {
      "cell_type": "markdown",
      "source": [
        "**Xác định số lượng k-fold được xác định tùy thuộc vào số lượng y_train**"
      ],
      "metadata": {
        "id": "MOHKGugifIoY"
      }
    },
    {
      "cell_type": "code",
      "source": [
        "unique, counts = np.unique(y_train, return_counts=True)\n",
        "result = dict(zip(unique, counts))\n",
        "print(\"Số lượng k-fold được xác định\")\n",
        "print(result)"
      ],
      "metadata": {
        "colab": {
          "base_uri": "https://localhost:8080/"
        },
        "id": "lQZP6HI4Xdmn",
        "outputId": "61f7a3ee-44ca-4f96-f70d-92dd0cae94d2"
      },
      "execution_count": 11,
      "outputs": [
        {
          "output_type": "stream",
          "name": "stdout",
          "text": [
            "Số lượng k-fold được xác định\n",
            "{0: 360, 1: 186}\n"
          ]
        }
      ]
    },
    {
      "cell_type": "markdown",
      "source": [
        "#**MÔ HÌNH Logistic Regression**\n",
        "    "
      ],
      "metadata": {
        "id": "KJlhOuligACb"
      }
    },
    {
      "cell_type": "code",
      "source": [
        "from sklearn.linear_model import LogisticRegression\n",
        "lgt = LogisticRegression(solver='liblinear', max_iter=1500, multi_class='auto')\n",
        "lgt.fit(X_train, y_train)\n",
        "y_pred = lgt.predict(X_test)\n",
        "print('Kết quả huấn luyên 10-fold cv của mô hình LogisticRegression:')\n",
        "scores = cross_val_score(lgt, X_train, y_train, cv=10,scoring='accuracy')\n",
        "print(scores)"
      ],
      "metadata": {
        "id": "I6Ie_o8KXg2L"
      },
      "execution_count": null,
      "outputs": []
    },
    {
      "cell_type": "markdown",
      "source": [
        "**KẾT QUẢ CÁC CHỈ SỐ ĐÁNH GIÁ HIỆU NĂNG MÔ HÌNH LOGISTIC REGRESSION**\n"
      ],
      "metadata": {
        "id": "0ww8Wl6Y9uAK"
      }
    },
    {
      "cell_type": "code",
      "source": [
        "print(\"Accuracy: {}%\".format(round(accuracy_score(y_test, y_pred),5)))\n",
        "print(\"Precision score: {}%\".format(round(precision_score(y_test, y_pred),5)))\n",
        "print(\"Recall score {}%\".format(round(recall_score(y_test, y_pred),5)))\n",
        "print(\"F1 Score {}%\".format(round(f1_score(y_test, y_pred, average='weighted'),5)))"
      ],
      "metadata": {
        "colab": {
          "base_uri": "https://localhost:8080/"
        },
        "id": "cU6vcWgN_ooS",
        "outputId": "5f6acc51-77e8-49f3-e5c2-7b3832b2a23c"
      },
      "execution_count": 46,
      "outputs": [
        {
          "output_type": "stream",
          "name": "stdout",
          "text": [
            "Accuracy: 0.9854%\n",
            "Precision score: 1.0%\n",
            "Recall score 0.96226%\n",
            "F1 Score 0.98535%\n"
          ]
        }
      ]
    },
    {
      "cell_type": "code",
      "source": [
        "# Model Evaluation Metrics\n",
        "print(\"Confusion matrix:\")\n",
        "import itertools\n",
        "def plot_confusion_matrix(cm, classes, normalize=False, title='Confusion matrix', cmap=plt.cm.Blues):\n",
        "    if normalize:\n",
        "        cm = cm.astype('float') / cm.sum(axis=1)[:, np.newaxis]\n",
        "        print(\"Normalized confusion matrix\")\n",
        "    else:\n",
        "        print('Confusion matrix, without normalization')\n",
        "    print(cm)\n",
        "\n",
        "    plt.imshow(cm, interpolation='nearest', cmap=cmap)\n",
        "    plt.title(title)\n",
        "    plt.colorbar()\n",
        "    tick_marks = np.arange(len(classes))\n",
        "    plt.xticks(tick_marks, classes, rotation=45)\n",
        "    plt.yticks(tick_marks, classes)\n",
        "\n",
        "    fmt = '.2f' if normalize else 'd'\n",
        "    thresh = cm.max() / 2.\n",
        "    for i, j in itertools.product(range(cm.shape[0]), range(cm.shape[1])):\n",
        "        plt.text(j, i, format(cm[i, j], fmt),\n",
        "                 horizontalalignment=\"center\",\n",
        "                 color=\"white\" if cm[i, j] > thresh else \"black\")\n",
        "\n",
        "    plt.tight_layout()\n",
        "    plt.ylabel('True label')\n",
        "    plt.xlabel('Predicted label')\n",
        "    plt.show()\n",
        "\n",
        "confusion = confusion_matrix(y_test, y_pred)\n",
        "plot_confusion_matrix(confusion, classes=['Benign', 'Malignant'], title='Confusion matrix')"
      ],
      "metadata": {
        "colab": {
          "base_uri": "https://localhost:8080/",
          "height": 383
        },
        "id": "W3l7C7lLKZOB",
        "outputId": "fc27c639-e7e4-4d40-8ba8-8b20d7201363"
      },
      "execution_count": 61,
      "outputs": [
        {
          "output_type": "stream",
          "name": "stdout",
          "text": [
            "Confusion matrix:\n",
            "Confusion matrix, without normalization\n",
            "[[84  0]\n",
            " [ 3 50]]\n"
          ]
        },
        {
          "output_type": "display_data",
          "data": {
            "text/plain": [
              "<Figure size 432x288 with 2 Axes>"
            ],
            "image/png": "[encoded data removed]"
          },
          "metadata": {
            "needs_background": "light"
          }
        }
      ]
    },
    {
      "cell_type": "code",
      "source": [
        "# Evaluate the model\n",
        "print(\"Logistic Regression\")    \n",
        "print(\"----------------------------------\")\n",
        "print(\"\\nAccuracy:\", accuracy_score(y_test, y_pred))\n",
        "print(\"\\nClassification report:\")\n",
        "print(classification_report(y_test, y_pred))\n"
      ],
      "metadata": {
        "colab": {
          "base_uri": "https://localhost:8080/"
        },
        "id": "6Sh6KplHB2uu",
        "outputId": "b696fc94-fb79-4e37-8458-f2ce94cf5f25"
      },
      "execution_count": 62,
      "outputs": [
        {
          "output_type": "stream",
          "name": "stdout",
          "text": [
            "Logistic Regression\n",
            "----------------------------------\n",
            "\n",
            "Accuracy: 0.9781021897810219\n",
            "\n",
            "Classification report:\n",
            "              precision    recall  f1-score   support\n",
            "\n",
            "           0       0.97      1.00      0.98        84\n",
            "           1       1.00      0.94      0.97        53\n",
            "\n",
            "    accuracy                           0.98       137\n",
            "   macro avg       0.98      0.97      0.98       137\n",
            "weighted avg       0.98      0.98      0.98       137\n",
            "\n"
          ]
        }
      ]
    },
    {
      "cell_type": "markdown",
      "source": [
        "**Cách đọc bảng report:**\n",
        "> Ví dụ chỉ nhìn vào kết quả **precision** của nhãn 0 - lành tính ta thấy độ chính xác là 0.98, có nghĩa là chúng tôi đã tìm thấy chính xác 98% các trường hợp lành tính.\n",
        "\n",
        "> Cột **support** cho chúng tôi biết có bao nhiêu điểm dữ liệu để hỗ trợ các chỉ số. Vậy, có 84 trường hợp lành tính và 52 trường hợp ác tính trong bộ đào tạo của trên."
      ],
      "metadata": {
        "id": "Ul7_-lkhEUET"
      }
    },
    {
      "cell_type": "code",
      "source": [],
      "metadata": {
        "id": "YX0akPPB9tVc"
      },
      "execution_count": null,
      "outputs": []
    },
    {
      "cell_type": "markdown",
      "source": [
        "#**MÔ HÌNH NAIVE BAYES**\n"
      ],
      "metadata": {
        "id": "ryAlv3RlMggO"
      }
    },
    {
      "cell_type": "code",
      "source": [
        "from sklearn.naive_bayes import GaussianNB\n",
        "gnb = GaussianNB()\n",
        "gnb_score = cross_val_score(gnb, X_train, y_train, cv=10, scoring='accuracy')\n",
        "gnb.fit(X_train, y_train)\n",
        "y_pred = gnb.predict(X_test)\n",
        "print('Kết quả huấn luyên 10-fold cv của mô hình Naive Bayes:')\n",
        "print(gnb_score)"
      ],
      "metadata": {
        "colab": {
          "base_uri": "https://localhost:8080/"
        },
        "id": "mbWRwfOKMgCr",
        "outputId": "ad07bfc7-1068-46ad-d068-684507bae480"
      },
      "execution_count": 63,
      "outputs": [
        {
          "output_type": "stream",
          "name": "stdout",
          "text": [
            "Kết quả huấn luyên 10-fold cv của mô hình Naive Bayes:\n",
            "[0.94545455 1.         1.         0.94545455 0.96363636 0.96363636\n",
            " 0.92592593 0.92592593 0.94444444 0.92592593]\n"
          ]
        }
      ]
    },
    {
      "cell_type": "markdown",
      "source": [
        "**KẾT QUẢ CÁC CHỈ SỐ ĐÁNH GIÁ HIỆU NĂNG MÔ HÌNH NAIVE BAYES**\n"
      ],
      "metadata": {
        "id": "v4cQkKDjMAZP"
      }
    },
    {
      "cell_type": "code",
      "source": [
        "print(\"Accuracy: {}%\".format(round(accuracy_score(y_test, y_pred),5)))\n",
        "print(\"Precision score: {}%\".format(round(precision_score(y_test, y_pred),5)))\n",
        "print(\"Recall score {}%\".format(round(recall_score(y_test, y_pred),5)))\n",
        "print(\"F1 Score {}%\".format(round(f1_score(y_test, y_pred, average='weighted'),5)))"
      ],
      "metadata": {
        "colab": {
          "base_uri": "https://localhost:8080/"
        },
        "id": "i68mfSNfIOyy",
        "outputId": "de774bd4-46f4-49d0-cc60-1381f54421b2"
      },
      "execution_count": 64,
      "outputs": [
        {
          "output_type": "stream",
          "name": "stdout",
          "text": [
            "Accuracy: 0.9927%\n",
            "Precision score: 0.98148%\n",
            "Recall score 1.0%\n",
            "F1 Score 0.99271%\n"
          ]
        }
      ]
    },
    {
      "cell_type": "code",
      "source": [
        "print(\"Confusion matrix:\")\n",
        "confusion = confusion_matrix(y_test, y_pred)\n",
        "plot_confusion_matrix(confusion, classes=['Benign', 'Malignant'], title='Confusion matrix')"
      ],
      "metadata": {
        "colab": {
          "base_uri": "https://localhost:8080/",
          "height": 383
        },
        "id": "eVBERr5ELQoE",
        "outputId": "e53d1024-89fb-4e08-fd58-b01cbbaa5b9b"
      },
      "execution_count": 65,
      "outputs": [
        {
          "output_type": "stream",
          "name": "stdout",
          "text": [
            "Confusion matrix:\n",
            "Confusion matrix, without normalization\n",
            "[[83  1]\n",
            " [ 0 53]]\n"
          ]
        },
        {
          "output_type": "display_data",
          "data": {
            "text/plain": [
              "<Figure size 432x288 with 2 Axes>"
            ],
            "image/png": "[encoded data removed]"
          },
          "metadata": {
            "needs_background": "light"
          }
        }
      ]
    },
    {
      "cell_type": "code",
      "source": [
        "# Evaluate the model\n",
        "print(\"Naive Bayes\")    \n",
        "print(\"----------------------------------\")\n",
        "print(\"\\nAccuracy:\", accuracy_score(y_test, y_pred))\n",
        "print(\"\\nClassification report:\")\n",
        "print(classification_report(y_test, y_pred))"
      ],
      "metadata": {
        "colab": {
          "base_uri": "https://localhost:8080/"
        },
        "id": "cNZJ0xdpIRHA",
        "outputId": "c00e77ee-6cca-4772-96da-4b6f9d880e7f"
      },
      "execution_count": 67,
      "outputs": [
        {
          "output_type": "stream",
          "name": "stdout",
          "text": [
            "Naive Bayes\n",
            "----------------------------------\n",
            "\n",
            "Accuracy: 0.9927007299270073\n",
            "\n",
            "Classification report:\n",
            "              precision    recall  f1-score   support\n",
            "\n",
            "           0       1.00      0.99      0.99        84\n",
            "           1       0.98      1.00      0.99        53\n",
            "\n",
            "    accuracy                           0.99       137\n",
            "   macro avg       0.99      0.99      0.99       137\n",
            "weighted avg       0.99      0.99      0.99       137\n",
            "\n"
          ]
        }
      ]
    },
    {
      "cell_type": "markdown",
      "source": [
        "#**MÔ HÌNH k-NN**"
      ],
      "metadata": {
        "id": "pfuZYib-KxlU"
      }
    },
    {
      "cell_type": "code",
      "source": [
        "from sklearn import neighbors\n",
        "knn = neighbors.KNeighborsClassifier(n_neighbors = 10, p = 2, weights = 'uniform')\n",
        "knn_score = cross_val_score(knn, X_train, y_train, cv=10, scoring='accuracy')\n",
        "print('Kết quả huấn luyên 10-fold cv của mô hình k-NN:')\n",
        "print(knn_score)"
      ],
      "metadata": {
        "colab": {
          "base_uri": "https://localhost:8080/"
        },
        "id": "yLQZ97KgaLjh",
        "outputId": "ede52696-ab15-4c1b-ebdc-f8d48a427ff0"
      },
      "execution_count": 68,
      "outputs": [
        {
          "output_type": "stream",
          "name": "stdout",
          "text": [
            "Kết quả huấn luyên 10-fold cv của mô hình k-NN:\n",
            "[0.96363636 0.96363636 0.98181818 0.92727273 0.94545455 1.\n",
            " 0.94444444 0.96296296 0.94444444 0.92592593]\n"
          ]
        }
      ]
    },
    {
      "cell_type": "markdown",
      "source": [
        "**KẾT QUẢ CÁC CHỈ SỐ ĐÁNH GIÁ HIỆU NĂNG MÔ HÌNH K-NN**\n"
      ],
      "metadata": {
        "id": "qJSgI0uxMJlR"
      }
    },
    {
      "cell_type": "code",
      "source": [
        "print(\"Accuracy: {}%\".format(round(accuracy_score(y_test, y_pred),5)))\n",
        "print(\"Precision score: {}%\".format(round(precision_score(y_test, y_pred),5)))\n",
        "print(\"Recall score {}%\".format(round(recall_score(y_test, y_pred),5)))\n",
        "print(\"F1 Score {}%\".format(round(f1_score(y_test, y_pred, average='weighted'),5)))"
      ],
      "metadata": {
        "colab": {
          "base_uri": "https://localhost:8080/"
        },
        "id": "4IhmLa41J97N",
        "outputId": "003d7c77-c6ec-4874-f7b6-831b4ea0e89b"
      },
      "execution_count": 69,
      "outputs": [
        {
          "output_type": "stream",
          "name": "stdout",
          "text": [
            "Accuracy: 0.9781%\n",
            "Precision score: 1.0%\n",
            "Recall score 0.9434%\n",
            "F1 Score 0.97798%\n"
          ]
        }
      ]
    },
    {
      "cell_type": "code",
      "source": [
        "print(\"Confusion matrix:\")\n",
        "confusion = confusion_matrix(y_test, y_pred)\n",
        "plot_confusion_matrix(confusion, classes=['Benign', 'Malignant'], title='Confusion matrix')"
      ],
      "metadata": {
        "colab": {
          "base_uri": "https://localhost:8080/",
          "height": 383
        },
        "id": "GKV-sJilLnhU",
        "outputId": "8e55a47f-3535-4992-b853-ae936e376fad"
      },
      "execution_count": 70,
      "outputs": [
        {
          "output_type": "stream",
          "name": "stdout",
          "text": [
            "Confusion matrix:\n",
            "Confusion matrix, without normalization\n",
            "[[84  0]\n",
            " [ 3 50]]\n"
          ]
        },
        {
          "output_type": "display_data",
          "data": {
            "text/plain": [
              "<Figure size 432x288 with 2 Axes>"
            ],
            "image/png": "[encoded data removed]"
          },
          "metadata": {
            "needs_background": "light"
          }
        }
      ]
    },
    {
      "cell_type": "code",
      "source": [
        "# Evaluate the model\n",
        "print(\"MÔ HÌNH K LÂN CẬN\")    \n",
        "print(\"----------------------------------\")\n",
        "print(\"\\nAccuracy:\", accuracy_score(y_test, y_pred))\n",
        "print(\"\\nClassification report:\")\n",
        "print(classification_report(y_test, y_pred))"
      ],
      "metadata": {
        "colab": {
          "base_uri": "https://localhost:8080/"
        },
        "id": "cAQlggEnKBKC",
        "outputId": "df89fef9-cfa5-4134-f5f6-d0fe81f17d95"
      },
      "execution_count": 71,
      "outputs": [
        {
          "output_type": "stream",
          "name": "stdout",
          "text": [
            "MÔ HÌNH K LÂN CẬN\n",
            "----------------------------------\n",
            "\n",
            "Accuracy: 0.9781021897810219\n",
            "\n",
            "Classification report:\n",
            "              precision    recall  f1-score   support\n",
            "\n",
            "           0       0.97      1.00      0.98        84\n",
            "           1       1.00      0.94      0.97        53\n",
            "\n",
            "    accuracy                           0.98       137\n",
            "   macro avg       0.98      0.97      0.98       137\n",
            "weighted avg       0.98      0.98      0.98       137\n",
            "\n"
          ]
        }
      ]
    },
    {
      "cell_type": "code",
      "source": [],
      "metadata": {
        "id": "2vO_lAX1ahV9"
      },
      "execution_count": null,
      "outputs": []
    }
  ]
}