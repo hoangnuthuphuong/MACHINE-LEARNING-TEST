{
  "cells": [
    {
      "cell_type": "markdown",
      "metadata": {
        "id": "view-in-github",
        "colab_type": "text"
      },
      "source": [
        "<a href=\"https://colab.research.google.com/github/hoangnuthuphuong/MACHINE-LEARNING-TEST/blob/main/final_test1/preprocessing_Images.ipynb\" target=\"_parent\"><img src=\"https://colab.research.google.com/assets/colab-badge.svg\" alt=\"Open In Colab\"/></a>"
      ]
    },
    {
      "cell_type": "code",
      "execution_count": null,
      "metadata": {
        "id": "-p5W3SN5hbKh"
      },
      "outputs": [],
      "source": [
        "#https://viblo.asia/p/top-machine-learning-algorithms-DbmemLZwGAg"
      ]
    },
    {
      "cell_type": "markdown",
      "metadata": {
        "id": "L8WtJGGeNglx"
      },
      "source": [
        "https://pythonprogramming.net/loading-custom-data-deep-learning-python-tensorflow-keras/\n"
      ]
    },
    {
      "cell_type": "code",
      "execution_count": 1,
      "metadata": {
        "colab": {
          "base_uri": "https://localhost:8080/"
        },
        "id": "KyxdqtP07aYn",
        "outputId": "a38dab8f-7ac4-429c-f956-c04acef1b265"
      },
      "outputs": [
        {
          "output_type": "stream",
          "name": "stdout",
          "text": [
            "Mounted at /content/drive\n"
          ]
        }
      ],
      "source": [
        "from google.colab import drive\n",
        "drive.mount('/content/drive')"
      ]
    },
    {
      "cell_type": "code",
      "execution_count": null,
      "metadata": {
        "id": "cGDc2TMj-59z"
      },
      "outputs": [],
      "source": [
        "import numpy as np\n",
        "import os\n",
        "import itertools\n",
        "import pandas as pd\n",
        "from matplotlib import pyplot as plt\n",
        "from skimage import io\n",
        "from skimage.transform import resize\n",
        "from PIL import Image\n",
        "from sklearn import neighbors\n",
        "from sklearn.linear_model import LogisticRegression\n",
        "from sklearn.metrics import accuracy_score, recall_score, precision_score, f1_score, hamming_loss, confusion_matrix, precision_recall_curve\n",
        "from sklearn.preprocessing import LabelBinarizer, StandardScaler, LabelEncoder\n",
        "from sklearn.model_selection import train_test_split, cross_val_score"
      ]
    },
    {
      "cell_type": "markdown",
      "metadata": {
        "id": "3Dcj9nT6RdWA"
      },
      "source": []
    },
    {
      "cell_type": "code",
      "execution_count": null,
      "metadata": {
        "id": "WvxK_Cog-7Nj"
      },
      "outputs": [],
      "source": [
        "# Hàm kiểm tra ảnh có lỗi hay không\n",
        "def check_corrupted_image(img_file):\n",
        "    try:\n",
        "        with Image.open(img_file) as img:\n",
        "            img.verify()\n",
        "            img_new = io.imread(os.path.join(img_file))\n",
        "        return False\n",
        "    except Exception as e:\n",
        "        print(e)\n",
        "        return True"
      ]
    },
    {
      "cell_type": "code",
      "execution_count": null,
      "metadata": {
        "id": "VV6RIhDN-8vr"
      },
      "outputs": [],
      "source": [
        "# Hàm chuyển ảnh màu thành vector 1024\n",
        "# Đọc ảnh -> xám, resize ,làm phẳng\n",
        "def read_img_data(path,label, size):\n",
        "    labels = []\n",
        "    img_data = []\n",
        "    # xác định đường dẫn và biến dữ  ảnh\n",
        "    files = os.listdir(path)\n",
        "    # đọc tất cả file trong path\n",
        "    for img_file in files:\n",
        "        if not(check_corrupted_image(os.path.join(path,img_file))):\n",
        "            img = io.imread(os.path.join(path, img_file), as_gray=True) # chuyển ảnh sang ảnh xámxám\n",
        "            img = resize(img, size) # resize để đưa tất cả các ảnh về chung một kích thước\n",
        "            img_vector = img.flatten() # Làm phẳng ảnh\n",
        "            labels.append(labels)\n",
        "            img_data.append(img_vector)\n",
        "    labels = np.array(labels)\n",
        "    return labels, img_data"
      ]
    },
    {
      "cell_type": "code",
      "execution_count": 3,
      "metadata": {
        "colab": {
          "base_uri": "https://localhost:8080/",
          "height": 1000
        },
        "id": "AwSA167QMknR",
        "outputId": "c38ea8aa-8889-4a33-e12a-3b9e74edefc0"
      },
      "outputs": [
        {
          "output_type": "stream",
          "name": "stdout",
          "text": [
            "cannot identify image file '/content/drive/MyDrive/Classroom/Học máy 1 Phần cơ sở/final_test1/PetImages/Cat/Thumbs.db'\n",
            "cannot identify image file '/content/drive/MyDrive/Classroom/Học máy 1 Phần cơ sở/final_test1/PetImages/Cat/666.jpg'\n",
            "'NoneType' object has no attribute 'ReadAsArray'\n",
            "cannot identify image file '/content/drive/MyDrive/Classroom/Học máy 1 Phần cơ sở/final_test1/PetImages/Dog/Thumbs.db'\n"
          ]
        },
        {
          "output_type": "stream",
          "name": "stderr",
          "text": [
            "/usr/local/lib/python3.8/dist-packages/PIL/TiffImagePlugin.py:767: UserWarning: Possibly corrupt EXIF data.  Expecting to read 32 bytes but only got 0. Skipping tag 270\n",
            "  warnings.warn(\n",
            "/usr/local/lib/python3.8/dist-packages/PIL/TiffImagePlugin.py:767: UserWarning: Possibly corrupt EXIF data.  Expecting to read 5 bytes but only got 0. Skipping tag 271\n",
            "  warnings.warn(\n",
            "/usr/local/lib/python3.8/dist-packages/PIL/TiffImagePlugin.py:767: UserWarning: Possibly corrupt EXIF data.  Expecting to read 8 bytes but only got 0. Skipping tag 272\n",
            "  warnings.warn(\n",
            "/usr/local/lib/python3.8/dist-packages/PIL/TiffImagePlugin.py:767: UserWarning: Possibly corrupt EXIF data.  Expecting to read 8 bytes but only got 0. Skipping tag 282\n",
            "  warnings.warn(\n",
            "/usr/local/lib/python3.8/dist-packages/PIL/TiffImagePlugin.py:767: UserWarning: Possibly corrupt EXIF data.  Expecting to read 8 bytes but only got 0. Skipping tag 283\n",
            "  warnings.warn(\n",
            "/usr/local/lib/python3.8/dist-packages/PIL/TiffImagePlugin.py:767: UserWarning: Possibly corrupt EXIF data.  Expecting to read 20 bytes but only got 0. Skipping tag 306\n",
            "  warnings.warn(\n",
            "/usr/local/lib/python3.8/dist-packages/PIL/TiffImagePlugin.py:767: UserWarning: Possibly corrupt EXIF data.  Expecting to read 48 bytes but only got 0. Skipping tag 532\n",
            "  warnings.warn(\n",
            "/usr/local/lib/python3.8/dist-packages/PIL/TiffImagePlugin.py:788: UserWarning: Corrupt EXIF data.  Expecting to read 2 bytes but only got 0. \n",
            "  warnings.warn(str(msg))\n"
          ]
        },
        {
          "output_type": "stream",
          "name": "stdout",
          "text": [
            "cannot identify image file '/content/drive/MyDrive/Classroom/Học máy 1 Phần cơ sở/final_test1/PetImages/Dog/11702.jpg'\n",
            "Confusion matrix, without normalization\n",
            "[[2030 1641]\n",
            " [1269 2560]]\n"
          ]
        },
        {
          "output_type": "display_data",
          "data": {
            "text/plain": [
              "<Figure size 432x288 with 2 Axes>"
            ],
            "image/png": "[encoded data removed]"
          },
          "metadata": {
            "needs_background": "light"
          }
        },
        {
          "output_type": "stream",
          "name": "stdout",
          "text": [
            "Confusion matrix, without normalization\n",
            "[[2229 1442]\n",
            " [1749 2080]]\n"
          ]
        },
        {
          "output_type": "display_data",
          "data": {
            "text/plain": [
              "<Figure size 432x288 with 2 Axes>"
            ],
            "image/png": "[encoded data removed]"
          },
          "metadata": {
            "needs_background": "light"
          }
        },
        {
          "output_type": "stream",
          "name": "stdout",
          "text": [
            "\n",
            "ĐÁNH GIÁ MÔ HÌNH K-NN\n",
            "accuracy score:  0.612\n",
            "Balandced accuracy score:  0.610782356813431\n",
            "Haming loss:  0.388\n",
            "\n",
            "ĐÁNH GIÁ MÔ HÌNH LOGISTIC RREGRESSION\n",
            "accuracy score:  0.5745333333333333\n",
            "Balandced accuracy score:  0.5752071372617706\n",
            "Haming loss:  0.42546666666666666\n",
            "Logistic Regression\n",
            "----------------------------------\n",
            "Accuracy: 0.5745333333333333\n",
            "Classification report:\n",
            "              precision    recall  f1-score   support\n",
            "\n",
            "           0       0.56      0.61      0.58      3671\n",
            "           1       0.59      0.54      0.57      3829\n",
            "\n",
            "    accuracy                           0.57      7500\n",
            "   macro avg       0.58      0.58      0.57      7500\n",
            "weighted avg       0.58      0.57      0.57      7500\n",
            "\n",
            "\n",
            "\tBảng so sánh\n",
            "      Scores       kNN  Logistic regression\n",
            "0   accuracy  0.612000             0.574533\n",
            "1  precision  0.609379             0.590574\n",
            "2     recall  0.668582             0.543223\n",
            "3         f1  0.637609             0.565909\n",
            "\n",
            "\tprecision_recall_curve mô hình kNN\n"
          ]
        },
        {
          "output_type": "display_data",
          "data": {
            "text/plain": [
              "<Figure size 432x288 with 1 Axes>"
            ],
            "image/png": "[encoded data removed]"
          },
          "metadata": {
            "needs_background": "light"
          }
        },
        {
          "output_type": "stream",
          "name": "stdout",
          "text": [
            "\n",
            "\tprecision_recall_curve mô hình logistic\n"
          ]
        },
        {
          "output_type": "display_data",
          "data": {
            "text/plain": [
              "<Figure size 432x288 with 1 Axes>"
            ],
            "image/png": "[encoded data removed]"
          },
          "metadata": {
            "needs_background": "light"
          }
        },
        {
          "output_type": "stream",
          "name": "stdout",
          "text": [
            "\n",
            "\tROC mô hình kNN\n"
          ]
        },
        {
          "output_type": "display_data",
          "data": {
            "text/plain": [
              "<Figure size 432x288 with 1 Axes>"
            ],
            "image/png": "[encoded data removed]"
          },
          "metadata": {
            "needs_background": "light"
          }
        },
        {
          "output_type": "stream",
          "name": "stdout",
          "text": [
            "\n",
            "\tROC mô hình logistic_classifier\n"
          ]
        },
        {
          "output_type": "display_data",
          "data": {
            "text/plain": [
              "<Figure size 432x288 with 1 Axes>"
            ],
            "image/png": "[encoded data removed]"
          },
          "metadata": {
            "needs_background": "light"
          }
        }
      ],
      "source": [
        "import numpy as np\n",
        "import pandas as pd\n",
        "import pickle\n",
        "import matplotlib.pyplot as plt\n",
        "import seaborn as sns\n",
        "from PIL import Image\n",
        "from skimage import io\n",
        "from skimage.transform import resize\n",
        "import os\n",
        "# Tiền xử lý dữ liệu\n",
        "from sklearn.preprocessing import LabelBinarizer\n",
        "from sklearn.model_selection import train_test_split\n",
        "# Huấn luyện mô hình\n",
        "from sklearn.neighbors import  KNeighborsClassifier\n",
        "from sklearn.model_selection import GridSearchCV\n",
        "from sklearn.linear_model import LogisticRegressionCV\n",
        "# Đánh giá mô hình\n",
        "from sklearn.metrics import confusion_matrix\n",
        "from sklearn.metrics import accuracy_score\n",
        "from sklearn.metrics import precision_score\n",
        "from sklearn.metrics import recall_score\n",
        "from sklearn.metrics import balanced_accuracy_score\n",
        "from sklearn.metrics import hamming_loss\n",
        "from sklearn.metrics import f1_score\n",
        "from sklearn.metrics import classification_report\n",
        "from sklearn.metrics import precision_recall_curve\n",
        "from sklearn.metrics import roc_curve, roc_auc_score\n",
        "\n",
        "PATH = \"/content/drive/MyDrive/Classroom/Học máy 1 Phần cơ sở/final_test1/PetImages\"\n",
        "\n",
        "#HÀM KIỂM TRA ẢNH CÓ LỖI HAY KHÔNG\n",
        "def check_corrupted_image(file):\n",
        "    try:\n",
        "        with Image.open(file) as img:\n",
        "            img.verify()\n",
        "            img_new = io.imread(os.path.join(file))\n",
        "        return False\n",
        "    except Exception as e:\n",
        "        print(e)\n",
        "        return True\n",
        "\n",
        "def read_img_data(path, size):\n",
        "    X = []\n",
        "    y = []\n",
        "    label = path.split (\"\\\\\")[-1]\n",
        "    files = os.listdir(path)\n",
        "    for img_file in files:\n",
        "        if not check_corrupted_image(os.path.join(path,img_file)):\n",
        "            img = io.imread(os.path.join(path, img_file), as_gray=True)\n",
        "            img = resize(img, size)\n",
        "            img_flatten = list(img.flatten())\n",
        "            X.append(img_flatten)\n",
        "            y.append(label)\n",
        "    return X,y\n",
        "\n",
        "def read_img_datasets(folder_path, size):\n",
        "    X = []\n",
        "    y = []\n",
        "    for img_folder in os.listdir(folder_path):\n",
        "        X_temp, y_temp = read_img_data(os.path.join(folder_path, img_folder), size)\n",
        "        X.extend(X_temp)\n",
        "        y.extend(y_temp)\n",
        "    return np.array(X), np.array(y)\n",
        "\n",
        "# mã hóa nhãn lớp\n",
        "def encode_label(y):\n",
        "    lb = LabelBinarizer()\n",
        "    return lb.fit_transform(y).reshape(y.shape[0], )\n",
        "\n",
        "def count_unique_labels(y):\n",
        "    unique, counts = np.unique(y, return_counts = True)\n",
        "    result = dict(zip(unique, counts))\n",
        "    return result\n",
        "\n",
        "#hàm chuyển ảnh màn hình thành vector 1024\n",
        "def convert_D_2_vector(path,label,size):\n",
        "    labels = []\n",
        "    img_data = []\n",
        "    images = os.listdir(path)\n",
        "    for img_file in images:\n",
        "        if not(check_corrupted_image(os.path.join(path,img_file))):\n",
        "            img_grey = io.imread(os.path.join(path,img_file), as_grey = True)\n",
        "            img_vector = resize(img_grey,size).flatten()\n",
        "            img_data.append(img_vector)\n",
        "            labels.append(label)\n",
        "    return img_data, labels\n",
        "\n",
        "#Hàm huấn luyện mô hình\n",
        "def kNN_grid_search_cv(X_train, y_train):\n",
        "    from math import sqrt\n",
        "    m = y_train.shape[0]\n",
        "    k_max = int(sqrt(m)/2)\n",
        "    k_values = np.arange(start = 1, stop = k_max + 1, dtype = int)\n",
        "    params = { 'n_neighbors': k_values}\n",
        "    kNN = KNeighborsClassifier()\n",
        "    kNN_grid = GridSearchCV(kNN, params, cv=3)\n",
        "    kNN_grid.fit(X_train, y_train)\n",
        "    return kNN_grid\n",
        "\n",
        "def logistic_regression_cv(X_train, y_train):\n",
        "    logistic_classifier = LogisticRegressionCV(cv=5, solver=\"sag\", max_iter=2000)\n",
        "    logistic_classifier.fit(X_train, y_train)\n",
        "    return logistic_classifier\n",
        "\n",
        "\n",
        "\n",
        "\n",
        "\n",
        "\n",
        "#Hàm đánh giá mô hình\n",
        "def evaluate_model(y_test, y_pred):\n",
        "    print(\"accuracy score: \", accuracy_score(y_test, y_pred))\n",
        "    print(\"Balandced accuracy score: \", balanced_accuracy_score(y_test, y_pred))\n",
        "    print(\"Haming loss: \", hamming_loss(y_test, y_pred))\n",
        "\n",
        "def evaluate_report(name, y_test, y_pred):\n",
        "    print(name)    \n",
        "    print(\"----------------------------------\")\n",
        "    print(\"Accuracy:\", accuracy_score(y_test, y_pred))\n",
        "    print(\"Classification report:\")\n",
        "    print(classification_report(y_test, y_pred))\n",
        "\n",
        "\n",
        "\n",
        "import itertools\n",
        "def plot_confusion_matrix(cm, classes, normalize=False, title='Confusion matrix', cmap=plt.cm.Blues):\n",
        "    if normalize:\n",
        "        cm = cm.astype('float') / cm.sum(axis=1)[:, np.newaxis]\n",
        "        print(\"Normalized confusion matrix\")\n",
        "    else:\n",
        "        print('Confusion matrix, without normalization')\n",
        "    print(cm)\n",
        "\n",
        "    plt.imshow(cm, interpolation='nearest', cmap=cmap)\n",
        "    plt.title(title)\n",
        "    plt.colorbar()\n",
        "    tick_marks = np.arange(len(classes))\n",
        "    plt.xticks(tick_marks, classes, rotation=45)\n",
        "    plt.yticks(tick_marks, classes)\n",
        "\n",
        "    fmt = '.2f' if normalize else 'd'\n",
        "    thresh = cm.max() / 2.\n",
        "    for i, j in itertools.product(range(cm.shape[0]), range(cm.shape[1])):\n",
        "        plt.text(j, i, format(cm[i, j], fmt),\n",
        "                 horizontalalignment=\"center\",\n",
        "                 color=\"white\" if cm[i, j] > thresh else \"black\")\n",
        "\n",
        "    plt.tight_layout()\n",
        "    plt.ylabel('True label')\n",
        "    plt.xlabel('Predicted label')\n",
        "    plt.show()\n",
        "     \n",
        "\n",
        "\n",
        "# vì ta đã xác định được từ đầu là bài toán phân lớp nhị phân nên ta dùng thang đo \"binary\"\n",
        "def test_score(y_test, y_pred, class_type = \"binary\"):\n",
        "    if class_type == \"binary\":\n",
        "        accuracy = accuracy_score(y_test, y_pred)\n",
        "        precision = precision_score(y_test, y_pred)\n",
        "        recall = recall_score(y_test, y_pred)\n",
        "        f1 = f1_score(y_test, y_pred)\n",
        "        result = [accuracy, precision, recall, f1]\n",
        "    return result\n",
        "\n",
        "def test_table(knn_score, lg_score):\n",
        "    result = {\"Scores\": [\"accuracy\", \"precision\", \"recall\", \"f1\"],\n",
        "              \"kNN\": knn_score,\"Logistic regression\":lg_score}\n",
        "    return pd.DataFrame(result)\n",
        "\n",
        "\n",
        "def draw_precision_recall_curve(X_test, y_test, modal, name):\n",
        "    no_modal = len(y_test [y_test == 1])/len(y_test)\n",
        "    plt.plot([0,1], [no_modal, no_modal], linestyle = '--', label = 'No Skill')\n",
        "    probs = modal.predict_proba(X_test) [:, 1]\n",
        "    pre, rec, _ = precision_recall_curve(y_test, probs)\n",
        "    plt.plot(pre, rec, label=name)\n",
        "    plt.xlabel('Recall')\n",
        "    plt.ylabel('Precision')\n",
        "    plt.legend()\n",
        "    plt.show()\n",
        "\n",
        "def draw_ROC(X_test, y_test, modal, name):\n",
        "    # generate a no skill prediction (majority class)\n",
        "    ns_probs = [0 for _ in range(len(y_test))]\n",
        "    probs = modal.predict_proba(X_test)[:, 1]\n",
        "    auc = roc_auc_score(y_test, probs)\n",
        "    ns_fpr, ns_tpr, _ = roc_curve(y_test, ns_probs)\n",
        "    fpr, tpr, _ = roc_curve(y_test, probs)\n",
        "    #plt.plot(ns_probs, ns_tpr, linestyle='--', label='No Skill')\n",
        "    plt.plot(fpr, tpr, marker='.', label=name)\n",
        "    plt.xlabel('False Positive Rate')\n",
        "    plt.ylabel('True Positive Rate')\n",
        "    plt.legend()\n",
        "    plt.show()\n",
        "\n",
        "def save_data(name,data):\n",
        "    pickle_out = open(f\"{name}.pickle\", \"wb\")\n",
        "    pickle.dump(data, pickle_out)\n",
        "    pickle_out.close()\n",
        "def import_data(name):\n",
        "    pickle_in = open(f\"{name}.pickle\", \"rb\")\n",
        "    X = pickle.load(pickle_in)\n",
        "\n",
        "\n",
        "def main():\n",
        "    # đọc dữ liệu ảnh, nhãn từ các folder\n",
        "    X, y = read_img_datasets(PATH, size = (32,32))\n",
        "    save_data(\"X\",X)\n",
        "    save_data(\"y\",y)\n",
        "\n",
        "\n",
        "    # mã hoá nhãn lớp\n",
        "    y = encode_label(y)    \n",
        "\n",
        "    # phân chia tập train và test\n",
        "    X_train, X_test, y_train, y_test = train_test_split(X, y, test_size=0.3, shuffle = True, random_state = 15)\n",
        "\n",
        "    #huấn luyện mô hình\n",
        "    kNN_classifier = kNN_grid_search_cv(X_train, y_train)\n",
        "    logistic_classifier = logistic_regression_cv(X_train, y_train)\n",
        "    save_data(\"kNN_classifier\",kNN_classifier)\n",
        "    save_data(\"logistic_classifier\",logistic_classifier)\n",
        "\n",
        "    # dự đoán kết quả\n",
        "    y_pred_kNN = kNN_classifier.predict(X_test)\n",
        "    y_pred_logistic = logistic_classifier.predict(X_test)\n",
        "\n",
        "    # Ma trận hỗn hợp\n",
        "    confusion = confusion_matrix(y_test, y_pred_kNN)\n",
        "    plot_confusion_matrix(confusion, classes=['True', 'False'],\n",
        "                          title='Confusion matrix of kNN model')\n",
        "    confusion = confusion_matrix(y_test, y_pred_logistic)\n",
        "    plot_confusion_matrix(confusion, classes=['True', 'False'],\n",
        "                          title='Confusion matrix of y_pred_logistic model')\n",
        "\n",
        "    # đánh giá mô hình\n",
        "    print(\"\\nĐÁNH GIÁ MÔ HÌNH K-NN\")\n",
        "    evaluate_model(y_test, y_pred_kNN)\n",
        "    print(\"\\nĐÁNH GIÁ MÔ HÌNH LOGISTIC RREGRESSION\")\n",
        "    evaluate_model(y_test, y_pred_logistic)\n",
        "\n",
        "    # report\n",
        "    evaluate_report(\"Logistic Regression\",y_test, y_pred_logistic)\n",
        "\n",
        "    #plot_confusion_matrix(y_test,y_pred_logistic)\n",
        "    knn_score = test_score(y_test, y_pred_kNN)\n",
        "    lg_score = test_score(y_test, y_pred_logistic)\n",
        "\n",
        "    print(\"\\n\\tBảng so sánh\")\n",
        "    print(test_table(knn_score,lg_score))\n",
        "\n",
        "    print(\"\\n\\tprecision_recall_curve mô hình kNN\")\n",
        "    draw_precision_recall_curve(X_test, y_test,kNN_classifier, \"kNN_classifier\")\n",
        "    print(\"\\n\\tprecision_recall_curve mô hình logistic\")\n",
        "    draw_precision_recall_curve(X_test, y_test,logistic_classifier, \"logistic_classifier\")\n",
        "\n",
        "    print(\"\\n\\tROC mô hình kNN\")\n",
        "    draw_ROC(X_test, y_test,kNN_classifier, \"kNN_classifier\")\n",
        "    print(\"\\n\\tROC mô hình logistic_classifier\")\n",
        "    draw_ROC(X_test, y_test, logistic_classifier, \"logistic_classifier\")\n",
        "\n",
        "\n",
        "\n",
        "if __name__ == '__main__':\n",
        "    main()"
      ]
    },
    {
      "cell_type": "code",
      "source": [],
      "metadata": {
        "id": "kUghastMYs-C"
      },
      "execution_count": null,
      "outputs": []
    }
  ],
  "metadata": {
    "accelerator": "GPU",
    "colab": {
      "provenance": [],
      "include_colab_link": true
    },
    "gpuClass": "standard",
    "kernelspec": {
      "display_name": "Python 3",
      "name": "python3"
    },
    "language_info": {
      "name": "python"
    }
  },
  "nbformat": 4,
  "nbformat_minor": 0
}