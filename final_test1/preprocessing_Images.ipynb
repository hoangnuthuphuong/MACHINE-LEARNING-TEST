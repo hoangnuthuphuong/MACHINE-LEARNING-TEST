{
  "cells": [
    {
      "cell_type": "markdown",
      "metadata": {
        "id": "view-in-github",
        "colab_type": "text"
      },
      "source": [
        "<a href=\"https://colab.research.google.com/github/hoangnuthuphuong/MACHINE-LEARNING-TEST/blob/main/final_test1/preprocessing_Images.ipynb\" target=\"_parent\"><img src=\"https://colab.research.google.com/assets/colab-badge.svg\" alt=\"Open In Colab\"/></a>"
      ]
    },
    {
      "cell_type": "code",
      "execution_count": 8,
      "metadata": {
        "colab": {
          "base_uri": "https://localhost:8080/"
        },
        "id": "KyxdqtP07aYn",
        "outputId": "2a215c72-b435-483e-80e7-30f107dd470b"
      },
      "outputs": [
        {
          "output_type": "stream",
          "name": "stdout",
          "text": [
            "Mounted at /content/drive\n"
          ]
        }
      ],
      "source": [
        "from google.colab import drive\n",
        "drive.mount('/content/drive')"
      ]
    },
    {
      "cell_type": "code",
      "source": [
        "import numpy as np\n",
        "import pandas as pd\n",
        "import itertools\n",
        "import pickle\n",
        "import os\n",
        "# Tiền xử lý dữ liệu ảnh\n",
        "from PIL import Image\n",
        "from skimage import io\n",
        "from skimage.transform import resize\n",
        "from sklearn.preprocessing import LabelBinarizer\n",
        "from sklearn.model_selection import train_test_split\n",
        "# Huấn luyện mô hình\n",
        "from sklearn.neighbors import KNeighborsClassifier\n",
        "from sklearn.model_selection import GridSearchCV\n",
        "from sklearn.linear_model import LogisticRegressionCV\n",
        "# Đánh giá mô hình\n",
        "from sklearn.metrics import confusion_matrix\n",
        "from sklearn.metrics import accuracy_score\n",
        "from sklearn.metrics import precision_score\n",
        "from sklearn.metrics import recall_score\n",
        "from sklearn.metrics import balanced_accuracy_score\n",
        "from sklearn.metrics import hamming_loss\n",
        "from sklearn.metrics import f1_score\n",
        "from sklearn.metrics import classification_report\n",
        "from sklearn.metrics import precision_recall_curve\n",
        "from sklearn.metrics import roc_curve, roc_auc_score\n",
        "# Trực quan hóa dữ liệu\n",
        "import matplotlib.pyplot as plt\n",
        "import seaborn as sns"
      ],
      "metadata": {
        "id": "OkZuncmxKPDL"
      },
      "execution_count": 11,
      "outputs": []
    },
    {
      "cell_type": "code",
      "execution_count": 12,
      "metadata": {
        "id": "AwSA167QMknR"
      },
      "outputs": [],
      "source": [
        "#HÀM KIỂM TRA ẢNH CÓ LỖI HAY KHÔNG\n",
        "def check_corrupted_image(file):\n",
        "    try:\n",
        "        with Image.open(file) as img:\n",
        "            img.verify()\n",
        "            img_new = io.imread(os.path.join(file))\n",
        "        return False\n",
        "    except Exception as e:\n",
        "        print(e)\n",
        "        return True\n",
        "\n",
        "def read_img_data(path, size):\n",
        "    X = []\n",
        "    y = []\n",
        "    label = path.split (\"\\\\\")[-1]\n",
        "    files = os.listdir(path)\n",
        "    for img_file in files:\n",
        "        if not check_corrupted_image(os.path.join(path,img_file)):\n",
        "            img = io.imread(os.path.join(path, img_file), as_gray=True)\n",
        "            img = resize(img, size)\n",
        "            img_flatten = list(img.flatten())\n",
        "            X.append(img_flatten)\n",
        "            y.append(label)\n",
        "    return X,y\n",
        "\n",
        "def build_imd_data(folder_path, size):\n",
        "    X = []\n",
        "    y = []\n",
        "    for img_folder in os.listdir(folder_path):\n",
        "        X_temp, y_temp = read_img_data(os.path.join(folder_path, img_folder), size)\n",
        "        X.extend(X_temp)\n",
        "        y.extend(y_temp)\n",
        "    return np.array(X), np.array(y)\n",
        "\n",
        "# mã hóa nhãn lớp\n",
        "def encode_label(y):\n",
        "    lb = LabelBinarizer()\n",
        "    return lb.fit_transform(y).reshape(y.shape[0], )\n",
        "\n",
        "def count_unique_labels1(y):\n",
        "    plt.title(\"CLASS LABEL BALANCE TEST\", size=20, color=\"black\")\n",
        "    count_label = sns.countplot(y, label=\"Count\", palette=\"muted\", x=\"diagnosis\")\n",
        "    unique, counts = np.unique(y, return_counts = True)\n",
        "    print('Cat: ', unique)\n",
        "    print('Dog: ', counts)\n",
        "    result = dict(zip(unique, counts))\n",
        "    count_label.set_xticklabels([\"Cat\", \"Dog\",])\n",
        "    print(result)\n",
        "\n",
        "def count_unique_labels(y):\n",
        "    unique, counts = np.unique(y, return_counts = True)\n",
        "    result = dict(zip(unique, counts))\n",
        "    return result\n",
        "\n",
        "\n",
        "\n",
        "\n",
        "#Hàm huấn luyện mô hình\n",
        "def kNN_grid_search_cv(X_train, y_train):\n",
        "    from math import sqrt\n",
        "    m = y_train.shape[0]\n",
        "    k_max = int(sqrt(m)/2)\n",
        "    k_values = np.arange(start = 1, stop = k_max + 1, dtype = int)\n",
        "    params = { 'n_neighbors': k_values}\n",
        "    kNN = KNeighborsClassifier()\n",
        "    kNN_grid = GridSearchCV(kNN, params, cv=3)\n",
        "    kNN_grid.fit(X_train, y_train)\n",
        "    return kNN_grid\n",
        "\n",
        "def logistic_regression_cv(X_train, y_train):\n",
        "    logistic_classifier = LogisticRegressionCV(cv=5, solver=\"sag\", max_iter=2000)\n",
        "    logistic_classifier.fit(X_train, y_train)\n",
        "    return logistic_classifier\n",
        "\n",
        "\n",
        "#Hàm đánh giá mô hình\n",
        "def evaluate_model(y_test, y_pred):\n",
        "    print(\"accuracy score: \", accuracy_score(y_test, y_pred))\n",
        "    print(\"Balandced accuracy score: \", balanced_accuracy_score(y_test, y_pred))\n",
        "    print(\"Haming loss: \", hamming_loss(y_test, y_pred))\n",
        "\n",
        "def evaluate_report(y_test, y_pred):\n",
        "    print(\"Classification report:\")\n",
        "    print(classification_report(y_test, y_pred))\n",
        "\n",
        "\n",
        "\n",
        "\n",
        "def plot_confusion_matrix(cm, classes, normalize=False, title='Confusion matrix', cmap=plt.cm.Blues):\n",
        "    if normalize:\n",
        "        cm = cm.astype('float') / cm.sum(axis=1)[:, np.newaxis]\n",
        "        print(\"Normalized confusion matrix\")\n",
        "    else:\n",
        "        print('\\nConfusion matrix, without normalization')\n",
        "    print(cm)\n",
        "    plt.imshow(cm, interpolation='nearest', cmap=cmap)\n",
        "    plt.title(title)\n",
        "    plt.colorbar()\n",
        "    tick_marks = np.arange(len(classes))\n",
        "    plt.xticks(tick_marks, classes, rotation=45)\n",
        "    plt.yticks(tick_marks, classes)\n",
        "\n",
        "    fmt = '.2f' if normalize else 'd'\n",
        "    thresh = cm.max() / 2.\n",
        "    for i, j in itertools.product(range(cm.shape[0]), range(cm.shape[1])):\n",
        "        plt.text(j, i, format(cm[i, j], fmt),\n",
        "                 horizontalalignment=\"center\",\n",
        "                 color=\"white\" if cm[i, j] > thresh else \"black\")\n",
        "\n",
        "    plt.tight_layout()\n",
        "    plt.ylabel('True label')\n",
        "    plt.xlabel('Predicted label')\n",
        "    plt.show()\n",
        "\n",
        "# vì ta đã xác định được từ đầu là bài toán phân lớp nhị phân nên ta dùng thang đo \"binary\"\n",
        "def test_score(y_test, y_pred, class_type = \"binary\"):\n",
        "    if class_type == \"binary\":\n",
        "        accuracy = accuracy_score(y_test, y_pred)\n",
        "        precision = precision_score(y_test, y_pred)\n",
        "        recall = recall_score(y_test, y_pred)\n",
        "        f1 = f1_score(y_test, y_pred)\n",
        "        result = [accuracy, precision, recall, f1]\n",
        "    return result\n",
        "\n",
        "def test_table(knn_score, lg_score):\n",
        "    result = {\"Scores\": [\"accuracy\", \"precision\", \"recall\", \"f1\"],\n",
        "              \"kNN\": knn_score,\"Logistic regression\":lg_score}\n",
        "    return pd.DataFrame(result)\n",
        "\n",
        "\n",
        "def draw_precision_recall_curve(X_test, y_test, modal, name):\n",
        "    no_modal = len(y_test [y_test == 1])/len(y_test)\n",
        "    plt.plot([0,1], [no_modal, no_modal], linestyle = '--', label = 'No Skill')\n",
        "    probs = modal.predict_proba(X_test) [:, 1]\n",
        "    pre, rec, _ = precision_recall_curve(y_test, probs)\n",
        "    plt.plot(pre, rec, label=name)\n",
        "    plt.xlabel('Recall')\n",
        "    plt.ylabel('Precision')\n",
        "    plt.legend()\n",
        "    plt.show()\n",
        "\n",
        "def draw_ROC(X_test, y_test, modal, name):\n",
        "    # generate a no skill prediction (majority class)\n",
        "    ns_probs = [0 for _ in range(len(y_test))]\n",
        "    probs = modal.predict_proba(X_test)[:, 1]\n",
        "    auc = roc_auc_score(y_test, probs)\n",
        "    ns_fpr, ns_tpr, _ = roc_curve(y_test, ns_probs)\n",
        "    fpr, tpr, _ = roc_curve(y_test, probs)\n",
        "    # plt.plot(ns_probs, ns_tpr, linestyle='--', label='No Skill')\n",
        "    plt.plot(fpr, tpr, marker='.', label=name)\n",
        "    plt.xlabel('False Positive Rate')\n",
        "    plt.ylabel('True Positive Rate')\n",
        "    plt.legend()\n",
        "    plt.show()\n",
        "\n",
        "def save_data(name,data):\n",
        "    pickle_out = open(f\"{name}.pickle\", \"wb\")\n",
        "    pickle.dump(data, pickle_out)\n",
        "    pickle_out.close()\n",
        "def import_data(name):\n",
        "    pickle_in = open(f\"{name}.pickle\", \"rb\")\n",
        "    X = pickle.load(pickle_in)\n",
        "    return x\n",
        "\n",
        "\n"
      ]
    },
    {
      "cell_type": "code",
      "source": [
        "def main():\n",
        "    # Đọc và xây dựng cơ sở dữ liệu\n",
        "    data_dir = \"/content/drive/MyDrive/Classroom/Học máy 1 Phần cơ sở/final_test1/PetImages\"\n",
        "    X, y = build_imd_data(data_dir, size = (32,32))  \n",
        "    save_data(\"X\",X)\n",
        "    save_data(\"y\",y)\n",
        "\n",
        "    # mã hoá nhãn lớp\n",
        "    y = encode_label(y)\n",
        "    print(count_unique_labels(y))\n",
        "\n",
        "    # phân chia tập train và test\n",
        "    X_train, X_test, y_train, y_test = train_test_split(X, y,\n",
        "                                                        test_size=0.3,\n",
        "                                                        shuffle = True,\n",
        "                                                        random_state = 15)\n",
        "\n",
        "    print(\"HUẤN LUYỆN MÔ HÌNH LOGISTIC REGRESSION\")\n",
        "    logistic_classifier = logistic_regression_cv(X_train, y_train)\n",
        "    # Lưu kết quả huấn luyện vào pickle\n",
        "    save_data(\"logistic_classifier\",logistic_classifier)\n",
        "    y_pred_logistic = logistic_classifier.predict(X_test)\n",
        "    print(\"Kết quả dự đoán của mô hình logistic regression:\\n\",y_pred_logistic)\n",
        "    confusion = confusion_matrix(y_test, y_pred_logistic)\n",
        "    plot_confusion_matrix(confusion, classes=['True', 'False'],\n",
        "                          title='Confusion matrix of logistic model')\n",
        "    print(\"\\nĐánh giá hiệu năng của mô hình logistic regression\")\n",
        "    evaluate_model(y_test, y_pred_logistic)\n",
        "    evaluate_report(y_test, y_pred_logistic)\n",
        "    lg_score = test_score(y_test, y_pred_logistic)\n",
        "    print(\"\\n\\tprecision_recall_curve mô hình logistic\")\n",
        "    draw_precision_recall_curve(X_test, y_test,logistic_classifier, \"logistic_classifier\")\n",
        "    print(\"\\n\\tROC mô hình logistic_classifier\")\n",
        "    draw_ROC(X_test, y_test, logistic_classifier, \"logistic_classifier\")\n",
        "\n",
        "\n",
        "    print(\"\\n\\nHUẤN LUYỆN MÔ HÌNH k-NN\")\n",
        "    kNN_classifier = kNN_grid_search_cv(X_train, y_train)\n",
        "    # Lưu kết quả huấn luyện vào pickle\n",
        "    save_data(\"kNN_classifier\",kNN_classifier)\n",
        "    y_pred_kNN = kNN_classifier.predict(X_test)\n",
        "    print(\"Kết quả dự đoán của mô hình k lân cận:\\n\",y_pred_kNN)\n",
        "    confusion = confusion_matrix(y_test, y_pred_kNN)\n",
        "    plot_confusion_matrix(confusion, classes=['True', 'False'],\n",
        "                          title='Confusion matrix of k_NN model')\n",
        "    print(\"\\nĐánh giá hiệu năng của mô hình k lân cận\")\n",
        "    evaluate_model(y_test, y_pred_kNN)\n",
        "    evaluate_report(y_test, y_pred_kNN)\n",
        "    knn_score = test_score(y_test, y_pred_kNN)\n",
        "    print(\"\\n\\tprecision_recall_curve mô hình k-NN\")\n",
        "    draw_precision_recall_curve(X_test, y_test,kNN_classifier, \"kNN_classifier\")\n",
        "    print(\"\\n\\tROC mô hình k-NN\")\n",
        "    draw_ROC(X_test, y_test,kNN_classifier, \"kNN_classifier\")\n",
        "def main():\n",
        "    # Đọc và xây dựng cơ sở dữ liệu\n",
        "    data_dir = \"/content/drive/MyDrive/Classroom/Học máy 1 Phần cơ sở/final_test1/PetImages\"\n",
        "    X, y = build_imd_data(data_dir, size = (32,32))  \n",
        "    save_data(\"X\",X)\n",
        "    save_data(\"y\",y)\n",
        "\n",
        "    # mã hoá nhãn lớp\n",
        "    y = encode_label(y)\n",
        "    print(count_unique_labels(y))\n",
        "\n",
        "    # phân chia tập train và test\n",
        "    X_train, X_test, y_train, y_test = train_test_split(X, y,\n",
        "                                                        test_size=0.3,\n",
        "                                                        shuffle = True,\n",
        "                                                        random_state = 15)\n",
        "\n",
        "    print(\"HUẤN LUYỆN MÔ HÌNH LOGISTIC REGRESSION\")\n",
        "    logistic_classifier = logistic_regression_cv(X_train, y_train)\n",
        "    # Lưu kết quả huấn luyện vào pickle\n",
        "    save_data(\"logistic_classifier\",logistic_classifier)\n",
        "    y_pred_logistic = logistic_classifier.predict(X_test)\n",
        "    print(\"Kết quả dự đoán của mô hình logistic regression:\\n\",y_pred_logistic)\n",
        "    confusion = confusion_matrix(y_test, y_pred_logistic)\n",
        "    plot_confusion_matrix(confusion, classes=['True', 'False'],\n",
        "                          title='Confusion matrix of logistic model')\n",
        "    print(\"\\nĐánh giá hiệu năng của mô hình logistic regression\")\n",
        "    evaluate_model(y_test, y_pred_logistic)\n",
        "    evaluate_report(y_test, y_pred_logistic)\n",
        "    lg_score = test_score(y_test, y_pred_logistic)\n",
        "    print(\"\\n\\tprecision_recall_curve mô hình logistic\")\n",
        "    draw_precision_recall_curve(X_test, y_test,logistic_classifier, \"logistic_classifier\")\n",
        "    print(\"\\n\\tROC mô hình logistic_classifier\")\n",
        "    draw_ROC(X_test, y_test, logistic_classifier, \"logistic_classifier\")\n",
        "\n",
        "\n",
        "    print(\"\\n\\nHUẤN LUYỆN MÔ HÌNH k-NN\")\n",
        "    kNN_classifier = kNN_grid_search_cv(X_train, y_train)\n",
        "    # Lưu kết quả huấn luyện vào pickle\n",
        "    save_data(\"kNN_classifier\",kNN_classifier)\n",
        "    y_pred_kNN = kNN_classifier.predict(X_test)\n",
        "    print(\"Kết quả dự đoán của mô hình k lân cận:\\n\",y_pred_kNN)\n",
        "    confusion = confusion_matrix(y_test, y_pred_kNN)\n",
        "    plot_confusion_matrix(confusion, classes=['True', 'False'],\n",
        "                          title='Confusion matrix of k_NN model')\n",
        "    print(\"\\nĐánh giá hiệu năng của mô hình k lân cận\")\n",
        "    evaluate_model(y_test, y_pred_kNN)\n",
        "    evaluate_report(y_test, y_pred_kNN)\n",
        "    knn_score = test_score(y_test, y_pred_kNN)\n",
        "    print(\"\\n\\tprecision_recall_curve mô hình k-NN\")\n",
        "    draw_precision_recall_curve(X_test, y_test,kNN_classifier, \"kNN_classifier\")\n",
        "    print(\"\\n\\tROC mô hình k-NN\")\n",
        "    draw_ROC(X_test, y_test,kNN_classifier, \"kNN_classifier\")\n",
        "\n",
        "    print(count_unique_labels1(y))\n",
        "    print(\"\\nBảng so sánh hai mô hình logistic regression và k-NN\")\n",
        "    print(test_table(knn_score,lg_score))\n",
        "\n",
        "if __name__ == '__main__':\n",
        "    main()\n",
        "\n",
        "    print(count_unique_labels1(y))\n",
        "    print(\"\\nBảng so sánh hai mô hình logistic regression và k-NN\")\n",
        "    print(test_table(knn_score,lg_score))\n",
        "\n",
        "if __name__ == '__main__':\n",
        "    main()\n"
      ],
      "metadata": {
        "id": "kUghastMYs-C",
        "colab": {
          "base_uri": "https://localhost:8080/",
          "height": 1000
        },
        "outputId": "1bf57f24-f168-40f4-dbbb-8116fd4edecd"
      },
      "execution_count": 13,
      "outputs": [
        {
          "metadata": {
            "tags": null
          },
          "name": "stdout",
          "output_type": "stream",
          "text": [
            "cannot identify image file '/content/drive/MyDrive/Classroom/Học máy 1 Phần cơ sở/final_test1/PetImages/Cat/Thumbs.db'\n",
            "cannot identify image file '/content/drive/MyDrive/Classroom/Học máy 1 Phần cơ sở/final_test1/PetImages/Cat/666.jpg'\n",
            "'NoneType' object has no attribute 'ReadAsArray'\n",
            "cannot identify image file '/content/drive/MyDrive/Classroom/Học máy 1 Phần cơ sở/final_test1/PetImages/Dog/Thumbs.db'\n"
          ]
        },
        {
          "metadata": {
            "tags": null
          },
          "name": "stderr",
          "output_type": "stream",
          "text": [
            "/usr/local/lib/python3.8/dist-packages/PIL/TiffImagePlugin.py:767: UserWarning: Possibly corrupt EXIF data.  Expecting to read 32 bytes but only got 0. Skipping tag 270\n",
            "  warnings.warn(\n",
            "/usr/local/lib/python3.8/dist-packages/PIL/TiffImagePlugin.py:767: UserWarning: Possibly corrupt EXIF data.  Expecting to read 5 bytes but only got 0. Skipping tag 271\n",
            "  warnings.warn(\n",
            "/usr/local/lib/python3.8/dist-packages/PIL/TiffImagePlugin.py:767: UserWarning: Possibly corrupt EXIF data.  Expecting to read 8 bytes but only got 0. Skipping tag 272\n",
            "  warnings.warn(\n",
            "/usr/local/lib/python3.8/dist-packages/PIL/TiffImagePlugin.py:767: UserWarning: Possibly corrupt EXIF data.  Expecting to read 8 bytes but only got 0. Skipping tag 282\n",
            "  warnings.warn(\n",
            "/usr/local/lib/python3.8/dist-packages/PIL/TiffImagePlugin.py:767: UserWarning: Possibly corrupt EXIF data.  Expecting to read 8 bytes but only got 0. Skipping tag 283\n",
            "  warnings.warn(\n",
            "/usr/local/lib/python3.8/dist-packages/PIL/TiffImagePlugin.py:767: UserWarning: Possibly corrupt EXIF data.  Expecting to read 20 bytes but only got 0. Skipping tag 306\n",
            "  warnings.warn(\n",
            "/usr/local/lib/python3.8/dist-packages/PIL/TiffImagePlugin.py:767: UserWarning: Possibly corrupt EXIF data.  Expecting to read 48 bytes but only got 0. Skipping tag 532\n",
            "  warnings.warn(\n",
            "/usr/local/lib/python3.8/dist-packages/PIL/TiffImagePlugin.py:788: UserWarning: Corrupt EXIF data.  Expecting to read 2 bytes but only got 0. \n",
            "  warnings.warn(str(msg))\n"
          ]
        },
        {
          "output_type": "stream",
          "name": "stdout",
          "text": [
            "cannot identify image file '/content/drive/MyDrive/Classroom/Học máy 1 Phần cơ sở/final_test1/PetImages/Dog/11702.jpg'\n",
            "{0: 12499, 1: 12499}\n",
            "HUẤN LUYỆN MÔ HÌNH LOGISTIC REGRESSION\n",
            "Kết quả dự đoán của mô hình logistic regression:\n",
            " [0 0 0 ... 0 0 0]\n",
            "\n",
            "Confusion matrix, without normalization\n",
            "[[2229 1442]\n",
            " [1749 2080]]\n"
          ]
        },
        {
          "output_type": "display_data",
          "data": {
            "text/plain": [
              "<Figure size 432x288 with 2 Axes>"
            ],
            "image/png": "[encoded data removed]"
          },
          "metadata": {
            "needs_background": "light"
          }
        },
        {
          "output_type": "stream",
          "name": "stdout",
          "text": [
            "\n",
            "Đánh giá hiệu năng của mô hình logistic regression\n",
            "accuracy score:  0.5745333333333333\n",
            "Balandced accuracy score:  0.5752071372617706\n",
            "Haming loss:  0.42546666666666666\n",
            "Classification report:\n",
            "              precision    recall  f1-score   support\n",
            "\n",
            "           0       0.56      0.61      0.58      3671\n",
            "           1       0.59      0.54      0.57      3829\n",
            "\n",
            "    accuracy                           0.57      7500\n",
            "   macro avg       0.58      0.58      0.57      7500\n",
            "weighted avg       0.58      0.57      0.57      7500\n",
            "\n",
            "\n",
            "\tprecision_recall_curve mô hình logistic\n"
          ]
        },
        {
          "output_type": "display_data",
          "data": {
            "text/plain": [
              "<Figure size 432x288 with 1 Axes>"
            ],
            "image/png": "[encoded data removed]"
          },
          "metadata": {
            "needs_background": "light"
          }
        },
        {
          "output_type": "stream",
          "name": "stdout",
          "text": [
            "\n",
            "\tROC mô hình logistic_classifier\n"
          ]
        },
        {
          "output_type": "display_data",
          "data": {
            "text/plain": [
              "<Figure size 432x288 with 1 Axes>"
            ],
            "image/png": "[encoded data removed]"
          },
          "metadata": {
            "needs_background": "light"
          }
        },
        {
          "output_type": "stream",
          "name": "stdout",
          "text": [
            "\n",
            "\n",
            "HUẤN LUYỆN MÔ HÌNH k-NN\n",
            "Kết quả dự đoán của mô hình k lân cận:\n",
            " [1 0 0 ... 1 0 0]\n",
            "\n",
            "Confusion matrix, without normalization\n",
            "[[2030 1641]\n",
            " [1269 2560]]\n"
          ]
        },
        {
          "output_type": "display_data",
          "data": {
            "text/plain": [
              "<Figure size 432x288 with 2 Axes>"
            ],
            "image/png": "[encoded data removed]"
          },
          "metadata": {
            "needs_background": "light"
          }
        },
        {
          "output_type": "stream",
          "name": "stdout",
          "text": [
            "\n",
            "Đánh giá hiệu năng của mô hình k lân cận\n",
            "accuracy score:  0.612\n",
            "Balandced accuracy score:  0.610782356813431\n",
            "Haming loss:  0.388\n",
            "Classification report:\n",
            "              precision    recall  f1-score   support\n",
            "\n",
            "           0       0.62      0.55      0.58      3671\n",
            "           1       0.61      0.67      0.64      3829\n",
            "\n",
            "    accuracy                           0.61      7500\n",
            "   macro avg       0.61      0.61      0.61      7500\n",
            "weighted avg       0.61      0.61      0.61      7500\n",
            "\n",
            "\n",
            "\tprecision_recall_curve mô hình k-NN\n"
          ]
        },
        {
          "output_type": "display_data",
          "data": {
            "text/plain": [
              "<Figure size 432x288 with 1 Axes>"
            ],
            "image/png": "[encoded data removed]"
          },
          "metadata": {
            "needs_background": "light"
          }
        },
        {
          "output_type": "stream",
          "name": "stdout",
          "text": [
            "\n",
            "\tROC mô hình k-NN\n"
          ]
        },
        {
          "output_type": "display_data",
          "data": {
            "text/plain": [
              "<Figure size 432x288 with 1 Axes>"
            ],
            "image/png": "[encoded data removed]"
          },
          "metadata": {
            "needs_background": "light"
          }
        },
        {
          "output_type": "stream",
          "name": "stdout",
          "text": [
            "Cat:  [0 1]\n",
            "Dog:  [12499 12499]\n",
            "{0: 12499, 1: 12499}\n",
            "None\n",
            "\n",
            "Bảng so sánh hai mô hình logistic regression và k-NN\n",
            "      Scores       kNN  Logistic regression\n",
            "0   accuracy  0.612000             0.574533\n",
            "1  precision  0.609379             0.590574\n",
            "2     recall  0.668582             0.543223\n",
            "3         f1  0.637609             0.565909\n"
          ]
        },
        {
          "output_type": "stream",
          "name": "stderr",
          "text": [
            "/usr/local/lib/python3.8/dist-packages/seaborn/_decorators.py:36: FutureWarning: Pass the following variable as a keyword arg: x. From version 0.12, the only valid positional argument will be `data`, and passing other arguments without an explicit keyword will result in an error or misinterpretation.\n",
            "  warnings.warn(\n"
          ]
        },
        {
          "output_type": "display_data",
          "data": {
            "text/plain": [
              "<Figure size 432x288 with 1 Axes>"
            ],
            "image/png": "[encoded data removed]"
          },
          "metadata": {
            "needs_background": "light"
          }
        }
      ]
    }
  ],
  "metadata": {
    "accelerator": "GPU",
    "colab": {
      "provenance": [],
      "include_colab_link": true
    },
    "gpuClass": "standard",
    "kernelspec": {
      "display_name": "Python 3",
      "name": "python3"
    },
    "language_info": {
      "name": "python"
    }
  },
  "nbformat": 4,
  "nbformat_minor": 0
}